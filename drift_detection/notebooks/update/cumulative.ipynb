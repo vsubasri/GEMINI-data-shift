{
 "cells": [
  {
   "cell_type": "markdown",
   "id": "2820e910-d3f5-47d0-a600-f688df3daada",
   "metadata": {},
   "source": [
    "### Retraining, using all of the encounters to-date"
   ]
  },
  {
   "cell_type": "code",
   "execution_count": 22,
   "id": "d995dcd3-fb7a-4398-b8b8-984c2ddc78be",
   "metadata": {},
   "outputs": [],
   "source": [
    "import datetime\n",
    "import os\n",
    "import random\n",
    "import scipy.stats\n",
    "from datetime import date\n",
    "import matplotlib.pyplot as plt\n",
    "import numpy as np\n",
    "import pandas as pd\n",
    "import scipy.stats as st\n",
    "from matplotlib.colors import ListedColormap\n",
    "from scipy.stats import pearsonr, spearmanr\n",
    "import pickle\n",
    "from alibi_detect.cd.pytorch import HiddenOutput\n",
    "\n",
    "from cyclops.utils.file import load_pickle, save_pickle\n",
    "\n",
    "from cyclops.processors.column_names import (\n",
    "    ADMIT_TIMESTAMP,\n",
    "    DISCHARGE_TIMESTAMP,\n",
    "    ENCOUNTER_ID,\n",
    "    EVENT_NAME,\n",
    "    EVENT_TIMESTAMP,\n",
    "    EVENT_VALUE,\n",
    "    RESTRICT_TIMESTAMP,\n",
    "    TIMESTEP,\n",
    ")\n",
    "import torch.nn as nn\n",
    "import torch.optim as optim\n",
    "from models.temporal.optimizer import Optimizer, EarlyStopper\n",
    "from drift_detection.drift_detector.clinical_applicator import ClinicalShiftApplicator\n",
    "from drift_detection.drift_detector.detector import Detector\n",
    "from drift_detection.drift_detector.experimenter import Experimenter\n",
    "from drift_detection.drift_detector.plotter import plot_drift_samples_pval\n",
    "from drift_detection.drift_detector.reductor import Reductor\n",
    "from drift_detection.drift_detector.tester import DCTester, TSTester\n",
    "from drift_detection.gemini.constants import DIAGNOSIS_DICT, ACADEMIC, COMMUNITY, HOSPITALS\n",
    "from drift_detection.gemini.utils import get_use_case_params, impute, prep, import_dataset_hospital\n",
    "from models.temporal.utils import (\n",
    "    get_device,\n",
    "    load_checkpoint,\n",
    ")\n",
    "from cyclops.processors.constants import ALL, FEATURES, MEAN, NUMERIC, ORDINAL, STANDARD\n",
    "from cyclops.processors.feature.vectorize import (\n",
    "    Vectorized,\n",
    "    intersect_vectorized,\n",
    "    split_vectorized,\n",
    "    vec_index_exp,\n",
    ")\n",
    "from drift_detection.drift_detector.utils import get_serving_data, get_temporal_model\n",
    "from drift_detection.retrainers.cumulative import CumulativeRetrainer"
   ]
  },
  {
   "cell_type": "markdown",
   "id": "95b0bc00-3c3e-4846-a89f-3d5ad2c15b8c",
   "metadata": {},
   "source": [
    "## Get parameters"
   ]
  },
  {
   "cell_type": "code",
   "execution_count": 11,
   "id": "17cff9cf-c682-4973-ab27-1161b70d516a",
   "metadata": {},
   "outputs": [
    {
     "name": "stdin",
     "output_type": "stream",
     "text": [
      "Select data split:  simulated_deployment\n",
      "Select diagnosis trajectory to filter on:  all\n",
      "Select hospital to filter on:  all\n"
     ]
    }
   ],
   "source": [
    "DATASET = \"gemini\"\n",
    "USE_CASE = \"mortality\"\n",
    "PATH = \"/mnt/nfs/project/delirium/drift_exp/OCT-18-2022/\"\n",
    "TIMESTEPS = 6\n",
    "AGGREGATION_TYPE = \"time\"   \n",
    "ID = SHIFT = input(\"Select data split: \")\n",
    "DIAGNOSIS_TRAJECTORY = input(\"Select diagnosis trajectory to filter on: \") \n",
    "HOSPITAL = input(\"Select hospital to filter on: \") \n",
    "\n",
    "splice_map = {\n",
    "    \"hospital_id\": HOSPITALS\n",
    "}\n",
    "\n",
    "if DIAGNOSIS_TRAJECTORY != \"all\":\n",
    "    diagnosis_trajectory = '_'.join(DIAGNOSIS_DICT[DIAGNOSIS_TRAJECTORY])\n",
    "    ID = ID +\"_\"+ diagnosis_trajectory\n",
    "    splice_map[\"diagnosis_trajectory\"] = [diagnosis_trajectory]\n",
    "    \n",
    "if HOSPITAL != \"all\":\n",
    "    ID = HOSPITAL + \"_\" + ID \n",
    "    splice_map[\"hospital_id\"] = [HOSPITAL]\n",
    "    \n",
    "use_case_params = get_use_case_params(DATASET, USE_CASE)\n",
    "\n",
    "    \n",
    "MODEL_PATH = os.path.join(\n",
    "    PATH,\n",
    "    DATASET,\n",
    "    USE_CASE,\n",
    "    \"saved_models\",\n",
    "    \"simulated_deployment_reweight_positive_lstm_1.pt\"\n",
    ")"
   ]
  },
  {
   "cell_type": "markdown",
   "id": "a468f8d3-19f5-44ab-843f-917a61dc45de",
   "metadata": {},
   "source": [
    "## Get data"
   ]
  },
  {
   "cell_type": "code",
   "execution_count": 12,
   "id": "93113177-c6d6-44af-9f74-0c043c781416",
   "metadata": {},
   "outputs": [
    {
     "name": "stderr",
     "output_type": "stream",
     "text": [
      "2023-01-31 15:57:28,918 \u001b[1;37mINFO\u001b[0m cyclops.utils.file - Loading pickled data from /mnt/nfs/project/delirium/drift_exp/OCT-18-2022/gemini/mortality/./data/tab_features.pkl\n",
      "2023-01-31 15:57:28,939 \u001b[1;37mINFO\u001b[0m cyclops.utils.file - Loading pickled data from /mnt/nfs/project/delirium/drift_exp/OCT-18-2022/gemini/mortality/./data/4-final/aligned_comb_train_X_simulated_deployment.pkl\n",
      "2023-01-31 15:57:29,512 \u001b[1;37mINFO\u001b[0m cyclops.utils.file - Loading pickled data from /mnt/nfs/project/delirium/drift_exp/OCT-18-2022/gemini/mortality/./data/4-final/aligned_comb_train_y_simulated_deployment.pkl\n",
      "2023-01-31 15:57:29,557 \u001b[1;37mINFO\u001b[0m cyclops.utils.file - Loading pickled data from /mnt/nfs/project/delirium/drift_exp/OCT-18-2022/gemini/mortality/./data/4-final/aligned_comb_val_X_simulated_deployment.pkl\n",
      "2023-01-31 15:57:29,681 \u001b[1;37mINFO\u001b[0m cyclops.utils.file - Loading pickled data from /mnt/nfs/project/delirium/drift_exp/OCT-18-2022/gemini/mortality/./data/4-final/aligned_comb_val_y_simulated_deployment.pkl\n",
      "2023-01-31 15:57:29,694 \u001b[1;37mINFO\u001b[0m cyclops.utils.file - Loading pickled data from /mnt/nfs/project/delirium/drift_exp/OCT-18-2022/gemini/mortality/./data/4-final/aligned_comb_test_X_simulated_deployment.pkl\n",
      "2023-01-31 15:57:29,882 \u001b[1;37mINFO\u001b[0m cyclops.utils.file - Loading pickled data from /mnt/nfs/project/delirium/drift_exp/OCT-18-2022/gemini/mortality/./data/4-final/aligned_comb_test_y_simulated_deployment.pkl\n"
     ]
    }
   ],
   "source": [
    "random.seed(1)\n",
    "\n",
    "tab_features = load_pickle(use_case_params.TAB_FEATURES_FILE)\n",
    "\n",
    "use_case_params = get_use_case_params(DATASET, USE_CASE)\n",
    "\n",
    "(X_tr_final, y_tr), (X_val_final, y_val), (X_t_final, y_t) = import_dataset_hospital(\n",
    "    use_case_params.TAB_VEC_COMB, ID, train_frac=0.8, shuffle=True,\n",
    ")"
   ]
  },
  {
   "cell_type": "markdown",
   "id": "cb0a5be5-e6e5-48da-aa6a-94511b907a69",
   "metadata": {},
   "source": [
    "## Create data streams"
   ]
  },
  {
   "cell_type": "code",
   "execution_count": 13,
   "id": "950b8746-7262-489e-bd31-c4e381900525",
   "metadata": {},
   "outputs": [],
   "source": [
    "START_DATE = date(2019, 1, 1)\n",
    "END_DATE = date(2020, 8, 1)"
   ]
  },
  {
   "cell_type": "code",
   "execution_count": 14,
   "id": "bb69e041-279e-4066-8fa4-da82e81622f2",
   "metadata": {},
   "outputs": [
    {
     "name": "stderr",
     "output_type": "stream",
     "text": [
      "2023-01-31 15:57:31,469 \u001b[1;37mINFO\u001b[0m cyclops.utils.file - Loading pickled data from /mnt/nfs/project/delirium/drift_exp/OCT-18-2022/gemini/mortality/drift/data_streams_simulated_deployment_2019-01-01_2020-08-01.pkl\n"
     ]
    },
    {
     "name": "stdout",
     "output_type": "stream",
     "text": [
      "Get target data streams...\n"
     ]
    }
   ],
   "source": [
    "print(\"Get target data streams...\")\n",
    "data_streams_filepath = os.path.join(\n",
    "    PATH,\n",
    "    DATASET,\n",
    "    USE_CASE,\n",
    "    \"drift\",\n",
    "    \"data_streams_\"+ID+\"_\"+str(START_DATE)+\"_\"+str(END_DATE)+\".pkl\"\n",
    ")\n",
    "data_streams_filepath\n",
    "\n",
    "if os.path.exists(data_streams_filepath):\n",
    "    data_streams = load_pickle(data_streams_filepath)\n",
    "else:\n",
    "    tab_vectorized = load_pickle(use_case_params.TAB_VECTORIZED_FILE)\n",
    "    comb_vectorized = load_pickle(use_case_params.COMB_VECTORIZED_FILE)\n",
    "\n",
    "\n",
    "    ids = tab_features.slice(splice_map)\n",
    "    tab_vectorized = tab_vectorized.take_with_index(ENCOUNTER_ID, ids)\n",
    "    # intersect tabular and temporal vectors of source data\n",
    "    tab_vectorized, comb_vectorized = intersect_vectorized(\n",
    "        [tab_vectorized, comb_vectorized], axes=ENCOUNTER_ID\n",
    "    )\n",
    "    numeric_features = tab_features.features_by_type(NUMERIC)    \n",
    "    normalizer_map = {feat: STANDARD for feat in numeric_features}\n",
    "    comb_vectorized.add_normalizer(\n",
    "        EVENT_NAME,\n",
    "        normalization_method=STANDARD,\n",
    "    )\n",
    "    X, y = comb_vectorized.split_out(EVENT_NAME, use_case_params.TEMP_TARGETS)\n",
    "    X = impute(X)\n",
    "    X.fit_normalizer()\n",
    "    X.normalize()\n",
    "\n",
    "    X_final = prep(X)\n",
    "    ind = pd.MultiIndex.from_product(\n",
    "            [X.indexes[1], range(6)], names=[ENCOUNTER_ID, TIMESTEP]\n",
    "    )\n",
    "    X_final = pd.DataFrame(X_final.reshape(X_final.shape[0]*X_final.shape[1], X_final.shape[2]),index=ind, columns=X.indexes[2])\n",
    "    y_final = y.data.reshape(y.data.shape[1],y.data.shape[3])\n",
    "\n",
    "    data_streams = get_serving_data(\n",
    "        X_final,\n",
    "        y_final,\n",
    "        tab_features.data,\n",
    "        START_DATE,\n",
    "        END_DATE,\n",
    "        stride=1,\n",
    "        window=1,\n",
    "        encounter_id=\"encounter_id\",\n",
    "        admit_timestamp=\"admit_timestamp\",\n",
    "    )\n",
    "    save_pickle(data_streams, data_streams_filepath)"
   ]
  },
  {
   "cell_type": "markdown",
   "id": "ea405f03-59e3-4e6a-a604-6f8b30846860",
   "metadata": {},
   "source": [
    "## Get shift detector"
   ]
  },
  {
   "cell_type": "code",
   "execution_count": 15,
   "id": "b5268d3d-a89b-409a-abd9-5e0a7c91ff08",
   "metadata": {},
   "outputs": [
    {
     "name": "stdout",
     "output_type": "stream",
     "text": [
      "Get Shift Reductor...\n",
      "Loading model...\n",
      "Get Shift Detector...\n"
     ]
    }
   ],
   "source": [
    "DR_TECHNIQUE = \"BBSDs_trained_LSTM\"\n",
    "TESTER_METHOD = \"ks\"\n",
    "THRESHOLD = 0.01\n",
    "UPDATE_REF=25000\n",
    "\n",
    "print(\"Get Shift Reductor...\")\n",
    "reductor = Reductor(\n",
    "    dr_method=DR_TECHNIQUE,\n",
    "    model_path=MODEL_PATH,\n",
    "    n_features=X_tr_final.shape[2],\n",
    "    var_ret=0.8,\n",
    ")\n",
    "\n",
    "tstesters=[\"lk\", \"lsdd\", \"mmd\", \"tabular\", \"ctx_mmd\",\"chi2\", \"fet\", \"ks\" ]\n",
    "dctesters =[\"spot_the_diff\", \"classifier\", \"classifier_uncertainty\"]\n",
    "CONTEXT_TYPE=None\n",
    "REPRESENTATION=None\n",
    "\n",
    "if TESTER_METHOD in tstesters:\n",
    "    tester = TSTester(\n",
    "        tester_method=TESTER_METHOD,\n",
    "    )\n",
    "    if TESTER_METHOD == \"ctx_mmd\":\n",
    "        CONTEXT_TYPE = input(\"Select context type: \")\n",
    "        \n",
    "elif TESTER_METHOD in dctesters:\n",
    "    MODEL_METHOD = input(\"Select model method: \")\n",
    "    tester = DCTester(\n",
    "        tester_method=TESTER_METHOD,\n",
    "        model_method=MODEL_METHOD,\n",
    "    )\n",
    "        \n",
    "    if TESTER_METHOD == \"lk\":\n",
    "        REPRESENTATION = input(\"Select learned kernel representation: \")\n",
    "else:\n",
    "    print(\"Tester method invalid or not supported.\")\n",
    "    \n",
    "print(\"Get Shift Detector...\")\n",
    "detector = Detector(\n",
    "    reductor=reductor,\n",
    "    tester=tester\n",
    ")\n",
    "\n",
    "detector.fit(\n",
    "        X_val_final,\n",
    "        backend=\"pytorch\",\n",
    "        device = \"cuda\",\n",
    "        model_path = MODEL_PATH,\n",
    "        batch_size=32,\n",
    "        verbose=0,\n",
    "        alternative=\"greater\",\n",
    "        correction=\"bonferroni\",\n",
    "        input_dim=X_tr_final.shape[2],\n",
    "        update_x_ref={'last': UPDATE_REF}\n",
    ")"
   ]
  },
  {
   "cell_type": "markdown",
   "id": "907b2730-50ba-44fb-9df5-8e7fcaa468cd",
   "metadata": {},
   "source": [
    "## Retrain"
   ]
  },
  {
   "cell_type": "code",
   "execution_count": 16,
   "id": "f819add5-e5c7-4215-89dc-4506211f2c1f",
   "metadata": {},
   "outputs": [
    {
     "name": "stdout",
     "output_type": "stream",
     "text": [
      "Update.\n"
     ]
    }
   ],
   "source": [
    "retrain = \"update\"\n",
    "model_name = \"lstm\"\n",
    "output_dim = 1\n",
    "input_dim = X_tr_final.shape[2]\n",
    "hidden_dim = 64\n",
    "layer_dim = 2\n",
    "dropout = 0.2\n",
    "last_timestep_only = False\n",
    "device = get_device()\n",
    "\n",
    "model_params = {\n",
    "    \"device\": device,\n",
    "    \"input_dim\": input_dim,\n",
    "    \"hidden_dim\": hidden_dim,\n",
    "    \"layer_dim\": layer_dim,\n",
    "    \"output_dim\": output_dim,\n",
    "    \"dropout_prob\": dropout,\n",
    "    \"last_timestep_only\": last_timestep_only,\n",
    "}\n",
    "\n",
    "if model_name in [\"rnn\", \"gru\", \"lstm\"]:\n",
    "    model = get_temporal_model(model_name, model_params).to(device)\n",
    "\n",
    "    if retrain == \"update\":\n",
    "        print(\"Update.\")\n",
    "        model, opt, _ = load_checkpoint(MODEL_PATH, model)\n",
    "        n_epochs = 1\n",
    "        opt.clipping_value = 1\n",
    "    elif retrain == \"retrain\":\n",
    "        print(\"Retrain.\")\n",
    "        n_epochs = 64\n",
    "        learning_rate = 2e-3\n",
    "        weight_decay = 1e-6\n",
    "        clipping_value = 1\n",
    "        reweight_positive = (y_tr == 0).sum() / (y_tr == 1).sum() * 2\n",
    "        loss_fn = nn.BCEWithLogitsLoss(reduction=\"none\")\n",
    "        optimizer = optim.Adagrad(\n",
    "            model.parameters(), lr=learning_rate, weight_decay=weight_decay\n",
    "        )\n",
    "        lr_scheduler = optim.lr_scheduler.StepLR(optimizer, step_size=128, gamma=0.5)\n",
    "        activation = nn.Sigmoid()\n",
    "        earlystopper = EarlyStopper(patience=3, min_delta=0)\n",
    "        opt = Optimizer(\n",
    "            model=model,\n",
    "            loss_fn=loss_fn,\n",
    "            optimizer=optimizer,\n",
    "            activation=activation,\n",
    "            lr_scheduler=lr_scheduler,\n",
    "            reweight_positive=reweight_positive,\n",
    "            earlystopper = earlystopper,\n",
    "            clipping_value = clipping_value\n",
    "        )\n",
    "    else:\n",
    "        print(\"Do nothing.\")\n",
    "# elif model_name == \"gbt\":\n",
    "#     with open(model_path, \"rb\") as f:\n",
    "#         model = pickle.load(f)\n",
    "else:\n",
    "    print(\"Unsupported model\")"
   ]
  },
  {
   "cell_type": "code",
   "execution_count": 17,
   "id": "9267fc0a-796e-42fe-923c-c140d9cb6d98",
   "metadata": {},
   "outputs": [],
   "source": [
    "SAMPLE = 1000\n",
    "STAT_WINDOW = 14\n",
    "LOOKUP_WINDOW = 0\n",
    "STRIDE = 1\n",
    "THRESHOLD = 0.01"
   ]
  },
  {
   "cell_type": "code",
   "execution_count": 21,
   "id": "3935897c-c34a-4549-a54e-9f3ca2ffed45",
   "metadata": {},
   "outputs": [
    {
     "name": "stderr",
     "output_type": "stream",
     "text": [
      "\n",
      "  0%|          | 0/534 [00:00<?, ?it/s]\u001b[A"
     ]
    },
    {
     "name": "stdout",
     "output_type": "stream",
     "text": [
      "Calibrating drift detector...\n"
     ]
    },
    {
     "name": "stderr",
     "output_type": "stream",
     "text": [
      "\n",
      "  9%|▉         | 50/534 [00:15<02:30,  3.21it/s]\u001b[A"
     ]
    },
    {
     "name": "stdout",
     "output_type": "stream",
     "text": [
      "P-value below threshold for  2019-02-07 - 2019-02-21 \tP-Value:  6.785589e-13\n",
      "Retrain  lstm  on:  2019-01-02 - 2019-02-07\n",
      "[1/1] Training loss: 1.5813\t                 Validation loss: 1.6623\n",
      "P-value below threshold for  2019-02-08 - 2019-02-22 \tP-Value:  2.0544115e-12\n",
      "Retrain  lstm  on:  2019-01-02 - 2019-02-08\n",
      "[1/1] Training loss: 1.6073\t                 Validation loss: 1.5812\n",
      "P-value below threshold for  2019-02-09 - 2019-02-23 \tP-Value:  4.538124e-11\n",
      "Retrain  lstm  on:  2019-01-02 - 2019-02-09\n",
      "[1/1] Training loss: 1.7297\t                 Validation loss: 1.4130\n",
      "P-value below threshold for  2019-02-10 - 2019-02-24 \tP-Value:  5.7628995e-11\n",
      "Retrain  lstm  on:  2019-01-02 - 2019-02-10\n",
      "[1/1] Training loss: 1.4691\t                 Validation loss: 1.9585\n",
      "P-value below threshold for  2019-02-11 - 2019-02-25 \tP-Value:  5.948557e-10\n",
      "Retrain  lstm  on:  2019-01-02 - 2019-02-11\n",
      "[1/1] Training loss: 1.9028\t                 Validation loss: 1.4171\n",
      "P-value below threshold for  2019-02-12 - 2019-02-26 \tP-Value:  2.1964996e-09\n",
      "Retrain  lstm  on:  2019-01-02 - 2019-02-12\n",
      "[1/1] Training loss: 1.6673\t                 Validation loss: 1.5472\n",
      "P-value below threshold for  2019-02-13 - 2019-02-27 \tP-Value:  1.3116958e-08\n",
      "Retrain  lstm  on:  2019-01-02 - 2019-02-13\n",
      "[1/1] Training loss: 1.7912\t                 Validation loss: 1.3152\n",
      "P-value below threshold for  2019-02-14 - 2019-02-28 \tP-Value:  2.4362618e-07\n",
      "Retrain  lstm  on:  2019-01-02 - 2019-02-14\n",
      "[1/1] Training loss: 1.5924\t                 Validation loss: 1.5765\n",
      "P-value below threshold for  2019-02-15 - 2019-03-01 \tP-Value:  1.8355843e-06\n",
      "Retrain  lstm  on:  2019-01-02 - 2019-02-15\n",
      "[1/1] Training loss: 1.7934\t                 Validation loss: 1.6416\n",
      "P-value below threshold for  2019-02-16 - 2019-03-02 \tP-Value:  2.1010836e-05\n",
      "Retrain  lstm  on:  2019-01-02 - 2019-02-16\n",
      "[1/1] Training loss: 1.6193\t                 Validation loss: 1.9445\n",
      "P-value below threshold for  2019-02-17 - 2019-03-03 \tP-Value:  0.00018467748\n",
      "Retrain  lstm  on:  2019-01-02 - 2019-02-17\n",
      "[1/1] Training loss: 1.5769\t                 Validation loss: 2.1238\n",
      "P-value below threshold for  2019-02-18 - 2019-03-04 \tP-Value:  0.00026298573\n",
      "Retrain  lstm  on:  2019-01-02 - 2019-02-18\n",
      "[1/1] Training loss: 1.7147\t                 Validation loss: 1.6415\n",
      "P-value below threshold for  2019-02-19 - 2019-03-05 \tP-Value:  0.0024105443\n",
      "Retrain  lstm  on:  2019-01-02 - 2019-02-19\n",
      "[1/1] Training loss: 1.7835\t                 Validation loss: 1.4356\n",
      "P-value below threshold for  2019-02-20 - 2019-03-06 \tP-Value:  0.008229383\n",
      "Retrain  lstm  on:  2019-01-02 - 2019-02-20\n",
      "[1/1] Training loss: 1.9052\t                 Validation loss: 2.1488\n",
      "P-value below threshold for  2019-02-23 - 2019-03-09 \tP-Value:  0.005225665\n",
      "Retrain  lstm  on:  2019-01-02 - 2019-02-23\n",
      "[1/1] Training loss: 1.2871\t                 Validation loss: 2.0198\n",
      "P-value below threshold for  2019-02-24 - 2019-03-10 \tP-Value:  0.0014630833\n",
      "Retrain  lstm  on:  2019-01-02 - 2019-02-24\n",
      "[1/1] Training loss: 1.6023\t                 Validation loss: 2.1265\n",
      "P-value below threshold for  2019-02-25 - 2019-03-11 \tP-Value:  0.005539582\n",
      "Retrain  lstm  on:  2019-01-02 - 2019-02-25\n",
      "[1/1] Training loss: 1.6476\t                 Validation loss: 1.8194\n",
      "P-value below threshold for  2019-02-26 - 2019-03-12 \tP-Value:  0.0085177\n",
      "Retrain  lstm  on:  2019-01-02 - 2019-02-26\n",
      "[1/1] Training loss: 2.0696\t                 Validation loss: 1.9989\n",
      "P-value below threshold for  2019-03-06 - 2019-03-20 \tP-Value:  0.008081108\n",
      "Retrain  lstm  on:  2019-01-02 - 2019-03-06\n",
      "[1/1] Training loss: 1.7755\t                 Validation loss: 1.5786\n",
      "P-value below threshold for  2019-03-07 - 2019-03-21 \tP-Value:  0.0062493747\n",
      "Retrain  lstm  on:  2019-01-02 - 2019-03-07\n",
      "[1/1] Training loss: 1.6521\t                 Validation loss: 1.3348\n",
      "P-value below threshold for  2019-03-08 - 2019-03-22 \tP-Value:  0.005834975\n",
      "Retrain  lstm  on:  2019-01-02 - 2019-03-08\n",
      "[1/1] Training loss: 1.6803\t                 Validation loss: 1.6555\n",
      "P-value below threshold for  2019-03-09 - 2019-03-23 \tP-Value:  0.009364538\n",
      "Retrain  lstm  on:  2019-01-02 - 2019-03-09\n",
      "[1/1] Training loss: 1.6534\t                 Validation loss: 1.9243\n",
      "P-value below threshold for  2019-03-10 - 2019-03-24 \tP-Value:  0.004715432\n",
      "Retrain  lstm  on:  2019-01-02 - 2019-03-10\n",
      "[1/1] Training loss: 1.8895\t                 Validation loss: 1.1669\n",
      "P-value below threshold for  2019-03-11 - 2019-03-25 \tP-Value:  0.0051898835\n",
      "Retrain  lstm  on:  2019-01-02 - 2019-03-11\n",
      "[1/1] Training loss: 1.9623\t                 Validation loss: 1.2351\n",
      "P-value below threshold for  2019-03-16 - 2019-03-30 \tP-Value:  0.0051024766\n",
      "Retrain  lstm  on:  2019-01-02 - 2019-03-16\n",
      "[1/1] Training loss: 1.7061\t                 Validation loss: 1.3150\n"
     ]
    },
    {
     "name": "stderr",
     "output_type": "stream",
     "text": [
      "\n",
      " 19%|█▊        | 100/534 [01:24<06:07,  1.18it/s]\u001b[A\n",
      " 28%|██▊       | 150/534 [02:17<06:00,  1.07it/s]\u001b[A"
     ]
    },
    {
     "name": "stdout",
     "output_type": "stream",
     "text": [
      "P-value below threshold for  2019-06-10 - 2019-06-24 \tP-Value:  0.006469205\n",
      "Retrain  lstm  on:  2019-01-02 - 2019-06-10\n",
      "[1/1] Training loss: 1.7964\t                 Validation loss: 1.5937\n",
      "P-value below threshold for  2019-06-11 - 2019-06-25 \tP-Value:  0.005338681\n",
      "Retrain  lstm  on:  2019-01-02 - 2019-06-11\n",
      "[1/1] Training loss: 1.7833\t                 Validation loss: 1.7084\n",
      "P-value below threshold for  2019-06-12 - 2019-06-26 \tP-Value:  0.0041617895\n",
      "Retrain  lstm  on:  2019-01-02 - 2019-06-12\n",
      "[1/1] Training loss: 1.7534\t                 Validation loss: 1.7056\n",
      "P-value below threshold for  2019-06-13 - 2019-06-27 \tP-Value:  0.00539435\n",
      "Retrain  lstm  on:  2019-01-02 - 2019-06-13\n",
      "[1/1] Training loss: 1.7281\t                 Validation loss: 1.3974\n",
      "P-value below threshold for  2019-06-14 - 2019-06-28 \tP-Value:  0.0015159517\n",
      "Retrain  lstm  on:  2019-01-02 - 2019-06-14\n",
      "[1/1] Training loss: 1.7722\t                 Validation loss: 1.6407\n",
      "P-value below threshold for  2019-06-15 - 2019-06-29 \tP-Value:  0.0030760698\n",
      "Retrain  lstm  on:  2019-01-02 - 2019-06-15\n",
      "[1/1] Training loss: 1.7838\t                 Validation loss: 1.9458\n",
      "P-value below threshold for  2019-06-16 - 2019-06-30 \tP-Value:  0.0036064212\n",
      "Retrain  lstm  on:  2019-01-02 - 2019-06-16\n",
      "[1/1] Training loss: 1.6635\t                 Validation loss: 2.2301\n",
      "P-value below threshold for  2019-06-18 - 2019-07-02 \tP-Value:  0.009802405\n",
      "Retrain  lstm  on:  2019-01-02 - 2019-06-18\n",
      "[1/1] Training loss: 1.6495\t                 Validation loss: 1.6363\n",
      "P-value below threshold for  2019-07-06 - 2019-07-20 \tP-Value:  0.0063736485\n",
      "Retrain  lstm  on:  2019-01-02 - 2019-07-06\n",
      "[1/1] Training loss: 1.6121\t                 Validation loss: 1.8849\n",
      "P-value below threshold for  2019-07-07 - 2019-07-21 \tP-Value:  0.009168418\n",
      "Retrain  lstm  on:  2019-01-02 - 2019-07-07\n",
      "[1/1] Training loss: 1.7099\t                 Validation loss: 1.6764\n",
      "P-value below threshold for  2019-07-08 - 2019-07-22 \tP-Value:  0.009776933\n",
      "Retrain  lstm  on:  2019-01-02 - 2019-07-08\n",
      "[1/1] Training loss: 1.6573\t                 Validation loss: 1.8277\n"
     ]
    },
    {
     "name": "stderr",
     "output_type": "stream",
     "text": [
      "\n",
      " 37%|███▋      | 200/534 [03:16<05:41,  1.02s/it]\u001b[A"
     ]
    },
    {
     "name": "stdout",
     "output_type": "stream",
     "text": [
      "P-value below threshold for  2019-08-26 - 2019-09-09 \tP-Value:  0.0073037683\n",
      "Retrain  lstm  on:  2019-01-02 - 2019-08-26\n",
      "[1/1] Training loss: 1.7826\t                 Validation loss: 1.5941\n",
      "P-value below threshold for  2019-08-27 - 2019-09-10 \tP-Value:  0.0047208825\n",
      "Retrain  lstm  on:  2019-01-02 - 2019-08-27\n",
      "[1/1] Training loss: 1.7382\t                 Validation loss: 1.8391\n",
      "P-value below threshold for  2019-08-28 - 2019-09-11 \tP-Value:  0.001454898\n",
      "Retrain  lstm  on:  2019-01-02 - 2019-08-28\n",
      "[1/1] Training loss: 1.7635\t                 Validation loss: 1.5710\n",
      "P-value below threshold for  2019-08-29 - 2019-09-12 \tP-Value:  9.9871926e-05\n",
      "Retrain  lstm  on:  2019-01-02 - 2019-08-29\n",
      "[1/1] Training loss: 1.6967\t                 Validation loss: 1.6212\n",
      "P-value below threshold for  2019-08-30 - 2019-09-13 \tP-Value:  0.00033095528\n",
      "Retrain  lstm  on:  2019-01-02 - 2019-08-30\n",
      "[1/1] Training loss: 1.7618\t                 Validation loss: 1.6190\n",
      "P-value below threshold for  2019-08-31 - 2019-09-14 \tP-Value:  0.0002539767\n",
      "Retrain  lstm  on:  2019-01-02 - 2019-08-31\n",
      "[1/1] Training loss: 1.7031\t                 Validation loss: 1.7708\n",
      "P-value below threshold for  2019-09-01 - 2019-09-15 \tP-Value:  0.00011212968\n",
      "Retrain  lstm  on:  2019-01-02 - 2019-09-01\n",
      "[1/1] Training loss: 1.7004\t                 Validation loss: 1.7726\n",
      "P-value below threshold for  2019-09-02 - 2019-09-16 \tP-Value:  6.879628e-05\n",
      "Retrain  lstm  on:  2019-01-02 - 2019-09-02\n",
      "[1/1] Training loss: 1.7291\t                 Validation loss: 1.5534\n",
      "P-value below threshold for  2019-09-03 - 2019-09-17 \tP-Value:  1.220295e-05\n",
      "Retrain  lstm  on:  2019-01-02 - 2019-09-03\n",
      "[1/1] Training loss: 1.6451\t                 Validation loss: 1.6294\n",
      "P-value below threshold for  2019-09-04 - 2019-09-18 \tP-Value:  5.774887e-05\n",
      "Retrain  lstm  on:  2019-01-02 - 2019-09-04\n",
      "[1/1] Training loss: 1.7386\t                 Validation loss: 1.4789\n",
      "P-value below threshold for  2019-09-05 - 2019-09-19 \tP-Value:  4.6824618e-05\n",
      "Retrain  lstm  on:  2019-01-02 - 2019-09-05\n",
      "[1/1] Training loss: 1.8168\t                 Validation loss: 1.4901\n",
      "P-value below threshold for  2019-09-06 - 2019-09-20 \tP-Value:  0.00011433984\n",
      "Retrain  lstm  on:  2019-01-02 - 2019-09-06\n",
      "[1/1] Training loss: 1.6348\t                 Validation loss: 1.5731\n",
      "P-value below threshold for  2019-09-07 - 2019-09-21 \tP-Value:  0.001340766\n",
      "Retrain  lstm  on:  2019-01-02 - 2019-09-07\n",
      "[1/1] Training loss: 1.6676\t                 Validation loss: 1.6490\n",
      "P-value below threshold for  2019-09-08 - 2019-09-22 \tP-Value:  0.00049277185\n",
      "Retrain  lstm  on:  2019-01-02 - 2019-09-08\n",
      "[1/1] Training loss: 1.7722\t                 Validation loss: 1.7243\n"
     ]
    },
    {
     "name": "stderr",
     "output_type": "stream",
     "text": [
      "\n",
      " 47%|████▋     | 250/534 [04:24<05:23,  1.14s/it]\u001b[A"
     ]
    },
    {
     "name": "stdout",
     "output_type": "stream",
     "text": [
      "P-value below threshold for  2019-09-09 - 2019-09-23 \tP-Value:  0.001574738\n",
      "Retrain  lstm  on:  2019-01-02 - 2019-09-09\n",
      "[1/1] Training loss: 1.7603\t                 Validation loss: 1.4782\n",
      "P-value below threshold for  2019-09-10 - 2019-09-24 \tP-Value:  0.007497995\n",
      "Retrain  lstm  on:  2019-01-02 - 2019-09-10\n",
      "[1/1] Training loss: 1.6961\t                 Validation loss: 1.7991\n"
     ]
    },
    {
     "name": "stderr",
     "output_type": "stream",
     "text": [
      "\n",
      " 56%|█████▌    | 300/534 [05:19<04:24,  1.13s/it]\u001b[A"
     ]
    },
    {
     "name": "stdout",
     "output_type": "stream",
     "text": [
      "P-value below threshold for  2019-10-31 - 2019-11-14 \tP-Value:  0.0069316486\n",
      "Retrain  lstm  on:  2019-01-02 - 2019-10-31\n",
      "[1/1] Training loss: 1.6734\t                 Validation loss: 1.8730\n",
      "P-value below threshold for  2019-11-01 - 2019-11-15 \tP-Value:  0.004653837\n",
      "Retrain  lstm  on:  2019-01-02 - 2019-11-01\n",
      "[1/1] Training loss: 1.6642\t                 Validation loss: 1.7887\n",
      "P-value below threshold for  2019-11-02 - 2019-11-16 \tP-Value:  0.00024035397\n",
      "Retrain  lstm  on:  2019-01-02 - 2019-11-02\n",
      "[1/1] Training loss: 1.6839\t                 Validation loss: 1.7612\n",
      "P-value below threshold for  2019-11-03 - 2019-11-17 \tP-Value:  0.00056468445\n",
      "Retrain  lstm  on:  2019-01-02 - 2019-11-03\n",
      "[1/1] Training loss: 1.6912\t                 Validation loss: 1.6377\n",
      "P-value below threshold for  2019-11-04 - 2019-11-18 \tP-Value:  0.000413854\n",
      "Retrain  lstm  on:  2019-01-02 - 2019-11-04\n",
      "[1/1] Training loss: 1.7011\t                 Validation loss: 1.7963\n",
      "P-value below threshold for  2019-11-05 - 2019-11-19 \tP-Value:  6.2981715e-05\n",
      "Retrain  lstm  on:  2019-01-02 - 2019-11-05\n",
      "[1/1] Training loss: 1.7468\t                 Validation loss: 1.6671\n",
      "P-value below threshold for  2019-11-06 - 2019-11-20 \tP-Value:  0.00034364633\n",
      "Retrain  lstm  on:  2019-01-02 - 2019-11-06\n",
      "[1/1] Training loss: 1.6520\t                 Validation loss: 1.7455\n",
      "P-value below threshold for  2019-11-07 - 2019-11-21 \tP-Value:  0.00048709416\n",
      "Retrain  lstm  on:  2019-01-02 - 2019-11-07\n",
      "[1/1] Training loss: 1.6936\t                 Validation loss: 1.6574\n",
      "P-value below threshold for  2019-11-08 - 2019-11-22 \tP-Value:  0.0011234685\n",
      "Retrain  lstm  on:  2019-01-02 - 2019-11-08\n",
      "[1/1] Training loss: 1.7559\t                 Validation loss: 1.5757\n",
      "P-value below threshold for  2019-11-09 - 2019-11-23 \tP-Value:  0.0013081733\n",
      "Retrain  lstm  on:  2019-01-02 - 2019-11-09\n",
      "[1/1] Training loss: 1.7649\t                 Validation loss: 1.6081\n",
      "P-value below threshold for  2019-11-10 - 2019-11-24 \tP-Value:  0.0028538816\n",
      "Retrain  lstm  on:  2019-01-02 - 2019-11-10\n",
      "[1/1] Training loss: 1.7007\t                 Validation loss: 1.7270\n",
      "P-value below threshold for  2019-11-11 - 2019-11-25 \tP-Value:  0.002661364\n",
      "Retrain  lstm  on:  2019-01-02 - 2019-11-11\n",
      "[1/1] Training loss: 1.7060\t                 Validation loss: 1.7087\n"
     ]
    },
    {
     "name": "stderr",
     "output_type": "stream",
     "text": [
      "\n",
      " 66%|██████▌   | 350/534 [06:36<03:51,  1.26s/it]\u001b[A\n",
      " 75%|███████▍  | 400/534 [07:46<02:54,  1.30s/it]\u001b[A"
     ]
    },
    {
     "name": "stdout",
     "output_type": "stream",
     "text": [
      "P-value below threshold for  2020-02-11 - 2020-02-25 \tP-Value:  0.0036329722\n",
      "Retrain  lstm  on:  2019-01-02 - 2020-02-11\n",
      "[1/1] Training loss: 1.6277\t                 Validation loss: 1.6784\n",
      "P-value below threshold for  2020-02-14 - 2020-02-28 \tP-Value:  0.0077996505\n",
      "Retrain  lstm  on:  2019-01-02 - 2020-02-14\n",
      "[1/1] Training loss: 1.6577\t                 Validation loss: 1.7744\n",
      "P-value below threshold for  2020-02-18 - 2020-03-03 \tP-Value:  0.007284592\n",
      "Retrain  lstm  on:  2019-01-02 - 2020-02-18\n",
      "[1/1] Training loss: 1.6600\t                 Validation loss: 1.6228\n",
      "P-value below threshold for  2020-02-19 - 2020-03-04 \tP-Value:  0.0038280503\n",
      "Retrain  lstm  on:  2019-01-02 - 2020-02-19\n",
      "[1/1] Training loss: 1.6432\t                 Validation loss: 1.6580\n",
      "P-value below threshold for  2020-03-16 - 2020-03-30 \tP-Value:  0.0016929512\n",
      "Retrain  lstm  on:  2019-01-02 - 2020-03-16\n",
      "[1/1] Training loss: 1.6465\t                 Validation loss: 1.7131\n",
      "P-value below threshold for  2020-03-17 - 2020-03-31 \tP-Value:  0.0013571761\n",
      "Retrain  lstm  on:  2019-01-02 - 2020-03-17\n",
      "[1/1] Training loss: 1.6740\t                 Validation loss: 1.7118\n",
      "P-value below threshold for  2020-03-18 - 2020-04-01 \tP-Value:  0.0025708252\n",
      "Retrain  lstm  on:  2019-01-02 - 2020-03-18\n",
      "[1/1] Training loss: 1.6570\t                 Validation loss: 1.6487\n",
      "P-value below threshold for  2020-03-19 - 2020-04-02 \tP-Value:  0.0018460248\n",
      "Retrain  lstm  on:  2019-01-02 - 2020-03-19\n",
      "[1/1] Training loss: 1.6727\t                 Validation loss: 1.6771\n",
      "P-value below threshold for  2020-03-20 - 2020-04-03 \tP-Value:  0.00048369632\n",
      "Retrain  lstm  on:  2019-01-02 - 2020-03-20\n",
      "[1/1] Training loss: 1.6850\t                 Validation loss: 1.4471\n",
      "P-value below threshold for  2020-03-21 - 2020-04-04 \tP-Value:  0.00040040718\n",
      "Retrain  lstm  on:  2019-01-02 - 2020-03-21\n",
      "[1/1] Training loss: 1.6158\t                 Validation loss: 1.6670\n",
      "P-value below threshold for  2020-03-22 - 2020-04-05 \tP-Value:  0.00045937684\n",
      "Retrain  lstm  on:  2019-01-02 - 2020-03-22\n",
      "[1/1] Training loss: 1.6692\t                 Validation loss: 1.7607\n",
      "P-value below threshold for  2020-03-23 - 2020-04-06 \tP-Value:  0.00045073702\n",
      "Retrain  lstm  on:  2019-01-02 - 2020-03-23\n",
      "[1/1] Training loss: 1.6504\t                 Validation loss: 1.6506\n",
      "P-value below threshold for  2020-03-24 - 2020-04-07 \tP-Value:  0.0005456525\n",
      "Retrain  lstm  on:  2019-01-02 - 2020-03-24\n",
      "[1/1] Training loss: 1.6769\t                 Validation loss: 1.5519\n",
      "P-value below threshold for  2020-03-25 - 2020-04-08 \tP-Value:  0.00056556024\n",
      "Retrain  lstm  on:  2019-01-02 - 2020-03-25\n",
      "[1/1] Training loss: 1.7032\t                 Validation loss: 1.5898\n",
      "P-value below threshold for  2020-03-26 - 2020-04-09 \tP-Value:  0.0029621834\n",
      "Retrain  lstm  on:  2019-01-02 - 2020-03-26\n",
      "[1/1] Training loss: 1.6639\t                 Validation loss: 1.7873\n"
     ]
    },
    {
     "name": "stderr",
     "output_type": "stream",
     "text": [
      "\n",
      " 84%|████████▍ | 450/534 [10:09<02:30,  1.79s/it]\u001b[A"
     ]
    },
    {
     "name": "stdout",
     "output_type": "stream",
     "text": [
      "P-value below threshold for  2020-05-30 - 2020-06-13 \tP-Value:  0.0057546566\n",
      "Retrain  lstm  on:  2019-01-02 - 2020-05-30\n",
      "[1/1] Training loss: 1.7052\t                 Validation loss: 1.6505\n"
     ]
    },
    {
     "name": "stderr",
     "output_type": "stream",
     "text": [
      " 84%|████████▍ | 450/534 [10:50<02:01,  1.45s/it]\n"
     ]
    },
    {
     "name": "stdout",
     "output_type": "stream",
     "text": [
      "98  alarms with avg p-value of  0.002345312 (0.0017505022714564649, 0.00294012157072331)\n"
     ]
    },
    {
     "name": "stderr",
     "output_type": "stream",
     "text": [
      "\n",
      "  0%|          | 0/534 [00:00<?, ?it/s]\u001b[A"
     ]
    },
    {
     "name": "stdout",
     "output_type": "stream",
     "text": [
      "Calibrating drift detector...\n"
     ]
    },
    {
     "name": "stderr",
     "output_type": "stream",
     "text": [
      "\n",
      "  9%|▉         | 50/534 [00:13<02:06,  3.83it/s]\u001b[A"
     ]
    },
    {
     "name": "stdout",
     "output_type": "stream",
     "text": [
      "P-value below threshold for  2019-02-07 - 2019-02-21 \tP-Value:  9.684333e-13\n",
      "Retrain  lstm  on:  2019-01-02 - 2019-02-07\n",
      "[1/1] Training loss: 1.7051\t                 Validation loss: 1.6846\n",
      "P-value below threshold for  2019-02-08 - 2019-02-22 \tP-Value:  8.5507214e-13\n",
      "Retrain  lstm  on:  2019-01-02 - 2019-02-08\n",
      "[1/1] Training loss: 1.6235\t                 Validation loss: 1.1837\n",
      "P-value below threshold for  2019-02-09 - 2019-02-23 \tP-Value:  1.984883e-11\n",
      "Retrain  lstm  on:  2019-01-02 - 2019-02-09\n",
      "[1/1] Training loss: 1.5431\t                 Validation loss: 1.6269\n",
      "P-value below threshold for  2019-02-10 - 2019-02-24 \tP-Value:  4.594841e-11\n",
      "Retrain  lstm  on:  2019-01-02 - 2019-02-10\n",
      "[1/1] Training loss: 1.5134\t                 Validation loss: 2.5246\n",
      "P-value below threshold for  2019-02-11 - 2019-02-25 \tP-Value:  4.898577e-10\n",
      "Retrain  lstm  on:  2019-01-02 - 2019-02-11\n",
      "[1/1] Training loss: 1.7027\t                 Validation loss: 1.4572\n",
      "P-value below threshold for  2019-02-12 - 2019-02-26 \tP-Value:  1.8429909e-09\n",
      "Retrain  lstm  on:  2019-01-02 - 2019-02-12\n",
      "[1/1] Training loss: 1.8689\t                 Validation loss: 1.6312\n",
      "P-value below threshold for  2019-02-13 - 2019-02-27 \tP-Value:  1.0395676e-08\n",
      "Retrain  lstm  on:  2019-01-02 - 2019-02-13\n",
      "[1/1] Training loss: 1.6253\t                 Validation loss: 1.6123\n",
      "P-value below threshold for  2019-02-14 - 2019-02-28 \tP-Value:  5.4350718e-08\n",
      "Retrain  lstm  on:  2019-01-02 - 2019-02-14\n",
      "[1/1] Training loss: 1.8230\t                 Validation loss: 1.6301\n",
      "P-value below threshold for  2019-02-15 - 2019-03-01 \tP-Value:  3.4484492e-07\n",
      "Retrain  lstm  on:  2019-01-02 - 2019-02-15\n",
      "[1/1] Training loss: 1.7432\t                 Validation loss: 1.2212\n",
      "P-value below threshold for  2019-02-16 - 2019-03-02 \tP-Value:  7.875911e-06\n",
      "Retrain  lstm  on:  2019-01-02 - 2019-02-16\n",
      "[1/1] Training loss: 1.5714\t                 Validation loss: 1.7994\n",
      "P-value below threshold for  2019-02-17 - 2019-03-03 \tP-Value:  7.278049e-05\n",
      "Retrain  lstm  on:  2019-01-02 - 2019-02-17\n",
      "[1/1] Training loss: 1.6629\t                 Validation loss: 1.5799\n",
      "P-value below threshold for  2019-02-18 - 2019-03-04 \tP-Value:  8.732147e-05\n",
      "Retrain  lstm  on:  2019-01-02 - 2019-02-18\n",
      "[1/1] Training loss: 1.7748\t                 Validation loss: 1.4898\n",
      "P-value below threshold for  2019-02-19 - 2019-03-05 \tP-Value:  0.000955378\n",
      "Retrain  lstm  on:  2019-01-02 - 2019-02-19\n",
      "[1/1] Training loss: 1.5591\t                 Validation loss: 1.6326\n",
      "P-value below threshold for  2019-02-20 - 2019-03-06 \tP-Value:  0.0035766196\n",
      "Retrain  lstm  on:  2019-01-02 - 2019-02-20\n",
      "[1/1] Training loss: 1.6111\t                 Validation loss: 2.1196\n"
     ]
    },
    {
     "name": "stderr",
     "output_type": "stream",
     "text": [
      "\n",
      " 19%|█▊        | 100/534 [00:35<02:33,  2.83it/s]\u001b[A"
     ]
    },
    {
     "name": "stdout",
     "output_type": "stream",
     "text": [
      "P-value below threshold for  2019-02-21 - 2019-03-07 \tP-Value:  0.00917137\n",
      "Retrain  lstm  on:  2019-01-02 - 2019-02-21\n",
      "[1/1] Training loss: 1.4615\t                 Validation loss: 1.9249\n",
      "P-value below threshold for  2019-02-22 - 2019-03-08 \tP-Value:  0.0028394097\n",
      "Retrain  lstm  on:  2019-01-02 - 2019-02-22\n",
      "[1/1] Training loss: 1.7206\t                 Validation loss: 2.0305\n",
      "P-value below threshold for  2019-02-23 - 2019-03-09 \tP-Value:  0.0018228131\n",
      "Retrain  lstm  on:  2019-01-02 - 2019-02-23\n",
      "[1/1] Training loss: 1.6421\t                 Validation loss: 1.2507\n",
      "P-value below threshold for  2019-02-24 - 2019-03-10 \tP-Value:  0.0009615236\n",
      "Retrain  lstm  on:  2019-01-02 - 2019-02-24\n",
      "[1/1] Training loss: 1.6530\t                 Validation loss: 1.6575\n",
      "P-value below threshold for  2019-02-25 - 2019-03-11 \tP-Value:  0.0028524313\n",
      "Retrain  lstm  on:  2019-01-02 - 2019-02-25\n",
      "[1/1] Training loss: 1.8464\t                 Validation loss: 1.4752\n",
      "P-value below threshold for  2019-02-26 - 2019-03-12 \tP-Value:  0.0033624333\n",
      "Retrain  lstm  on:  2019-01-02 - 2019-02-26\n",
      "[1/1] Training loss: 1.6921\t                 Validation loss: 1.7601\n",
      "P-value below threshold for  2019-03-07 - 2019-03-21 \tP-Value:  0.009152524\n",
      "Retrain  lstm  on:  2019-01-02 - 2019-03-07\n",
      "[1/1] Training loss: 1.7696\t                 Validation loss: 1.5879\n",
      "P-value below threshold for  2019-03-08 - 2019-03-22 \tP-Value:  0.0053042034\n",
      "Retrain  lstm  on:  2019-01-02 - 2019-03-08\n",
      "[1/1] Training loss: 1.6241\t                 Validation loss: 1.6021\n",
      "P-value below threshold for  2019-03-09 - 2019-03-23 \tP-Value:  0.009410663\n",
      "Retrain  lstm  on:  2019-01-02 - 2019-03-09\n",
      "[1/1] Training loss: 1.3770\t                 Validation loss: 2.3080\n",
      "P-value below threshold for  2019-03-10 - 2019-03-24 \tP-Value:  0.0028535435\n",
      "Retrain  lstm  on:  2019-01-02 - 2019-03-10\n",
      "[1/1] Training loss: 1.6746\t                 Validation loss: 1.6496\n",
      "P-value below threshold for  2019-03-11 - 2019-03-25 \tP-Value:  0.0018480758\n",
      "Retrain  lstm  on:  2019-01-02 - 2019-03-11\n",
      "[1/1] Training loss: 1.7725\t                 Validation loss: 1.3842\n",
      "P-value below threshold for  2019-03-12 - 2019-03-26 \tP-Value:  0.003899733\n",
      "Retrain  lstm  on:  2019-01-02 - 2019-03-12\n",
      "[1/1] Training loss: 1.7383\t                 Validation loss: 1.7305\n",
      "P-value below threshold for  2019-03-15 - 2019-03-29 \tP-Value:  0.009049899\n",
      "Retrain  lstm  on:  2019-01-02 - 2019-03-15\n",
      "[1/1] Training loss: 1.8062\t                 Validation loss: 1.6095\n",
      "P-value below threshold for  2019-03-16 - 2019-03-30 \tP-Value:  0.003816539\n",
      "Retrain  lstm  on:  2019-01-02 - 2019-03-16\n",
      "[1/1] Training loss: 1.6805\t                 Validation loss: 1.8126\n"
     ]
    },
    {
     "name": "stderr",
     "output_type": "stream",
     "text": [
      "\n",
      " 28%|██▊       | 150/534 [01:24<03:58,  1.61it/s]\u001b[A"
     ]
    },
    {
     "name": "stdout",
     "output_type": "stream",
     "text": [
      "P-value below threshold for  2019-05-25 - 2019-06-08 \tP-Value:  0.008672924\n",
      "Retrain  lstm  on:  2019-01-02 - 2019-05-25\n",
      "[1/1] Training loss: 1.7759\t                 Validation loss: 1.6483\n"
     ]
    },
    {
     "name": "stderr",
     "output_type": "stream",
     "text": [
      "\n",
      " 37%|███▋      | 200/534 [02:18<04:22,  1.27it/s]\u001b[A"
     ]
    },
    {
     "name": "stdout",
     "output_type": "stream",
     "text": [
      "P-value below threshold for  2019-06-10 - 2019-06-24 \tP-Value:  0.003937813\n",
      "Retrain  lstm  on:  2019-01-02 - 2019-06-10\n",
      "[1/1] Training loss: 1.6624\t                 Validation loss: 1.7738\n",
      "P-value below threshold for  2019-06-11 - 2019-06-25 \tP-Value:  0.0036877056\n",
      "Retrain  lstm  on:  2019-01-02 - 2019-06-11\n",
      "[1/1] Training loss: 1.7571\t                 Validation loss: 1.7477\n",
      "P-value below threshold for  2019-06-12 - 2019-06-26 \tP-Value:  0.004427145\n",
      "Retrain  lstm  on:  2019-01-02 - 2019-06-12\n",
      "[1/1] Training loss: 1.7229\t                 Validation loss: 2.4467\n",
      "P-value below threshold for  2019-06-13 - 2019-06-27 \tP-Value:  0.007149115\n",
      "Retrain  lstm  on:  2019-01-02 - 2019-06-13\n",
      "[1/1] Training loss: 1.7469\t                 Validation loss: 1.7909\n",
      "P-value below threshold for  2019-06-14 - 2019-06-28 \tP-Value:  0.0014787681\n",
      "Retrain  lstm  on:  2019-01-02 - 2019-06-14\n",
      "[1/1] Training loss: 1.7334\t                 Validation loss: 1.8133\n",
      "P-value below threshold for  2019-06-15 - 2019-06-29 \tP-Value:  0.0015861561\n",
      "Retrain  lstm  on:  2019-01-02 - 2019-06-15\n",
      "[1/1] Training loss: 1.7778\t                 Validation loss: 1.5249\n",
      "P-value below threshold for  2019-06-16 - 2019-06-30 \tP-Value:  0.0022527056\n",
      "Retrain  lstm  on:  2019-01-02 - 2019-06-16\n",
      "[1/1] Training loss: 1.7576\t                 Validation loss: 1.5196\n",
      "P-value below threshold for  2019-06-18 - 2019-07-02 \tP-Value:  0.0068149813\n",
      "Retrain  lstm  on:  2019-01-02 - 2019-06-18\n",
      "[1/1] Training loss: 1.6723\t                 Validation loss: 1.7956\n",
      "P-value below threshold for  2019-06-20 - 2019-07-04 \tP-Value:  0.008875551\n",
      "Retrain  lstm  on:  2019-01-02 - 2019-06-20\n",
      "[1/1] Training loss: 1.7080\t                 Validation loss: 1.7473\n",
      "P-value below threshold for  2019-07-06 - 2019-07-20 \tP-Value:  0.0062589287\n",
      "Retrain  lstm  on:  2019-01-02 - 2019-07-06\n",
      "[1/1] Training loss: 1.5977\t                 Validation loss: 1.7991\n",
      "P-value below threshold for  2019-07-07 - 2019-07-21 \tP-Value:  0.0077581885\n",
      "Retrain  lstm  on:  2019-01-02 - 2019-07-07\n",
      "[1/1] Training loss: 1.7658\t                 Validation loss: 1.6527\n"
     ]
    },
    {
     "name": "stderr",
     "output_type": "stream",
     "text": [
      "\n",
      " 47%|████▋     | 250/534 [03:16<04:21,  1.09it/s]\u001b[A"
     ]
    },
    {
     "name": "stdout",
     "output_type": "stream",
     "text": [
      "P-value below threshold for  2019-08-26 - 2019-09-09 \tP-Value:  0.005637047\n",
      "Retrain  lstm  on:  2019-01-02 - 2019-08-26\n",
      "[1/1] Training loss: 1.7359\t                 Validation loss: 1.6543\n",
      "P-value below threshold for  2019-08-27 - 2019-09-10 \tP-Value:  0.0056857644\n",
      "Retrain  lstm  on:  2019-01-02 - 2019-08-27\n",
      "[1/1] Training loss: 1.8083\t                 Validation loss: 1.6037\n",
      "P-value below threshold for  2019-08-28 - 2019-09-11 \tP-Value:  0.0011287616\n",
      "Retrain  lstm  on:  2019-01-02 - 2019-08-28\n",
      "[1/1] Training loss: 1.7321\t                 Validation loss: 1.4871\n",
      "P-value below threshold for  2019-08-29 - 2019-09-12 \tP-Value:  0.00011755611\n",
      "Retrain  lstm  on:  2019-01-02 - 2019-08-29\n",
      "[1/1] Training loss: 1.6952\t                 Validation loss: 1.8974\n",
      "P-value below threshold for  2019-08-30 - 2019-09-13 \tP-Value:  0.0006168105\n",
      "Retrain  lstm  on:  2019-01-02 - 2019-08-30\n",
      "[1/1] Training loss: 1.6641\t                 Validation loss: 1.7816\n",
      "P-value below threshold for  2019-08-31 - 2019-09-14 \tP-Value:  0.0009888089\n",
      "Retrain  lstm  on:  2019-01-02 - 2019-08-31\n",
      "[1/1] Training loss: 1.7221\t                 Validation loss: 1.6040\n",
      "P-value below threshold for  2019-09-01 - 2019-09-15 \tP-Value:  0.00033961676\n",
      "Retrain  lstm  on:  2019-01-02 - 2019-09-01\n",
      "[1/1] Training loss: 1.7392\t                 Validation loss: 1.5550\n",
      "P-value below threshold for  2019-09-02 - 2019-09-16 \tP-Value:  0.00014734684\n",
      "Retrain  lstm  on:  2019-01-02 - 2019-09-02\n",
      "[1/1] Training loss: 1.6408\t                 Validation loss: 1.6346\n",
      "P-value below threshold for  2019-09-03 - 2019-09-17 \tP-Value:  0.00010633333\n",
      "Retrain  lstm  on:  2019-01-02 - 2019-09-03\n",
      "[1/1] Training loss: 1.6468\t                 Validation loss: 1.6420\n",
      "P-value below threshold for  2019-09-04 - 2019-09-18 \tP-Value:  0.0004510192\n",
      "Retrain  lstm  on:  2019-01-02 - 2019-09-04\n",
      "[1/1] Training loss: 1.6654\t                 Validation loss: 1.9721\n",
      "P-value below threshold for  2019-09-05 - 2019-09-19 \tP-Value:  0.00012359612\n",
      "Retrain  lstm  on:  2019-01-02 - 2019-09-05\n",
      "[1/1] Training loss: 1.7182\t                 Validation loss: 1.6297\n",
      "P-value below threshold for  2019-09-06 - 2019-09-20 \tP-Value:  0.0001761505\n",
      "Retrain  lstm  on:  2019-01-02 - 2019-09-06\n",
      "[1/1] Training loss: 1.7159\t                 Validation loss: 1.6592\n",
      "P-value below threshold for  2019-09-07 - 2019-09-21 \tP-Value:  0.0032927545\n",
      "Retrain  lstm  on:  2019-01-02 - 2019-09-07\n",
      "[1/1] Training loss: 1.7215\t                 Validation loss: 1.6264\n",
      "P-value below threshold for  2019-09-08 - 2019-09-22 \tP-Value:  0.0009317589\n",
      "Retrain  lstm  on:  2019-01-02 - 2019-09-08\n",
      "[1/1] Training loss: 1.6869\t                 Validation loss: 1.6947\n"
     ]
    },
    {
     "name": "stderr",
     "output_type": "stream",
     "text": [
      "\n",
      " 56%|█████▌    | 300/534 [04:23<04:06,  1.06s/it]\u001b[A"
     ]
    },
    {
     "name": "stdout",
     "output_type": "stream",
     "text": [
      "P-value below threshold for  2019-09-09 - 2019-09-23 \tP-Value:  0.0014977258\n",
      "Retrain  lstm  on:  2019-01-02 - 2019-09-09\n",
      "[1/1] Training loss: 1.6610\t                 Validation loss: 1.6107\n",
      "P-value below threshold for  2019-09-10 - 2019-09-24 \tP-Value:  0.004424864\n",
      "Retrain  lstm  on:  2019-01-02 - 2019-09-10\n",
      "[1/1] Training loss: 1.7739\t                 Validation loss: 1.5869\n"
     ]
    },
    {
     "name": "stderr",
     "output_type": "stream",
     "text": [
      "\n",
      " 66%|██████▌   | 350/534 [05:18<03:16,  1.07s/it]\u001b[A"
     ]
    },
    {
     "name": "stdout",
     "output_type": "stream",
     "text": [
      "P-value below threshold for  2019-11-01 - 2019-11-15 \tP-Value:  0.0063847145\n",
      "Retrain  lstm  on:  2019-01-02 - 2019-11-01\n",
      "[1/1] Training loss: 1.7022\t                 Validation loss: 1.7644\n",
      "P-value below threshold for  2019-11-02 - 2019-11-16 \tP-Value:  0.0004748477\n",
      "Retrain  lstm  on:  2019-01-02 - 2019-11-02\n",
      "[1/1] Training loss: 1.6695\t                 Validation loss: 1.5881\n",
      "P-value below threshold for  2019-11-03 - 2019-11-17 \tP-Value:  0.0011911803\n",
      "Retrain  lstm  on:  2019-01-02 - 2019-11-03\n",
      "[1/1] Training loss: 1.7658\t                 Validation loss: 1.5329\n",
      "P-value below threshold for  2019-11-04 - 2019-11-18 \tP-Value:  0.0010340671\n",
      "Retrain  lstm  on:  2019-01-02 - 2019-11-04\n",
      "[1/1] Training loss: 1.6789\t                 Validation loss: 1.7052\n",
      "P-value below threshold for  2019-11-05 - 2019-11-19 \tP-Value:  0.00013308488\n",
      "Retrain  lstm  on:  2019-01-02 - 2019-11-05\n",
      "[1/1] Training loss: 1.7947\t                 Validation loss: 1.5151\n",
      "P-value below threshold for  2019-11-06 - 2019-11-20 \tP-Value:  0.0008098959\n",
      "Retrain  lstm  on:  2019-01-02 - 2019-11-06\n",
      "[1/1] Training loss: 1.6883\t                 Validation loss: 1.7538\n",
      "P-value below threshold for  2019-11-07 - 2019-11-21 \tP-Value:  0.0010448777\n",
      "Retrain  lstm  on:  2019-01-02 - 2019-11-07\n",
      "[1/1] Training loss: 1.6875\t                 Validation loss: 1.5784\n",
      "P-value below threshold for  2019-11-08 - 2019-11-22 \tP-Value:  0.0016860869\n",
      "Retrain  lstm  on:  2019-01-02 - 2019-11-08\n",
      "[1/1] Training loss: 1.6689\t                 Validation loss: 1.6879\n",
      "P-value below threshold for  2019-11-09 - 2019-11-23 \tP-Value:  0.0016719035\n",
      "Retrain  lstm  on:  2019-01-02 - 2019-11-09\n",
      "[1/1] Training loss: 1.7133\t                 Validation loss: 1.6389\n",
      "P-value below threshold for  2019-11-10 - 2019-11-24 \tP-Value:  0.0044730464\n",
      "Retrain  lstm  on:  2019-01-02 - 2019-11-10\n",
      "[1/1] Training loss: 1.6202\t                 Validation loss: 1.7450\n",
      "P-value below threshold for  2019-11-11 - 2019-11-25 \tP-Value:  0.003283346\n",
      "Retrain  lstm  on:  2019-01-02 - 2019-11-11\n",
      "[1/1] Training loss: 1.7255\t                 Validation loss: 1.5195\n"
     ]
    },
    {
     "name": "stderr",
     "output_type": "stream",
     "text": [
      "\n",
      " 75%|███████▍  | 400/534 [06:32<02:40,  1.20s/it]\u001b[A\n",
      " 84%|████████▍ | 450/534 [07:42<01:45,  1.26s/it]\u001b[A"
     ]
    },
    {
     "name": "stdout",
     "output_type": "stream",
     "text": [
      "P-value below threshold for  2020-02-11 - 2020-02-25 \tP-Value:  0.0049652616\n",
      "Retrain  lstm  on:  2019-01-02 - 2020-02-11\n",
      "[1/1] Training loss: 1.7563\t                 Validation loss: 1.6263\n",
      "P-value below threshold for  2020-02-12 - 2020-02-26 \tP-Value:  0.009728046\n",
      "Retrain  lstm  on:  2019-01-02 - 2020-02-12\n",
      "[1/1] Training loss: 1.6975\t                 Validation loss: 1.7056\n",
      "P-value below threshold for  2020-02-14 - 2020-02-28 \tP-Value:  0.003732537\n",
      "Retrain  lstm  on:  2019-01-02 - 2020-02-14\n",
      "[1/1] Training loss: 1.6643\t                 Validation loss: 1.6254\n",
      "P-value below threshold for  2020-02-15 - 2020-02-29 \tP-Value:  0.0063201585\n",
      "Retrain  lstm  on:  2019-01-02 - 2020-02-15\n",
      "[1/1] Training loss: 1.5713\t                 Validation loss: 1.6975\n",
      "P-value below threshold for  2020-02-16 - 2020-03-01 \tP-Value:  0.007367129\n",
      "Retrain  lstm  on:  2019-01-02 - 2020-02-16\n",
      "[1/1] Training loss: 1.5705\t                 Validation loss: 1.8094\n",
      "P-value below threshold for  2020-02-18 - 2020-03-03 \tP-Value:  0.0060541644\n",
      "Retrain  lstm  on:  2019-01-02 - 2020-02-18\n",
      "[1/1] Training loss: 1.7362\t                 Validation loss: 1.5750\n",
      "P-value below threshold for  2020-02-19 - 2020-03-04 \tP-Value:  0.0036818588\n",
      "Retrain  lstm  on:  2019-01-02 - 2020-02-19\n",
      "[1/1] Training loss: 1.6935\t                 Validation loss: 1.5419\n",
      "P-value below threshold for  2020-02-22 - 2020-03-07 \tP-Value:  0.0057230755\n",
      "Retrain  lstm  on:  2019-01-02 - 2020-02-22\n",
      "[1/1] Training loss: 1.6475\t                 Validation loss: 1.6055\n",
      "P-value below threshold for  2020-03-15 - 2020-03-29 \tP-Value:  0.008456568\n",
      "Retrain  lstm  on:  2019-01-02 - 2020-03-15\n",
      "[1/1] Training loss: 1.6112\t                 Validation loss: 1.5849\n",
      "P-value below threshold for  2020-03-16 - 2020-03-30 \tP-Value:  0.002277364\n",
      "Retrain  lstm  on:  2019-01-02 - 2020-03-16\n",
      "[1/1] Training loss: 1.6794\t                 Validation loss: 1.5742\n",
      "P-value below threshold for  2020-03-17 - 2020-03-31 \tP-Value:  0.0016945566\n",
      "Retrain  lstm  on:  2019-01-02 - 2020-03-17\n",
      "[1/1] Training loss: 1.6475\t                 Validation loss: 1.6423\n",
      "P-value below threshold for  2020-03-18 - 2020-04-01 \tP-Value:  0.0025503507\n",
      "Retrain  lstm  on:  2019-01-02 - 2020-03-18\n",
      "[1/1] Training loss: 1.6871\t                 Validation loss: 1.6083\n",
      "P-value below threshold for  2020-03-19 - 2020-04-02 \tP-Value:  0.0014689837\n",
      "Retrain  lstm  on:  2019-01-02 - 2020-03-19\n",
      "[1/1] Training loss: 1.6750\t                 Validation loss: 1.7845\n",
      "P-value below threshold for  2020-03-20 - 2020-04-03 \tP-Value:  0.00094028504\n",
      "Retrain  lstm  on:  2019-01-02 - 2020-03-20\n",
      "[1/1] Training loss: 1.7037\t                 Validation loss: 1.6178\n",
      "P-value below threshold for  2020-03-21 - 2020-04-04 \tP-Value:  0.00025497246\n",
      "Retrain  lstm  on:  2019-01-02 - 2020-03-21\n",
      "[1/1] Training loss: 1.6415\t                 Validation loss: 1.5581\n",
      "P-value below threshold for  2020-03-22 - 2020-04-05 \tP-Value:  0.00028308562\n",
      "Retrain  lstm  on:  2019-01-02 - 2020-03-22\n",
      "[1/1] Training loss: 1.6641\t                 Validation loss: 1.5580\n",
      "P-value below threshold for  2020-03-23 - 2020-04-06 \tP-Value:  7.6188764e-05\n",
      "Retrain  lstm  on:  2019-01-02 - 2020-03-23\n",
      "[1/1] Training loss: 1.6450\t                 Validation loss: 1.6974\n",
      "P-value below threshold for  2020-03-24 - 2020-04-07 \tP-Value:  0.00020422439\n",
      "Retrain  lstm  on:  2019-01-02 - 2020-03-24\n",
      "[1/1] Training loss: 1.6931\t                 Validation loss: 1.5550\n",
      "P-value below threshold for  2020-03-25 - 2020-04-08 \tP-Value:  0.00014629978\n",
      "Retrain  lstm  on:  2019-01-02 - 2020-03-25\n",
      "[1/1] Training loss: 1.6775\t                 Validation loss: 1.6628\n",
      "P-value below threshold for  2020-03-26 - 2020-04-09 \tP-Value:  0.00092171266\n",
      "Retrain  lstm  on:  2019-01-02 - 2020-03-26\n",
      "[1/1] Training loss: 1.6701\t                 Validation loss: 1.5748\n"
     ]
    },
    {
     "name": "stderr",
     "output_type": "stream",
     "text": [
      "\n",
      " 94%|█████████▎| 500/534 [09:22<00:50,  1.49s/it]\u001b[A"
     ]
    },
    {
     "name": "stdout",
     "output_type": "stream",
     "text": [
      "P-value below threshold for  2020-03-27 - 2020-04-10 \tP-Value:  0.005848306\n",
      "Retrain  lstm  on:  2019-01-02 - 2020-03-27\n",
      "[1/1] Training loss: 1.6814\t                 Validation loss: 1.7261\n",
      "P-value below threshold for  2020-03-28 - 2020-04-11 \tP-Value:  0.008415833\n",
      "Retrain  lstm  on:  2019-01-02 - 2020-03-28\n",
      "[1/1] Training loss: 1.6377\t                 Validation loss: 1.7368\n"
     ]
    },
    {
     "name": "stderr",
     "output_type": "stream",
     "text": [
      "\n",
      "550it [10:20,  1.39s/it]                         \u001b[A"
     ]
    },
    {
     "name": "stdout",
     "output_type": "stream",
     "text": [
      "P-value below threshold for  2020-05-22 - 2020-06-05 \tP-Value:  0.008052952\n",
      "Retrain  lstm  on:  2019-01-02 - 2020-05-22\n",
      "[1/1] Training loss: 1.7446\t                 Validation loss: 1.6788\n",
      "P-value below threshold for  2020-05-30 - 2020-06-13 \tP-Value:  0.006210352\n",
      "Retrain  lstm  on:  2019-01-02 - 2020-05-30\n",
      "[1/1] Training loss: 1.7476\t                 Validation loss: 1.7680\n"
     ]
    },
    {
     "name": "stderr",
     "output_type": "stream",
     "text": [
      "550it [11:03,  1.21s/it]\n"
     ]
    },
    {
     "name": "stdout",
     "output_type": "stream",
     "text": [
      "109  alarms with avg p-value of  0.0025428694 (0.001980002883635163, 0.003105735957809091)\n"
     ]
    },
    {
     "name": "stderr",
     "output_type": "stream",
     "text": [
      "\n",
      "  0%|          | 0/534 [00:00<?, ?it/s]\u001b[A"
     ]
    },
    {
     "name": "stdout",
     "output_type": "stream",
     "text": [
      "Calibrating drift detector...\n"
     ]
    },
    {
     "name": "stderr",
     "output_type": "stream",
     "text": [
      "\n",
      "  9%|▉         | 50/534 [00:17<02:45,  2.92it/s]\u001b[A"
     ]
    },
    {
     "name": "stdout",
     "output_type": "stream",
     "text": [
      "P-value below threshold for  2019-02-07 - 2019-02-21 \tP-Value:  1.3003224e-12\n",
      "Retrain  lstm  on:  2019-01-02 - 2019-02-07\n",
      "[1/1] Training loss: 1.6258\t                 Validation loss: 1.8049\n",
      "P-value below threshold for  2019-02-08 - 2019-02-22 \tP-Value:  1.8141439e-12\n",
      "Retrain  lstm  on:  2019-01-02 - 2019-02-08\n",
      "[1/1] Training loss: 1.6817\t                 Validation loss: 1.5680\n",
      "P-value below threshold for  2019-02-09 - 2019-02-23 \tP-Value:  2.9492415e-11\n",
      "Retrain  lstm  on:  2019-01-02 - 2019-02-09\n",
      "[1/1] Training loss: 1.5135\t                 Validation loss: 1.4481\n",
      "P-value below threshold for  2019-02-10 - 2019-02-24 \tP-Value:  3.6204442e-11\n",
      "Retrain  lstm  on:  2019-01-02 - 2019-02-10\n",
      "[1/1] Training loss: 1.5358\t                 Validation loss: 1.6512\n",
      "P-value below threshold for  2019-02-11 - 2019-02-25 \tP-Value:  3.8143802e-10\n",
      "Retrain  lstm  on:  2019-01-02 - 2019-02-11\n",
      "[1/1] Training loss: 1.8339\t                 Validation loss: 1.1168\n",
      "P-value below threshold for  2019-02-12 - 2019-02-26 \tP-Value:  1.4280394e-09\n",
      "Retrain  lstm  on:  2019-01-02 - 2019-02-12\n",
      "[1/1] Training loss: 1.6831\t                 Validation loss: 1.5711\n",
      "P-value below threshold for  2019-02-13 - 2019-02-27 \tP-Value:  9.469925e-09\n",
      "Retrain  lstm  on:  2019-01-02 - 2019-02-13\n",
      "[1/1] Training loss: 1.7272\t                 Validation loss: 1.2797\n",
      "P-value below threshold for  2019-02-14 - 2019-02-28 \tP-Value:  1.506785e-07\n",
      "Retrain  lstm  on:  2019-01-02 - 2019-02-14\n",
      "[1/1] Training loss: 1.8461\t                 Validation loss: 1.3871\n",
      "P-value below threshold for  2019-02-15 - 2019-03-01 \tP-Value:  7.179981e-07\n",
      "Retrain  lstm  on:  2019-01-02 - 2019-02-15\n",
      "[1/1] Training loss: 1.8387\t                 Validation loss: 0.8650\n",
      "P-value below threshold for  2019-02-16 - 2019-03-02 \tP-Value:  1.4671891e-05\n",
      "Retrain  lstm  on:  2019-01-02 - 2019-02-16\n",
      "[1/1] Training loss: 1.7308\t                 Validation loss: 1.8084\n",
      "P-value below threshold for  2019-02-17 - 2019-03-03 \tP-Value:  0.00019919238\n",
      "Retrain  lstm  on:  2019-01-02 - 2019-02-17\n",
      "[1/1] Training loss: 1.8159\t                 Validation loss: 1.7099\n",
      "P-value below threshold for  2019-02-18 - 2019-03-04 \tP-Value:  0.00019013406\n",
      "Retrain  lstm  on:  2019-01-02 - 2019-02-18\n",
      "[1/1] Training loss: 1.4481\t                 Validation loss: 1.7291\n",
      "P-value below threshold for  2019-02-19 - 2019-03-05 \tP-Value:  0.0014857928\n",
      "Retrain  lstm  on:  2019-01-02 - 2019-02-19\n",
      "[1/1] Training loss: 1.5262\t                 Validation loss: 1.2801\n",
      "P-value below threshold for  2019-02-20 - 2019-03-06 \tP-Value:  0.0028447087\n",
      "Retrain  lstm  on:  2019-01-02 - 2019-02-20\n",
      "[1/1] Training loss: 1.7985\t                 Validation loss: 1.6202\n"
     ]
    },
    {
     "name": "stderr",
     "output_type": "stream",
     "text": [
      "\n",
      " 19%|█▊        | 100/534 [00:35<02:33,  2.83it/s]\u001b[A"
     ]
    },
    {
     "name": "stdout",
     "output_type": "stream",
     "text": [
      "P-value below threshold for  2019-02-21 - 2019-03-07 \tP-Value:  0.007428439\n",
      "Retrain  lstm  on:  2019-01-02 - 2019-02-21\n",
      "[1/1] Training loss: 1.5999\t                 Validation loss: 2.3506\n",
      "P-value below threshold for  2019-02-22 - 2019-03-08 \tP-Value:  0.0020641622\n",
      "Retrain  lstm  on:  2019-01-02 - 2019-02-22\n",
      "[1/1] Training loss: 1.6338\t                 Validation loss: 1.2829\n",
      "P-value below threshold for  2019-02-23 - 2019-03-09 \tP-Value:  0.001010569\n",
      "Retrain  lstm  on:  2019-01-02 - 2019-02-23\n",
      "[1/1] Training loss: 1.7506\t                 Validation loss: 1.3292\n",
      "P-value below threshold for  2019-02-24 - 2019-03-10 \tP-Value:  0.000586754\n",
      "Retrain  lstm  on:  2019-01-02 - 2019-02-24\n",
      "[1/1] Training loss: 1.6601\t                 Validation loss: 1.8637\n",
      "P-value below threshold for  2019-02-25 - 2019-03-11 \tP-Value:  0.0048267418\n",
      "Retrain  lstm  on:  2019-01-02 - 2019-02-25\n",
      "[1/1] Training loss: 1.5555\t                 Validation loss: 1.8200\n",
      "P-value below threshold for  2019-02-26 - 2019-03-12 \tP-Value:  0.0045708944\n",
      "Retrain  lstm  on:  2019-01-02 - 2019-02-26\n",
      "[1/1] Training loss: 1.7404\t                 Validation loss: 1.7240\n",
      "P-value below threshold for  2019-03-08 - 2019-03-22 \tP-Value:  0.0061473525\n",
      "Retrain  lstm  on:  2019-01-02 - 2019-03-08\n",
      "[1/1] Training loss: 1.5514\t                 Validation loss: 1.6523\n",
      "P-value below threshold for  2019-03-09 - 2019-03-23 \tP-Value:  0.008938995\n",
      "Retrain  lstm  on:  2019-01-02 - 2019-03-09\n",
      "[1/1] Training loss: 1.6974\t                 Validation loss: 1.7757\n",
      "P-value below threshold for  2019-03-10 - 2019-03-24 \tP-Value:  0.0015844033\n",
      "Retrain  lstm  on:  2019-01-02 - 2019-03-10\n",
      "[1/1] Training loss: 1.8085\t                 Validation loss: 1.7106\n",
      "P-value below threshold for  2019-03-11 - 2019-03-25 \tP-Value:  0.0017126631\n",
      "Retrain  lstm  on:  2019-01-02 - 2019-03-11\n",
      "[1/1] Training loss: 1.7517\t                 Validation loss: 1.7017\n",
      "P-value below threshold for  2019-03-12 - 2019-03-26 \tP-Value:  0.00402364\n",
      "Retrain  lstm  on:  2019-01-02 - 2019-03-12\n",
      "[1/1] Training loss: 1.7187\t                 Validation loss: 1.5783\n",
      "P-value below threshold for  2019-03-15 - 2019-03-29 \tP-Value:  0.007379806\n",
      "Retrain  lstm  on:  2019-01-02 - 2019-03-15\n",
      "[1/1] Training loss: 1.8915\t                 Validation loss: 1.8140\n",
      "P-value below threshold for  2019-03-16 - 2019-03-30 \tP-Value:  0.00393174\n",
      "Retrain  lstm  on:  2019-01-02 - 2019-03-16\n",
      "[1/1] Training loss: 1.9841\t                 Validation loss: 1.5353\n"
     ]
    },
    {
     "name": "stderr",
     "output_type": "stream",
     "text": [
      "\n",
      " 28%|██▊       | 150/534 [01:24<03:56,  1.63it/s]\u001b[A"
     ]
    },
    {
     "name": "stdout",
     "output_type": "stream",
     "text": [
      "P-value below threshold for  2019-05-25 - 2019-06-08 \tP-Value:  0.00837737\n",
      "Retrain  lstm  on:  2019-01-02 - 2019-05-25\n",
      "[1/1] Training loss: 1.6856\t                 Validation loss: 1.7088\n"
     ]
    },
    {
     "name": "stderr",
     "output_type": "stream",
     "text": [
      "\n",
      " 37%|███▋      | 200/534 [02:17<04:20,  1.28it/s]\u001b[A"
     ]
    },
    {
     "name": "stdout",
     "output_type": "stream",
     "text": [
      "P-value below threshold for  2019-06-10 - 2019-06-24 \tP-Value:  0.003987008\n",
      "Retrain  lstm  on:  2019-01-02 - 2019-06-10\n",
      "P-value below threshold for  2019-06-11 - 2019-06-25 \tP-Value:  0.0017245378\n",
      "Retrain  lstm  on:  2019-01-02 - 2019-06-11\n",
      "[1/1] Training loss: 1.7521\t                 Validation loss: 1.7276\n",
      "P-value below threshold for  2019-06-12 - 2019-06-26 \tP-Value:  0.0018344097\n",
      "Retrain  lstm  on:  2019-01-02 - 2019-06-12\n",
      "[1/1] Training loss: 1.6205\t                 Validation loss: 2.1369\n",
      "P-value below threshold for  2019-06-13 - 2019-06-27 \tP-Value:  0.0024736943\n",
      "Retrain  lstm  on:  2019-01-02 - 2019-06-13\n",
      "[1/1] Training loss: 1.7172\t                 Validation loss: 1.6425\n",
      "P-value below threshold for  2019-06-14 - 2019-06-28 \tP-Value:  0.0005484667\n",
      "Retrain  lstm  on:  2019-01-02 - 2019-06-14\n",
      "[1/1] Training loss: 1.6097\t                 Validation loss: 2.1417\n",
      "P-value below threshold for  2019-06-15 - 2019-06-29 \tP-Value:  0.001179403\n",
      "Retrain  lstm  on:  2019-01-02 - 2019-06-15\n",
      "[1/1] Training loss: 1.7914\t                 Validation loss: 1.6994\n",
      "P-value below threshold for  2019-06-16 - 2019-06-30 \tP-Value:  0.0020677214\n",
      "Retrain  lstm  on:  2019-01-02 - 2019-06-16\n",
      "[1/1] Training loss: 1.8131\t                 Validation loss: 1.6040\n",
      "P-value below threshold for  2019-06-18 - 2019-07-02 \tP-Value:  0.009119796\n",
      "Retrain  lstm  on:  2019-01-02 - 2019-06-18\n",
      "[1/1] Training loss: 1.7970\t                 Validation loss: 1.6564\n",
      "P-value below threshold for  2019-07-05 - 2019-07-19 \tP-Value:  0.009752096\n",
      "Retrain  lstm  on:  2019-01-02 - 2019-07-05\n",
      "[1/1] Training loss: 1.6484\t                 Validation loss: 1.9259\n",
      "P-value below threshold for  2019-07-06 - 2019-07-20 \tP-Value:  0.0022413598\n",
      "Retrain  lstm  on:  2019-01-02 - 2019-07-06\n",
      "[1/1] Training loss: 1.7885\t                 Validation loss: 1.6250\n",
      "P-value below threshold for  2019-07-07 - 2019-07-21 \tP-Value:  0.0035706817\n",
      "Retrain  lstm  on:  2019-01-02 - 2019-07-07\n",
      "[1/1] Training loss: 1.7621\t                 Validation loss: 1.5150\n",
      "P-value below threshold for  2019-07-08 - 2019-07-22 \tP-Value:  0.002973618\n",
      "Retrain  lstm  on:  2019-01-02 - 2019-07-08\n",
      "[1/1] Training loss: 1.6521\t                 Validation loss: 1.6408\n",
      "P-value below threshold for  2019-07-11 - 2019-07-25 \tP-Value:  0.00913121\n",
      "Retrain  lstm  on:  2019-01-02 - 2019-07-11\n",
      "[1/1] Training loss: 1.6928\t                 Validation loss: 1.4695\n"
     ]
    },
    {
     "name": "stderr",
     "output_type": "stream",
     "text": [
      "\n",
      " 47%|████▋     | 250/534 [03:16<04:21,  1.08it/s]\u001b[A"
     ]
    },
    {
     "name": "stdout",
     "output_type": "stream",
     "text": [
      "P-value below threshold for  2019-08-25 - 2019-09-08 \tP-Value:  0.008876041\n",
      "Retrain  lstm  on:  2019-01-02 - 2019-08-25\n",
      "[1/1] Training loss: 1.7219\t                 Validation loss: 1.4903\n",
      "P-value below threshold for  2019-08-26 - 2019-09-09 \tP-Value:  0.0061761206\n",
      "Retrain  lstm  on:  2019-01-02 - 2019-08-26\n",
      "[1/1] Training loss: 1.6348\t                 Validation loss: 1.7502\n",
      "P-value below threshold for  2019-08-27 - 2019-09-10 \tP-Value:  0.007914608\n",
      "Retrain  lstm  on:  2019-01-02 - 2019-08-27\n",
      "[1/1] Training loss: 1.7704\t                 Validation loss: 1.4838\n",
      "P-value below threshold for  2019-08-28 - 2019-09-11 \tP-Value:  0.0019577579\n",
      "Retrain  lstm  on:  2019-01-02 - 2019-08-28\n",
      "[1/1] Training loss: 1.7662\t                 Validation loss: 1.6908\n",
      "P-value below threshold for  2019-08-29 - 2019-09-12 \tP-Value:  0.00020007305\n",
      "Retrain  lstm  on:  2019-01-02 - 2019-08-29\n",
      "[1/1] Training loss: 1.7467\t                 Validation loss: 1.5776\n",
      "P-value below threshold for  2019-08-30 - 2019-09-13 \tP-Value:  0.00080885313\n",
      "Retrain  lstm  on:  2019-01-02 - 2019-08-30\n",
      "[1/1] Training loss: 1.7049\t                 Validation loss: 1.6623\n",
      "P-value below threshold for  2019-08-31 - 2019-09-14 \tP-Value:  0.0012012877\n",
      "Retrain  lstm  on:  2019-01-02 - 2019-08-31\n",
      "[1/1] Training loss: 1.6600\t                 Validation loss: 1.7389\n",
      "P-value below threshold for  2019-09-01 - 2019-09-15 \tP-Value:  0.00041519175\n",
      "Retrain  lstm  on:  2019-01-02 - 2019-09-01\n",
      "[1/1] Training loss: 1.7598\t                 Validation loss: 1.4899\n",
      "P-value below threshold for  2019-09-02 - 2019-09-16 \tP-Value:  0.00018043745\n",
      "Retrain  lstm  on:  2019-01-02 - 2019-09-02\n",
      "[1/1] Training loss: 1.7641\t                 Validation loss: 1.6032\n",
      "P-value below threshold for  2019-09-03 - 2019-09-17 \tP-Value:  9.947297e-05\n",
      "Retrain  lstm  on:  2019-01-02 - 2019-09-03\n",
      "[1/1] Training loss: 1.6756\t                 Validation loss: 1.8304\n",
      "P-value below threshold for  2019-09-04 - 2019-09-18 \tP-Value:  0.0003916432\n",
      "Retrain  lstm  on:  2019-01-02 - 2019-09-04\n",
      "[1/1] Training loss: 1.7677\t                 Validation loss: 1.7831\n",
      "P-value below threshold for  2019-09-05 - 2019-09-19 \tP-Value:  0.00015070815\n",
      "Retrain  lstm  on:  2019-01-02 - 2019-09-05\n",
      "[1/1] Training loss: 1.7584\t                 Validation loss: 1.6144\n",
      "P-value below threshold for  2019-09-06 - 2019-09-20 \tP-Value:  0.00028838115\n",
      "Retrain  lstm  on:  2019-01-02 - 2019-09-06\n",
      "[1/1] Training loss: 1.6513\t                 Validation loss: 1.7604\n",
      "P-value below threshold for  2019-09-07 - 2019-09-21 \tP-Value:  0.0035982232\n",
      "Retrain  lstm  on:  2019-01-02 - 2019-09-07\n",
      "[1/1] Training loss: 1.7268\t                 Validation loss: 1.6674\n",
      "P-value below threshold for  2019-09-08 - 2019-09-22 \tP-Value:  0.0013450633\n",
      "Retrain  lstm  on:  2019-01-02 - 2019-09-08\n",
      "[1/1] Training loss: 1.7320\t                 Validation loss: 1.4998\n"
     ]
    },
    {
     "name": "stderr",
     "output_type": "stream",
     "text": [
      "\n",
      " 56%|█████▌    | 300/534 [04:25<04:10,  1.07s/it]\u001b[A"
     ]
    },
    {
     "name": "stdout",
     "output_type": "stream",
     "text": [
      "P-value below threshold for  2019-09-09 - 2019-09-23 \tP-Value:  0.004971122\n",
      "Retrain  lstm  on:  2019-01-02 - 2019-09-09\n",
      "[1/1] Training loss: 1.6546\t                 Validation loss: 1.6904\n",
      "P-value below threshold for  2019-09-10 - 2019-09-24 \tP-Value:  0.0059362277\n",
      "Retrain  lstm  on:  2019-01-02 - 2019-09-10\n",
      "[1/1] Training loss: 1.7104\t                 Validation loss: 1.6817\n",
      "P-value below threshold for  2019-09-11 - 2019-09-25 \tP-Value:  0.008173874\n",
      "Retrain  lstm  on:  2019-01-02 - 2019-09-11\n",
      "[1/1] Training loss: 1.7202\t                 Validation loss: 1.6825\n"
     ]
    },
    {
     "name": "stderr",
     "output_type": "stream",
     "text": [
      "\n",
      " 66%|██████▌   | 350/534 [05:20<03:19,  1.09s/it]\u001b[A"
     ]
    },
    {
     "name": "stdout",
     "output_type": "stream",
     "text": [
      "P-value below threshold for  2019-10-30 - 2019-11-13 \tP-Value:  0.0080140075\n",
      "Retrain  lstm  on:  2019-01-02 - 2019-10-30\n",
      "[1/1] Training loss: 1.6992\t                 Validation loss: 1.7940\n",
      "P-value below threshold for  2019-10-31 - 2019-11-14 \tP-Value:  0.004212334\n",
      "Retrain  lstm  on:  2019-01-02 - 2019-10-31\n",
      "[1/1] Training loss: 1.6275\t                 Validation loss: 1.7836\n",
      "P-value below threshold for  2019-11-01 - 2019-11-15 \tP-Value:  0.008220581\n",
      "Retrain  lstm  on:  2019-01-02 - 2019-11-01\n",
      "[1/1] Training loss: 1.6587\t                 Validation loss: 1.8396\n",
      "P-value below threshold for  2019-11-02 - 2019-11-16 \tP-Value:  0.0006305846\n",
      "Retrain  lstm  on:  2019-01-02 - 2019-11-02\n",
      "[1/1] Training loss: 1.6195\t                 Validation loss: 1.8624\n",
      "P-value below threshold for  2019-11-03 - 2019-11-17 \tP-Value:  0.0011053716\n",
      "Retrain  lstm  on:  2019-01-02 - 2019-11-03\n",
      "[1/1] Training loss: 1.6461\t                 Validation loss: 1.9552\n",
      "P-value below threshold for  2019-11-04 - 2019-11-18 \tP-Value:  0.00090691174\n",
      "Retrain  lstm  on:  2019-01-02 - 2019-11-04\n",
      "[1/1] Training loss: 1.7064\t                 Validation loss: 1.5273\n",
      "P-value below threshold for  2019-11-05 - 2019-11-19 \tP-Value:  0.000112001486\n",
      "Retrain  lstm  on:  2019-01-02 - 2019-11-05\n",
      "[1/1] Training loss: 1.6879\t                 Validation loss: 1.6690\n",
      "P-value below threshold for  2019-11-06 - 2019-11-20 \tP-Value:  0.0005612474\n",
      "Retrain  lstm  on:  2019-01-02 - 2019-11-06\n",
      "[1/1] Training loss: 1.6961\t                 Validation loss: 1.7125\n",
      "P-value below threshold for  2019-11-07 - 2019-11-21 \tP-Value:  0.0005959996\n",
      "Retrain  lstm  on:  2019-01-02 - 2019-11-07\n",
      "[1/1] Training loss: 1.7302\t                 Validation loss: 1.6967\n",
      "P-value below threshold for  2019-11-08 - 2019-11-22 \tP-Value:  0.00078244484\n",
      "Retrain  lstm  on:  2019-01-02 - 2019-11-08\n",
      "[1/1] Training loss: 1.6811\t                 Validation loss: 1.6894\n",
      "P-value below threshold for  2019-11-09 - 2019-11-23 \tP-Value:  0.0009072505\n",
      "Retrain  lstm  on:  2019-01-02 - 2019-11-09\n",
      "[1/1] Training loss: 1.7298\t                 Validation loss: 1.5612\n",
      "P-value below threshold for  2019-11-10 - 2019-11-24 \tP-Value:  0.0025877925\n",
      "Retrain  lstm  on:  2019-01-02 - 2019-11-10\n",
      "[1/1] Training loss: 1.6959\t                 Validation loss: 1.5760\n",
      "P-value below threshold for  2019-11-11 - 2019-11-25 \tP-Value:  0.0022547974\n",
      "Retrain  lstm  on:  2019-01-02 - 2019-11-11\n",
      "[1/1] Training loss: 1.7156\t                 Validation loss: 1.4345\n",
      "P-value below threshold for  2019-11-16 - 2019-11-30 \tP-Value:  0.00815084\n",
      "Retrain  lstm  on:  2019-01-02 - 2019-11-16\n",
      "[1/1] Training loss: 1.6399\t                 Validation loss: 1.8406\n"
     ]
    },
    {
     "name": "stderr",
     "output_type": "stream",
     "text": [
      "\n",
      " 75%|███████▍  | 400/534 [06:39<02:46,  1.24s/it]\u001b[A\n",
      " 84%|████████▍ | 450/534 [07:48<01:47,  1.28s/it]\u001b[A"
     ]
    },
    {
     "name": "stdout",
     "output_type": "stream",
     "text": [
      "P-value below threshold for  2020-02-11 - 2020-02-25 \tP-Value:  0.007087078\n",
      "Retrain  lstm  on:  2019-01-02 - 2020-02-11\n",
      "[1/1] Training loss: 1.6613\t                 Validation loss: 1.8217\n",
      "P-value below threshold for  2020-02-14 - 2020-02-28 \tP-Value:  0.008828341\n",
      "Retrain  lstm  on:  2019-01-02 - 2020-02-14\n",
      "[1/1] Training loss: 1.6482\t                 Validation loss: 1.6882\n",
      "P-value below threshold for  2020-02-18 - 2020-03-03 \tP-Value:  0.0057616574\n",
      "Retrain  lstm  on:  2019-01-02 - 2020-02-18\n",
      "[1/1] Training loss: 1.6858\t                 Validation loss: 1.5856\n",
      "P-value below threshold for  2020-02-19 - 2020-03-04 \tP-Value:  0.0038295288\n",
      "Retrain  lstm  on:  2019-01-02 - 2020-02-19\n",
      "[1/1] Training loss: 1.6566\t                 Validation loss: 1.4789\n",
      "P-value below threshold for  2020-03-16 - 2020-03-30 \tP-Value:  0.0017166338\n",
      "Retrain  lstm  on:  2019-01-02 - 2020-03-16\n",
      "[1/1] Training loss: 1.6745\t                 Validation loss: 1.6598\n",
      "P-value below threshold for  2020-03-17 - 2020-03-31 \tP-Value:  0.0011703516\n",
      "Retrain  lstm  on:  2019-01-02 - 2020-03-17\n",
      "[1/1] Training loss: 1.6650\t                 Validation loss: 1.6341\n",
      "P-value below threshold for  2020-03-18 - 2020-04-01 \tP-Value:  0.0025585995\n",
      "Retrain  lstm  on:  2019-01-02 - 2020-03-18\n",
      "[1/1] Training loss: 1.6800\t                 Validation loss: 1.5976\n",
      "P-value below threshold for  2020-03-19 - 2020-04-02 \tP-Value:  0.0023752346\n",
      "Retrain  lstm  on:  2019-01-02 - 2020-03-19\n",
      "[1/1] Training loss: 1.6375\t                 Validation loss: 1.6890\n",
      "P-value below threshold for  2020-03-20 - 2020-04-03 \tP-Value:  0.0008473573\n",
      "Retrain  lstm  on:  2019-01-02 - 2020-03-20\n",
      "[1/1] Training loss: 1.6776\t                 Validation loss: 1.7077\n",
      "P-value below threshold for  2020-03-21 - 2020-04-04 \tP-Value:  0.00043586286\n",
      "Retrain  lstm  on:  2019-01-02 - 2020-03-21\n",
      "[1/1] Training loss: 1.6061\t                 Validation loss: 1.5702\n",
      "P-value below threshold for  2020-03-22 - 2020-04-05 \tP-Value:  0.00046438002\n",
      "Retrain  lstm  on:  2019-01-02 - 2020-03-22\n",
      "[1/1] Training loss: 1.6866\t                 Validation loss: 1.5543\n",
      "P-value below threshold for  2020-03-23 - 2020-04-06 \tP-Value:  0.00018883156\n",
      "Retrain  lstm  on:  2019-01-02 - 2020-03-23\n",
      "[1/1] Training loss: 1.6664\t                 Validation loss: 1.5519\n",
      "P-value below threshold for  2020-03-24 - 2020-04-07 \tP-Value:  0.00013315814\n",
      "Retrain  lstm  on:  2019-01-02 - 2020-03-24\n",
      "[1/1] Training loss: 1.6580\t                 Validation loss: 1.6195\n",
      "P-value below threshold for  2020-03-25 - 2020-04-08 \tP-Value:  0.00013792541\n",
      "Retrain  lstm  on:  2019-01-02 - 2020-03-25\n",
      "[1/1] Training loss: 1.6940\t                 Validation loss: 1.5923\n",
      "P-value below threshold for  2020-03-26 - 2020-04-09 \tP-Value:  0.0013104052\n",
      "Retrain  lstm  on:  2019-01-02 - 2020-03-26\n",
      "[1/1] Training loss: 1.6843\t                 Validation loss: 1.5909\n"
     ]
    },
    {
     "name": "stderr",
     "output_type": "stream",
     "text": [
      "\n",
      " 94%|█████████▎| 500/534 [10:11<01:00,  1.77s/it]\u001b[A"
     ]
    },
    {
     "name": "stdout",
     "output_type": "stream",
     "text": [
      "P-value below threshold for  2020-05-20 - 2020-06-03 \tP-Value:  0.008194387\n",
      "Retrain  lstm  on:  2019-01-02 - 2020-05-20\n",
      "[1/1] Training loss: 1.7157\t                 Validation loss: 1.6572\n",
      "P-value below threshold for  2020-05-30 - 2020-06-13 \tP-Value:  0.0074173883\n",
      "Retrain  lstm  on:  2019-01-02 - 2020-05-30\n",
      "[1/1] Training loss: 1.7231\t                 Validation loss: 1.6909\n"
     ]
    },
    {
     "name": "stderr",
     "output_type": "stream",
     "text": [
      " 94%|█████████▎| 500/534 [10:56<00:44,  1.31s/it]\n"
     ]
    },
    {
     "name": "stdout",
     "output_type": "stream",
     "text": [
      "108  alarms with avg p-value of  0.0024269193 (0.001855918869518972, 0.002997919719523453)\n"
     ]
    },
    {
     "name": "stderr",
     "output_type": "stream",
     "text": [
      "\n",
      "  0%|          | 0/534 [00:00<?, ?it/s]\u001b[A"
     ]
    },
    {
     "name": "stdout",
     "output_type": "stream",
     "text": [
      "Calibrating drift detector...\n"
     ]
    },
    {
     "name": "stderr",
     "output_type": "stream",
     "text": [
      "\n",
      "  9%|▉         | 50/534 [00:18<03:01,  2.66it/s]\u001b[A"
     ]
    },
    {
     "name": "stdout",
     "output_type": "stream",
     "text": [
      "P-value below threshold for  2019-02-07 - 2019-02-21 \tP-Value:  1.2813513e-12\n",
      "Retrain  lstm  on:  2019-01-02 - 2019-02-07\n",
      "[1/1] Training loss: 1.4455\t                 Validation loss: 1.7915\n",
      "P-value below threshold for  2019-02-08 - 2019-02-22 \tP-Value:  3.6106237e-12\n",
      "Retrain  lstm  on:  2019-01-02 - 2019-02-08\n",
      "[1/1] Training loss: 1.6541\t                 Validation loss: 2.0147\n",
      "P-value below threshold for  2019-02-09 - 2019-02-23 \tP-Value:  5.5668095e-11\n",
      "Retrain  lstm  on:  2019-01-02 - 2019-02-09\n",
      "[1/1] Training loss: 1.7095\t                 Validation loss: 0.8461\n",
      "P-value below threshold for  2019-02-10 - 2019-02-24 \tP-Value:  6.7110366e-11\n",
      "Retrain  lstm  on:  2019-01-02 - 2019-02-10\n",
      "[1/1] Training loss: 1.6346\t                 Validation loss: 1.3062\n",
      "P-value below threshold for  2019-02-11 - 2019-02-25 \tP-Value:  6.785802e-10\n",
      "Retrain  lstm  on:  2019-01-02 - 2019-02-11\n",
      "[1/1] Training loss: 1.7336\t                 Validation loss: 1.2835\n",
      "P-value below threshold for  2019-02-12 - 2019-02-26 \tP-Value:  2.464154e-09\n",
      "Retrain  lstm  on:  2019-01-02 - 2019-02-12\n",
      "[1/1] Training loss: 1.7483\t                 Validation loss: 2.1675\n",
      "P-value below threshold for  2019-02-13 - 2019-02-27 \tP-Value:  1.4463115e-08\n",
      "Retrain  lstm  on:  2019-01-02 - 2019-02-13\n",
      "[1/1] Training loss: 1.6948\t                 Validation loss: 1.5179\n",
      "P-value below threshold for  2019-02-14 - 2019-02-28 \tP-Value:  1.6137635e-07\n",
      "Retrain  lstm  on:  2019-01-02 - 2019-02-14\n",
      "[1/1] Training loss: 1.8558\t                 Validation loss: 1.4831\n",
      "P-value below threshold for  2019-02-15 - 2019-03-01 \tP-Value:  1.2210504e-06\n",
      "Retrain  lstm  on:  2019-01-02 - 2019-02-15\n",
      "[1/1] Training loss: 1.5665\t                 Validation loss: 1.8090\n",
      "P-value below threshold for  2019-02-16 - 2019-03-02 \tP-Value:  1.4349709e-05\n",
      "Retrain  lstm  on:  2019-01-02 - 2019-02-16\n",
      "[1/1] Training loss: 1.7699\t                 Validation loss: 1.7078\n",
      "P-value below threshold for  2019-02-17 - 2019-03-03 \tP-Value:  0.00013090618\n",
      "Retrain  lstm  on:  2019-01-02 - 2019-02-17\n",
      "[1/1] Training loss: 1.6382\t                 Validation loss: 2.2106\n",
      "P-value below threshold for  2019-02-18 - 2019-03-04 \tP-Value:  0.00017336567\n",
      "Retrain  lstm  on:  2019-01-02 - 2019-02-18\n",
      "[1/1] Training loss: 1.8971\t                 Validation loss: 1.2386\n",
      "P-value below threshold for  2019-02-19 - 2019-03-05 \tP-Value:  0.0018059837\n",
      "Retrain  lstm  on:  2019-01-02 - 2019-02-19\n",
      "[1/1] Training loss: 1.6827\t                 Validation loss: 2.2165\n",
      "P-value below threshold for  2019-02-20 - 2019-03-06 \tP-Value:  0.0069965622\n",
      "Retrain  lstm  on:  2019-01-02 - 2019-02-20\n",
      "[1/1] Training loss: 1.5429\t                 Validation loss: 1.8613\n",
      "P-value below threshold for  2019-02-22 - 2019-03-08 \tP-Value:  0.0046692174\n",
      "Retrain  lstm  on:  2019-01-02 - 2019-02-22\n",
      "[1/1] Training loss: 1.6704\t                 Validation loss: 1.4364\n",
      "P-value below threshold for  2019-02-23 - 2019-03-09 \tP-Value:  0.0032184469\n",
      "Retrain  lstm  on:  2019-01-02 - 2019-02-23\n",
      "[1/1] Training loss: 1.7314\t                 Validation loss: 1.2207\n",
      "P-value below threshold for  2019-02-24 - 2019-03-10 \tP-Value:  0.0017425645\n",
      "Retrain  lstm  on:  2019-01-02 - 2019-02-24\n",
      "[1/1] Training loss: 1.4532\t                 Validation loss: 1.6930\n",
      "P-value below threshold for  2019-03-08 - 2019-03-22 \tP-Value:  0.0080495\n",
      "Retrain  lstm  on:  2019-01-02 - 2019-03-08\n",
      "[1/1] Training loss: 1.7263\t                 Validation loss: 1.7450\n",
      "P-value below threshold for  2019-03-10 - 2019-03-24 \tP-Value:  0.004171994\n",
      "Retrain  lstm  on:  2019-01-02 - 2019-03-10\n",
      "[1/1] Training loss: 1.6475\t                 Validation loss: 2.0686\n",
      "P-value below threshold for  2019-03-11 - 2019-03-25 \tP-Value:  0.0031963526\n",
      "Retrain  lstm  on:  2019-01-02 - 2019-03-11\n",
      "[1/1] Training loss: 1.6679\t                 Validation loss: 1.7231\n",
      "P-value below threshold for  2019-03-12 - 2019-03-26 \tP-Value:  0.0050977003\n",
      "Retrain  lstm  on:  2019-01-02 - 2019-03-12\n",
      "[1/1] Training loss: 1.9742\t                 Validation loss: 1.3798\n",
      "P-value below threshold for  2019-03-16 - 2019-03-30 \tP-Value:  0.0037021847\n",
      "Retrain  lstm  on:  2019-01-02 - 2019-03-16\n",
      "[1/1] Training loss: 1.7193\t                 Validation loss: 1.5989\n",
      "P-value below threshold for  2019-03-17 - 2019-03-31 \tP-Value:  0.006985057\n",
      "Retrain  lstm  on:  2019-01-02 - 2019-03-17\n",
      "[1/1] Training loss: 1.7849\t                 Validation loss: 1.9262\n"
     ]
    },
    {
     "name": "stderr",
     "output_type": "stream",
     "text": [
      "\n",
      " 19%|█▊        | 100/534 [01:23<06:03,  1.19it/s]\u001b[A\n",
      " 28%|██▊       | 150/534 [02:16<05:57,  1.07it/s]\u001b[A"
     ]
    },
    {
     "name": "stdout",
     "output_type": "stream",
     "text": [
      "P-value below threshold for  2019-06-08 - 2019-06-22 \tP-Value:  0.009486997\n",
      "Retrain  lstm  on:  2019-01-02 - 2019-06-08\n",
      "[1/1] Training loss: 1.6633\t                 Validation loss: 2.0023\n",
      "P-value below threshold for  2019-06-09 - 2019-06-23 \tP-Value:  0.009180414\n",
      "Retrain  lstm  on:  2019-01-02 - 2019-06-09\n",
      "[1/1] Training loss: 1.7385\t                 Validation loss: 1.7270\n",
      "P-value below threshold for  2019-06-10 - 2019-06-24 \tP-Value:  0.0023385265\n",
      "Retrain  lstm  on:  2019-01-02 - 2019-06-10\n",
      "[1/1] Training loss: 1.8257\t                 Validation loss: 1.5440\n",
      "P-value below threshold for  2019-06-11 - 2019-06-25 \tP-Value:  0.0017223717\n",
      "Retrain  lstm  on:  2019-01-02 - 2019-06-11\n",
      "[1/1] Training loss: 1.7526\t                 Validation loss: 1.6914\n",
      "P-value below threshold for  2019-06-12 - 2019-06-26 \tP-Value:  0.0027576357\n",
      "Retrain  lstm  on:  2019-01-02 - 2019-06-12\n",
      "[1/1] Training loss: 1.7734\t                 Validation loss: 1.5539\n",
      "P-value below threshold for  2019-06-13 - 2019-06-27 \tP-Value:  0.0041479347\n",
      "Retrain  lstm  on:  2019-01-02 - 2019-06-13\n",
      "[1/1] Training loss: 1.6550\t                 Validation loss: 1.8489\n",
      "P-value below threshold for  2019-06-14 - 2019-06-28 \tP-Value:  0.001907763\n",
      "Retrain  lstm  on:  2019-01-02 - 2019-06-14\n",
      "[1/1] Training loss: 1.7616\t                 Validation loss: 1.5738\n",
      "P-value below threshold for  2019-06-15 - 2019-06-29 \tP-Value:  0.0013670581\n",
      "Retrain  lstm  on:  2019-01-02 - 2019-06-15\n",
      "[1/1] Training loss: 1.7238\t                 Validation loss: 1.7246\n",
      "P-value below threshold for  2019-06-16 - 2019-06-30 \tP-Value:  0.0014605393\n",
      "Retrain  lstm  on:  2019-01-02 - 2019-06-16\n",
      "[1/1] Training loss: 1.8608\t                 Validation loss: 1.6503\n",
      "P-value below threshold for  2019-06-18 - 2019-07-02 \tP-Value:  0.0050709927\n",
      "Retrain  lstm  on:  2019-01-02 - 2019-06-18\n",
      "[1/1] Training loss: 1.7016\t                 Validation loss: 1.9375\n",
      "P-value below threshold for  2019-06-20 - 2019-07-04 \tP-Value:  0.0076953485\n",
      "Retrain  lstm  on:  2019-01-02 - 2019-06-20\n",
      "[1/1] Training loss: 1.6262\t                 Validation loss: 1.7774\n",
      "P-value below threshold for  2019-07-06 - 2019-07-20 \tP-Value:  0.004483061\n",
      "Retrain  lstm  on:  2019-01-02 - 2019-07-06\n",
      "[1/1] Training loss: 1.7548\t                 Validation loss: 1.4037\n",
      "P-value below threshold for  2019-07-07 - 2019-07-21 \tP-Value:  0.006859533\n",
      "Retrain  lstm  on:  2019-01-02 - 2019-07-07\n",
      "[1/1] Training loss: 1.6181\t                 Validation loss: 1.6109\n",
      "P-value below threshold for  2019-07-08 - 2019-07-22 \tP-Value:  0.0073757763\n",
      "Retrain  lstm  on:  2019-01-02 - 2019-07-08\n",
      "[1/1] Training loss: 1.7545\t                 Validation loss: 1.4923\n"
     ]
    },
    {
     "name": "stderr",
     "output_type": "stream",
     "text": [
      "\n",
      " 37%|███▋      | 200/534 [03:17<05:47,  1.04s/it]\u001b[A"
     ]
    },
    {
     "name": "stdout",
     "output_type": "stream",
     "text": [
      "P-value below threshold for  2019-08-25 - 2019-09-08 \tP-Value:  0.008029275\n",
      "Retrain  lstm  on:  2019-01-02 - 2019-08-25\n",
      "[1/1] Training loss: 1.7539\t                 Validation loss: 1.7600\n",
      "P-value below threshold for  2019-08-26 - 2019-09-09 \tP-Value:  0.0049388255\n",
      "Retrain  lstm  on:  2019-01-02 - 2019-08-26\n",
      "[1/1] Training loss: 1.6890\t                 Validation loss: 1.6700\n",
      "P-value below threshold for  2019-08-27 - 2019-09-10 \tP-Value:  0.008037746\n",
      "Retrain  lstm  on:  2019-01-02 - 2019-08-27\n",
      "[1/1] Training loss: 1.7202\t                 Validation loss: 1.7748\n",
      "P-value below threshold for  2019-08-28 - 2019-09-11 \tP-Value:  0.0020227644\n",
      "Retrain  lstm  on:  2019-01-02 - 2019-08-28\n",
      "[1/1] Training loss: 1.8289\t                 Validation loss: 1.6908\n",
      "P-value below threshold for  2019-08-29 - 2019-09-12 \tP-Value:  0.00016326329\n",
      "Retrain  lstm  on:  2019-01-02 - 2019-08-29\n",
      "P-value below threshold for  2019-08-30 - 2019-09-13 \tP-Value:  0.000717624\n",
      "Retrain  lstm  on:  2019-01-02 - 2019-08-30\n",
      "[1/1] Training loss: 1.7712\t                 Validation loss: 1.6738\n",
      "P-value below threshold for  2019-08-31 - 2019-09-14 \tP-Value:  0.00060544186\n",
      "Retrain  lstm  on:  2019-01-02 - 2019-08-31\n",
      "[1/1] Training loss: 1.7941\t                 Validation loss: 1.6428\n",
      "P-value below threshold for  2019-09-01 - 2019-09-15 \tP-Value:  0.00041399748\n",
      "Retrain  lstm  on:  2019-01-02 - 2019-09-01\n",
      "[1/1] Training loss: 1.7486\t                 Validation loss: 1.7758\n",
      "P-value below threshold for  2019-09-02 - 2019-09-16 \tP-Value:  0.00041934967\n",
      "Retrain  lstm  on:  2019-01-02 - 2019-09-02\n",
      "[1/1] Training loss: 1.7168\t                 Validation loss: 1.6529\n",
      "P-value below threshold for  2019-09-03 - 2019-09-17 \tP-Value:  0.0003640013\n",
      "Retrain  lstm  on:  2019-01-02 - 2019-09-03\n",
      "[1/1] Training loss: 1.6920\t                 Validation loss: 1.5603\n",
      "P-value below threshold for  2019-09-04 - 2019-09-18 \tP-Value:  0.0014421322\n",
      "Retrain  lstm  on:  2019-01-02 - 2019-09-04\n",
      "[1/1] Training loss: 1.7898\t                 Validation loss: 1.4441\n",
      "P-value below threshold for  2019-09-05 - 2019-09-19 \tP-Value:  0.00039192516\n",
      "Retrain  lstm  on:  2019-01-02 - 2019-09-05\n",
      "[1/1] Training loss: 1.7561\t                 Validation loss: 1.5841\n",
      "P-value below threshold for  2019-09-06 - 2019-09-20 \tP-Value:  0.00059498067\n",
      "Retrain  lstm  on:  2019-01-02 - 2019-09-06\n",
      "[1/1] Training loss: 1.7461\t                 Validation loss: 1.5691\n",
      "P-value below threshold for  2019-09-07 - 2019-09-21 \tP-Value:  0.004355857\n",
      "Retrain  lstm  on:  2019-01-02 - 2019-09-07\n",
      "[1/1] Training loss: 1.7445\t                 Validation loss: 1.8138\n",
      "P-value below threshold for  2019-09-08 - 2019-09-22 \tP-Value:  0.0017586631\n",
      "Retrain  lstm  on:  2019-01-02 - 2019-09-08\n",
      "[1/1] Training loss: 1.7344\t                 Validation loss: 1.5863\n"
     ]
    },
    {
     "name": "stderr",
     "output_type": "stream",
     "text": [
      "\n",
      " 47%|████▋     | 250/534 [04:25<05:25,  1.15s/it]\u001b[A"
     ]
    },
    {
     "name": "stdout",
     "output_type": "stream",
     "text": [
      "P-value below threshold for  2019-09-09 - 2019-09-23 \tP-Value:  0.0029754941\n",
      "Retrain  lstm  on:  2019-01-02 - 2019-09-09\n",
      "[1/1] Training loss: 1.7434\t                 Validation loss: 1.8382\n",
      "P-value below threshold for  2019-09-10 - 2019-09-24 \tP-Value:  0.007075364\n",
      "Retrain  lstm  on:  2019-01-02 - 2019-09-10\n",
      "[1/1] Training loss: 1.6953\t                 Validation loss: 1.7544\n",
      "P-value below threshold for  2019-09-11 - 2019-09-25 \tP-Value:  0.009492093\n",
      "Retrain  lstm  on:  2019-01-02 - 2019-09-11\n",
      "[1/1] Training loss: 1.6561\t                 Validation loss: 2.0064\n",
      "P-value below threshold for  2019-10-25 - 2019-11-08 \tP-Value:  0.0072978362\n",
      "Retrain  lstm  on:  2019-01-02 - 2019-10-25\n",
      "[1/1] Training loss: 1.6873\t                 Validation loss: 1.7564\n"
     ]
    },
    {
     "name": "stderr",
     "output_type": "stream",
     "text": [
      "\n",
      " 56%|█████▌    | 300/534 [05:22<04:28,  1.15s/it]\u001b[A"
     ]
    },
    {
     "name": "stdout",
     "output_type": "stream",
     "text": [
      "P-value below threshold for  2019-11-02 - 2019-11-16 \tP-Value:  0.0006725306\n",
      "Retrain  lstm  on:  2019-01-02 - 2019-11-02\n",
      "[1/1] Training loss: 1.6554\t                 Validation loss: 1.8460\n",
      "P-value below threshold for  2019-11-03 - 2019-11-17 \tP-Value:  0.0015560667\n",
      "Retrain  lstm  on:  2019-01-02 - 2019-11-03\n",
      "[1/1] Training loss: 1.6844\t                 Validation loss: 1.6205\n",
      "P-value below threshold for  2019-11-04 - 2019-11-18 \tP-Value:  0.0019512727\n",
      "Retrain  lstm  on:  2019-01-02 - 2019-11-04\n",
      "[1/1] Training loss: 1.7155\t                 Validation loss: 1.6831\n",
      "P-value below threshold for  2019-11-05 - 2019-11-19 \tP-Value:  0.0003122457\n",
      "Retrain  lstm  on:  2019-01-02 - 2019-11-05\n",
      "[1/1] Training loss: 1.6430\t                 Validation loss: 1.8738\n",
      "P-value below threshold for  2019-11-06 - 2019-11-20 \tP-Value:  0.00176225\n",
      "Retrain  lstm  on:  2019-01-02 - 2019-11-06\n",
      "[1/1] Training loss: 1.7216\t                 Validation loss: 1.6117\n",
      "P-value below threshold for  2019-11-07 - 2019-11-21 \tP-Value:  0.0030854351\n",
      "Retrain  lstm  on:  2019-01-02 - 2019-11-07\n",
      "[1/1] Training loss: 1.7108\t                 Validation loss: 1.6574\n",
      "P-value below threshold for  2019-11-08 - 2019-11-22 \tP-Value:  0.002227073\n",
      "Retrain  lstm  on:  2019-01-02 - 2019-11-08\n",
      "[1/1] Training loss: 1.7331\t                 Validation loss: 1.6299\n",
      "P-value below threshold for  2019-11-09 - 2019-11-23 \tP-Value:  0.0032312754\n",
      "Retrain  lstm  on:  2019-01-02 - 2019-11-09\n",
      "[1/1] Training loss: 1.6641\t                 Validation loss: 1.8494\n",
      "P-value below threshold for  2019-11-10 - 2019-11-24 \tP-Value:  0.008516878\n",
      "Retrain  lstm  on:  2019-01-02 - 2019-11-10\n",
      "[1/1] Training loss: 1.7407\t                 Validation loss: 1.7162\n",
      "P-value below threshold for  2019-11-11 - 2019-11-25 \tP-Value:  0.0062037497\n",
      "Retrain  lstm  on:  2019-01-02 - 2019-11-11\n",
      "[1/1] Training loss: 1.6945\t                 Validation loss: 1.4488\n"
     ]
    },
    {
     "name": "stderr",
     "output_type": "stream",
     "text": [
      "\n",
      " 66%|██████▌   | 350/534 [06:35<03:49,  1.25s/it]\u001b[A\n",
      " 75%|███████▍  | 400/534 [07:45<02:53,  1.29s/it]\u001b[A"
     ]
    },
    {
     "name": "stdout",
     "output_type": "stream",
     "text": [
      "P-value below threshold for  2020-02-11 - 2020-02-25 \tP-Value:  0.005519438\n",
      "Retrain  lstm  on:  2019-01-02 - 2020-02-11\n",
      "[1/1] Training loss: 1.6322\t                 Validation loss: 1.7824\n",
      "P-value below threshold for  2020-02-12 - 2020-02-26 \tP-Value:  0.008112788\n",
      "Retrain  lstm  on:  2019-01-02 - 2020-02-12\n",
      "[1/1] Training loss: 1.6619\t                 Validation loss: 1.6974\n",
      "P-value below threshold for  2020-02-14 - 2020-02-28 \tP-Value:  0.0052333316\n",
      "Retrain  lstm  on:  2019-01-02 - 2020-02-14\n",
      "[1/1] Training loss: 1.6024\t                 Validation loss: 1.7445\n",
      "P-value below threshold for  2020-02-15 - 2020-02-29 \tP-Value:  0.006074471\n",
      "Retrain  lstm  on:  2019-01-02 - 2020-02-15\n",
      "[1/1] Training loss: 1.6578\t                 Validation loss: 1.6572\n",
      "P-value below threshold for  2020-02-16 - 2020-03-01 \tP-Value:  0.007242993\n",
      "Retrain  lstm  on:  2019-01-02 - 2020-02-16\n",
      "[1/1] Training loss: 1.7239\t                 Validation loss: 1.6171\n",
      "P-value below threshold for  2020-02-18 - 2020-03-03 \tP-Value:  0.0075215152\n",
      "Retrain  lstm  on:  2019-01-02 - 2020-02-18\n",
      "[1/1] Training loss: 1.6411\t                 Validation loss: 1.6640\n",
      "P-value below threshold for  2020-02-19 - 2020-03-04 \tP-Value:  0.0025707977\n",
      "Retrain  lstm  on:  2019-01-02 - 2020-02-19\n",
      "[1/1] Training loss: 1.6345\t                 Validation loss: 1.7649\n",
      "P-value below threshold for  2020-02-21 - 2020-03-06 \tP-Value:  0.009926007\n",
      "Retrain  lstm  on:  2019-01-02 - 2020-02-21\n",
      "[1/1] Training loss: 1.7745\t                 Validation loss: 1.4962\n",
      "P-value below threshold for  2020-02-22 - 2020-03-07 \tP-Value:  0.008230145\n",
      "Retrain  lstm  on:  2019-01-02 - 2020-02-22\n",
      "[1/1] Training loss: 1.7034\t                 Validation loss: 1.6914\n",
      "P-value below threshold for  2020-03-16 - 2020-03-30 \tP-Value:  0.0019795476\n",
      "Retrain  lstm  on:  2019-01-02 - 2020-03-16\n",
      "[1/1] Training loss: 1.6549\t                 Validation loss: 1.7476\n",
      "P-value below threshold for  2020-03-17 - 2020-03-31 \tP-Value:  0.0014282371\n",
      "Retrain  lstm  on:  2019-01-02 - 2020-03-17\n",
      "[1/1] Training loss: 1.6969\t                 Validation loss: 1.6145\n",
      "P-value below threshold for  2020-03-18 - 2020-04-01 \tP-Value:  0.0029913608\n",
      "Retrain  lstm  on:  2019-01-02 - 2020-03-18\n",
      "[1/1] Training loss: 1.7184\t                 Validation loss: 1.6826\n",
      "P-value below threshold for  2020-03-19 - 2020-04-02 \tP-Value:  0.0017338729\n",
      "Retrain  lstm  on:  2019-01-02 - 2020-03-19\n",
      "[1/1] Training loss: 1.6642\t                 Validation loss: 1.7776\n",
      "P-value below threshold for  2020-03-20 - 2020-04-03 \tP-Value:  0.0012206511\n",
      "Retrain  lstm  on:  2019-01-02 - 2020-03-20\n",
      "[1/1] Training loss: 1.7069\t                 Validation loss: 1.5935\n",
      "P-value below threshold for  2020-03-21 - 2020-04-04 \tP-Value:  0.00059061777\n",
      "Retrain  lstm  on:  2019-01-02 - 2020-03-21\n",
      "[1/1] Training loss: 1.6480\t                 Validation loss: 1.7907\n",
      "P-value below threshold for  2020-03-22 - 2020-04-05 \tP-Value:  0.00096495677\n",
      "Retrain  lstm  on:  2019-01-02 - 2020-03-22\n",
      "[1/1] Training loss: 1.6585\t                 Validation loss: 1.5976\n",
      "P-value below threshold for  2020-03-23 - 2020-04-06 \tP-Value:  0.0004434024\n",
      "Retrain  lstm  on:  2019-01-02 - 2020-03-23\n",
      "[1/1] Training loss: 1.7203\t                 Validation loss: 1.5671\n",
      "P-value below threshold for  2020-03-24 - 2020-04-07 \tP-Value:  0.00058421487\n",
      "Retrain  lstm  on:  2019-01-02 - 2020-03-24\n",
      "[1/1] Training loss: 1.6429\t                 Validation loss: 1.6904\n",
      "P-value below threshold for  2020-03-25 - 2020-04-08 \tP-Value:  0.00036860205\n",
      "Retrain  lstm  on:  2019-01-02 - 2020-03-25\n",
      "[1/1] Training loss: 1.6910\t                 Validation loss: 1.5749\n",
      "P-value below threshold for  2020-03-26 - 2020-04-09 \tP-Value:  0.0024175968\n",
      "Retrain  lstm  on:  2019-01-02 - 2020-03-26\n",
      "[1/1] Training loss: 1.7079\t                 Validation loss: 1.7627\n"
     ]
    },
    {
     "name": "stderr",
     "output_type": "stream",
     "text": [
      "\n",
      " 84%|████████▍ | 450/534 [10:17<02:34,  1.84s/it]\u001b[A"
     ]
    },
    {
     "name": "stdout",
     "output_type": "stream",
     "text": [
      "P-value below threshold for  2020-05-30 - 2020-06-13 \tP-Value:  0.007940158\n",
      "Retrain  lstm  on:  2019-01-02 - 2020-05-30\n",
      "[1/1] Training loss: 1.7117\t                 Validation loss: 1.7381\n"
     ]
    },
    {
     "name": "stderr",
     "output_type": "stream",
     "text": [
      " 84%|████████▍ | 450/534 [10:59<02:03,  1.46s/it]\n"
     ]
    },
    {
     "name": "stdout",
     "output_type": "stream",
     "text": [
      "105  alarms with avg p-value of  0.0027573302 (0.0021705451626697486, 0.0033441152218362385)\n"
     ]
    },
    {
     "name": "stderr",
     "output_type": "stream",
     "text": [
      "\n",
      "  0%|          | 0/534 [00:00<?, ?it/s]\u001b[A"
     ]
    },
    {
     "name": "stdout",
     "output_type": "stream",
     "text": [
      "Calibrating drift detector...\n"
     ]
    },
    {
     "name": "stderr",
     "output_type": "stream",
     "text": [
      "\n",
      "  9%|▉         | 50/534 [00:18<02:55,  2.76it/s]\u001b[A"
     ]
    },
    {
     "name": "stdout",
     "output_type": "stream",
     "text": [
      "P-value below threshold for  2019-02-07 - 2019-02-21 \tP-Value:  9.828451e-13\n",
      "Retrain  lstm  on:  2019-01-02 - 2019-02-07\n",
      "[1/1] Training loss: 1.6608\t                 Validation loss: 1.3978\n",
      "P-value below threshold for  2019-02-08 - 2019-02-22 \tP-Value:  3.5453324e-12\n",
      "Retrain  lstm  on:  2019-01-02 - 2019-02-08\n",
      "[1/1] Training loss: 1.5608\t                 Validation loss: 1.4074\n",
      "P-value below threshold for  2019-02-09 - 2019-02-23 \tP-Value:  3.1957076e-11\n",
      "Retrain  lstm  on:  2019-01-02 - 2019-02-09\n",
      "[1/1] Training loss: 1.5752\t                 Validation loss: 1.6819\n",
      "P-value below threshold for  2019-02-10 - 2019-02-24 \tP-Value:  4.166495e-11\n",
      "Retrain  lstm  on:  2019-01-02 - 2019-02-10\n",
      "[1/1] Training loss: 1.8923\t                 Validation loss: 1.7757\n",
      "P-value below threshold for  2019-02-11 - 2019-02-25 \tP-Value:  7.264154e-10\n",
      "Retrain  lstm  on:  2019-01-02 - 2019-02-11\n",
      "[1/1] Training loss: 1.7061\t                 Validation loss: 1.3828\n",
      "P-value below threshold for  2019-02-12 - 2019-02-26 \tP-Value:  2.939966e-09\n",
      "Retrain  lstm  on:  2019-01-02 - 2019-02-12\n",
      "[1/1] Training loss: 1.9162\t                 Validation loss: 1.2878\n",
      "P-value below threshold for  2019-02-13 - 2019-02-27 \tP-Value:  1.7116918e-08\n",
      "Retrain  lstm  on:  2019-01-02 - 2019-02-13\n",
      "[1/1] Training loss: 1.6894\t                 Validation loss: 1.8612\n",
      "P-value below threshold for  2019-02-14 - 2019-02-28 \tP-Value:  1.2939407e-07\n",
      "Retrain  lstm  on:  2019-01-02 - 2019-02-14\n",
      "[1/1] Training loss: 1.6819\t                 Validation loss: 1.3953\n",
      "P-value below threshold for  2019-02-15 - 2019-03-01 \tP-Value:  1.0017618e-06\n",
      "Retrain  lstm  on:  2019-01-02 - 2019-02-15\n",
      "[1/1] Training loss: 1.7666\t                 Validation loss: 1.3704\n",
      "P-value below threshold for  2019-02-16 - 2019-03-02 \tP-Value:  1.7342041e-05\n",
      "Retrain  lstm  on:  2019-01-02 - 2019-02-16\n",
      "[1/1] Training loss: 1.7808\t                 Validation loss: 1.4021\n",
      "P-value below threshold for  2019-02-17 - 2019-03-03 \tP-Value:  7.4205556e-05\n",
      "Retrain  lstm  on:  2019-01-02 - 2019-02-17\n",
      "[1/1] Training loss: 1.6439\t                 Validation loss: 1.5004\n",
      "P-value below threshold for  2019-02-18 - 2019-03-04 \tP-Value:  0.00018017276\n",
      "Retrain  lstm  on:  2019-01-02 - 2019-02-18\n",
      "P-value below threshold for  2019-02-19 - 2019-03-05 \tP-Value:  0.0017683145\n",
      "Retrain  lstm  on:  2019-01-02 - 2019-02-19\n",
      "[1/1] Training loss: 1.5727\t                 Validation loss: 2.2455\n",
      "P-value below threshold for  2019-02-20 - 2019-03-06 \tP-Value:  0.007594711\n",
      "Retrain  lstm  on:  2019-01-02 - 2019-02-20\n",
      "[1/1] Training loss: 1.6121\t                 Validation loss: 2.2315\n",
      "P-value below threshold for  2019-02-22 - 2019-03-08 \tP-Value:  0.008610573\n",
      "Retrain  lstm  on:  2019-01-02 - 2019-02-22\n",
      "[1/1] Training loss: 1.7417\t                 Validation loss: 1.9492\n",
      "P-value below threshold for  2019-02-23 - 2019-03-09 \tP-Value:  0.0055998666\n",
      "Retrain  lstm  on:  2019-01-02 - 2019-02-23\n",
      "[1/1] Training loss: 1.6195\t                 Validation loss: 1.9457\n",
      "P-value below threshold for  2019-02-24 - 2019-03-10 \tP-Value:  0.0014516871\n",
      "Retrain  lstm  on:  2019-01-02 - 2019-02-24\n",
      "[1/1] Training loss: 1.9536\t                 Validation loss: 1.3822\n",
      "P-value below threshold for  2019-02-25 - 2019-03-11 \tP-Value:  0.002891459\n",
      "Retrain  lstm  on:  2019-01-02 - 2019-02-25\n",
      "[1/1] Training loss: 1.7605\t                 Validation loss: 1.3338\n",
      "P-value below threshold for  2019-02-26 - 2019-03-12 \tP-Value:  0.0040257764\n",
      "Retrain  lstm  on:  2019-01-02 - 2019-02-26\n",
      "[1/1] Training loss: 1.7785\t                 Validation loss: 1.4533\n",
      "P-value below threshold for  2019-03-06 - 2019-03-20 \tP-Value:  0.007344404\n",
      "Retrain  lstm  on:  2019-01-02 - 2019-03-06\n",
      "[1/1] Training loss: 1.8979\t                 Validation loss: 1.3829\n",
      "P-value below threshold for  2019-03-07 - 2019-03-21 \tP-Value:  0.0057073343\n",
      "Retrain  lstm  on:  2019-01-02 - 2019-03-07\n",
      "[1/1] Training loss: 1.7820\t                 Validation loss: 1.2527\n",
      "P-value below threshold for  2019-03-08 - 2019-03-22 \tP-Value:  0.0085399365\n",
      "Retrain  lstm  on:  2019-01-02 - 2019-03-08\n",
      "[1/1] Training loss: 1.8189\t                 Validation loss: 1.3978\n"
     ]
    },
    {
     "name": "stderr",
     "output_type": "stream",
     "text": [
      "\n",
      " 19%|█▊        | 100/534 [01:22<05:59,  1.21it/s]\u001b[A\n",
      " 28%|██▊       | 150/534 [02:15<05:55,  1.08it/s]\u001b[A"
     ]
    },
    {
     "name": "stdout",
     "output_type": "stream",
     "text": [
      "P-value below threshold for  2019-06-10 - 2019-06-24 \tP-Value:  0.0031543528\n",
      "Retrain  lstm  on:  2019-01-02 - 2019-06-10\n",
      "[1/1] Training loss: 1.7555\t                 Validation loss: 1.6606\n",
      "P-value below threshold for  2019-06-11 - 2019-06-25 \tP-Value:  0.0024356695\n",
      "Retrain  lstm  on:  2019-01-02 - 2019-06-11\n",
      "[1/1] Training loss: 1.6951\t                 Validation loss: 1.6216\n",
      "P-value below threshold for  2019-06-12 - 2019-06-26 \tP-Value:  0.0029645683\n",
      "Retrain  lstm  on:  2019-01-02 - 2019-06-12\n",
      "[1/1] Training loss: 1.7409\t                 Validation loss: 1.8253\n",
      "P-value below threshold for  2019-06-13 - 2019-06-27 \tP-Value:  0.0063191396\n",
      "Retrain  lstm  on:  2019-01-02 - 2019-06-13\n",
      "[1/1] Training loss: 1.7229\t                 Validation loss: 1.8971\n",
      "P-value below threshold for  2019-06-14 - 2019-06-28 \tP-Value:  0.0023000306\n",
      "Retrain  lstm  on:  2019-01-02 - 2019-06-14\n",
      "[1/1] Training loss: 1.6941\t                 Validation loss: 2.4703\n",
      "P-value below threshold for  2019-06-15 - 2019-06-29 \tP-Value:  0.001570559\n",
      "Retrain  lstm  on:  2019-01-02 - 2019-06-15\n",
      "[1/1] Training loss: 1.7043\t                 Validation loss: 1.7803\n",
      "P-value below threshold for  2019-06-16 - 2019-06-30 \tP-Value:  0.0019413279\n",
      "Retrain  lstm  on:  2019-01-02 - 2019-06-16\n",
      "[1/1] Training loss: 1.7321\t                 Validation loss: 1.5559\n",
      "P-value below threshold for  2019-06-18 - 2019-07-02 \tP-Value:  0.0051804143\n",
      "Retrain  lstm  on:  2019-01-02 - 2019-06-18\n",
      "[1/1] Training loss: 1.8034\t                 Validation loss: 1.7613\n",
      "P-value below threshold for  2019-06-20 - 2019-07-04 \tP-Value:  0.006542969\n",
      "Retrain  lstm  on:  2019-01-02 - 2019-06-20\n",
      "[1/1] Training loss: 1.8196\t                 Validation loss: 1.5294\n",
      "P-value below threshold for  2019-06-21 - 2019-07-05 \tP-Value:  0.009675658\n",
      "Retrain  lstm  on:  2019-01-02 - 2019-06-21\n",
      "[1/1] Training loss: 1.5967\t                 Validation loss: 1.7824\n",
      "P-value below threshold for  2019-07-06 - 2019-07-20 \tP-Value:  0.0069905682\n",
      "Retrain  lstm  on:  2019-01-02 - 2019-07-06\n",
      "[1/1] Training loss: 1.6869\t                 Validation loss: 1.5173\n"
     ]
    },
    {
     "name": "stderr",
     "output_type": "stream",
     "text": [
      "\n",
      " 37%|███▋      | 200/534 [03:14<05:39,  1.02s/it]\u001b[A"
     ]
    },
    {
     "name": "stdout",
     "output_type": "stream",
     "text": [
      "P-value below threshold for  2019-08-25 - 2019-09-08 \tP-Value:  0.007149937\n",
      "Retrain  lstm  on:  2019-01-02 - 2019-08-25\n",
      "[1/1] Training loss: 1.7574\t                 Validation loss: 1.5228\n",
      "P-value below threshold for  2019-08-26 - 2019-09-09 \tP-Value:  0.0034480107\n",
      "Retrain  lstm  on:  2019-01-02 - 2019-08-26\n",
      "[1/1] Training loss: 1.7745\t                 Validation loss: 1.6424\n",
      "P-value below threshold for  2019-08-27 - 2019-09-10 \tP-Value:  0.005268396\n",
      "Retrain  lstm  on:  2019-01-02 - 2019-08-27\n",
      "[1/1] Training loss: 1.6463\t                 Validation loss: 1.6233\n",
      "P-value below threshold for  2019-08-28 - 2019-09-11 \tP-Value:  0.0013645381\n",
      "Retrain  lstm  on:  2019-01-02 - 2019-08-28\n",
      "[1/1] Training loss: 1.7594\t                 Validation loss: 1.4492\n",
      "P-value below threshold for  2019-08-29 - 2019-09-12 \tP-Value:  0.00016687915\n",
      "Retrain  lstm  on:  2019-01-02 - 2019-08-29\n",
      "[1/1] Training loss: 1.6560\t                 Validation loss: 1.8108\n",
      "P-value below threshold for  2019-08-30 - 2019-09-13 \tP-Value:  0.00028071637\n",
      "Retrain  lstm  on:  2019-01-02 - 2019-08-30\n",
      "[1/1] Training loss: 1.6723\t                 Validation loss: 1.6030\n",
      "P-value below threshold for  2019-08-31 - 2019-09-14 \tP-Value:  0.00020968195\n",
      "Retrain  lstm  on:  2019-01-02 - 2019-08-31\n",
      "[1/1] Training loss: 1.7292\t                 Validation loss: 1.6696\n",
      "P-value below threshold for  2019-09-01 - 2019-09-15 \tP-Value:  0.00034042264\n",
      "Retrain  lstm  on:  2019-01-02 - 2019-09-01\n",
      "[1/1] Training loss: 1.6685\t                 Validation loss: 1.5688\n",
      "P-value below threshold for  2019-09-02 - 2019-09-16 \tP-Value:  0.0006616764\n",
      "Retrain  lstm  on:  2019-01-02 - 2019-09-02\n",
      "[1/1] Training loss: 1.6917\t                 Validation loss: 1.3995\n",
      "P-value below threshold for  2019-09-03 - 2019-09-17 \tP-Value:  0.0002108791\n",
      "Retrain  lstm  on:  2019-01-02 - 2019-09-03\n",
      "[1/1] Training loss: 1.6679\t                 Validation loss: 1.8498\n",
      "P-value below threshold for  2019-09-04 - 2019-09-18 \tP-Value:  0.00073258876\n",
      "Retrain  lstm  on:  2019-01-02 - 2019-09-04\n",
      "[1/1] Training loss: 1.6950\t                 Validation loss: 1.7705\n",
      "P-value below threshold for  2019-09-05 - 2019-09-19 \tP-Value:  0.00014712075\n",
      "Retrain  lstm  on:  2019-01-02 - 2019-09-05\n",
      "[1/1] Training loss: 1.6906\t                 Validation loss: 1.7094\n",
      "P-value below threshold for  2019-09-06 - 2019-09-20 \tP-Value:  0.00031253856\n",
      "Retrain  lstm  on:  2019-01-02 - 2019-09-06\n",
      "[1/1] Training loss: 1.7588\t                 Validation loss: 1.4685\n",
      "P-value below threshold for  2019-09-07 - 2019-09-21 \tP-Value:  0.0038384292\n",
      "Retrain  lstm  on:  2019-01-02 - 2019-09-07\n",
      "[1/1] Training loss: 1.7490\t                 Validation loss: 1.3367\n",
      "P-value below threshold for  2019-09-08 - 2019-09-22 \tP-Value:  0.0012706217\n",
      "Retrain  lstm  on:  2019-01-02 - 2019-09-08\n",
      "[1/1] Training loss: 1.6828\t                 Validation loss: 1.8027\n"
     ]
    },
    {
     "name": "stderr",
     "output_type": "stream",
     "text": [
      "\n",
      " 47%|████▋     | 250/534 [04:23<05:25,  1.15s/it]\u001b[A"
     ]
    },
    {
     "name": "stdout",
     "output_type": "stream",
     "text": [
      "P-value below threshold for  2019-09-09 - 2019-09-23 \tP-Value:  0.0025047855\n",
      "Retrain  lstm  on:  2019-01-02 - 2019-09-09\n",
      "[1/1] Training loss: 1.6918\t                 Validation loss: 1.6404\n",
      "P-value below threshold for  2019-10-25 - 2019-11-08 \tP-Value:  0.009785932\n",
      "Retrain  lstm  on:  2019-01-02 - 2019-10-25\n",
      "[1/1] Training loss: 1.6915\t                 Validation loss: 1.7186\n"
     ]
    },
    {
     "name": "stderr",
     "output_type": "stream",
     "text": [
      "\n",
      " 56%|█████▌    | 300/534 [05:19<04:25,  1.14s/it]\u001b[A"
     ]
    },
    {
     "name": "stdout",
     "output_type": "stream",
     "text": [
      "P-value below threshold for  2019-11-02 - 2019-11-16 \tP-Value:  0.0009343852\n",
      "Retrain  lstm  on:  2019-01-02 - 2019-11-02\n",
      "[1/1] Training loss: 1.7399\t                 Validation loss: 1.4225\n",
      "P-value below threshold for  2019-11-03 - 2019-11-17 \tP-Value:  0.0022034706\n",
      "Retrain  lstm  on:  2019-01-02 - 2019-11-03\n",
      "[1/1] Training loss: 1.7543\t                 Validation loss: 1.6206\n",
      "P-value below threshold for  2019-11-04 - 2019-11-18 \tP-Value:  0.0017427178\n",
      "Retrain  lstm  on:  2019-01-02 - 2019-11-04\n",
      "[1/1] Training loss: 1.7507\t                 Validation loss: 1.5102\n",
      "P-value below threshold for  2019-11-05 - 2019-11-19 \tP-Value:  0.00028923573\n",
      "Retrain  lstm  on:  2019-01-02 - 2019-11-05\n",
      "[1/1] Training loss: 1.6724\t                 Validation loss: 1.6165\n",
      "P-value below threshold for  2019-11-06 - 2019-11-20 \tP-Value:  0.0016486346\n",
      "Retrain  lstm  on:  2019-01-02 - 2019-11-06\n",
      "[1/1] Training loss: 1.6432\t                 Validation loss: 1.5753\n",
      "P-value below threshold for  2019-11-07 - 2019-11-21 \tP-Value:  0.0023388776\n",
      "Retrain  lstm  on:  2019-01-02 - 2019-11-07\n",
      "[1/1] Training loss: 1.6911\t                 Validation loss: 1.7958\n",
      "P-value below threshold for  2019-11-08 - 2019-11-22 \tP-Value:  0.0026432725\n",
      "Retrain  lstm  on:  2019-01-02 - 2019-11-08\n",
      "[1/1] Training loss: 1.6174\t                 Validation loss: 1.6687\n",
      "P-value below threshold for  2019-11-09 - 2019-11-23 \tP-Value:  0.0027357202\n",
      "Retrain  lstm  on:  2019-01-02 - 2019-11-09\n",
      "[1/1] Training loss: 1.8091\t                 Validation loss: 1.5421\n",
      "P-value below threshold for  2019-11-10 - 2019-11-24 \tP-Value:  0.004285384\n",
      "Retrain  lstm  on:  2019-01-02 - 2019-11-10\n",
      "[1/1] Training loss: 1.7119\t                 Validation loss: 1.8301\n",
      "P-value below threshold for  2019-11-11 - 2019-11-25 \tP-Value:  0.0030847653\n",
      "Retrain  lstm  on:  2019-01-02 - 2019-11-11\n",
      "[1/1] Training loss: 1.6541\t                 Validation loss: 1.8339\n",
      "P-value below threshold for  2019-12-02 - 2019-12-16 \tP-Value:  0.0063290335\n",
      "Retrain  lstm  on:  2019-01-02 - 2019-12-02\n",
      "[1/1] Training loss: 1.6762\t                 Validation loss: 1.8038\n"
     ]
    },
    {
     "name": "stderr",
     "output_type": "stream",
     "text": [
      "\n",
      " 66%|██████▌   | 350/534 [06:34<03:50,  1.25s/it]\u001b[A\n",
      " 75%|███████▍  | 400/534 [07:43<02:52,  1.29s/it]\u001b[A"
     ]
    },
    {
     "name": "stdout",
     "output_type": "stream",
     "text": [
      "P-value below threshold for  2020-02-11 - 2020-02-25 \tP-Value:  0.0053567574\n",
      "Retrain  lstm  on:  2019-01-02 - 2020-02-11\n",
      "[1/1] Training loss: 1.6706\t                 Validation loss: 1.4230\n",
      "P-value below threshold for  2020-02-14 - 2020-02-28 \tP-Value:  0.0044942503\n",
      "Retrain  lstm  on:  2019-01-02 - 2020-02-14\n",
      "[1/1] Training loss: 1.7101\t                 Validation loss: 1.4825\n",
      "P-value below threshold for  2020-02-15 - 2020-02-29 \tP-Value:  0.009023911\n",
      "Retrain  lstm  on:  2019-01-02 - 2020-02-15\n",
      "[1/1] Training loss: 1.7088\t                 Validation loss: 1.6166\n",
      "P-value below threshold for  2020-02-18 - 2020-03-03 \tP-Value:  0.00967225\n",
      "Retrain  lstm  on:  2019-01-02 - 2020-02-18\n",
      "[1/1] Training loss: 1.6360\t                 Validation loss: 1.7031\n",
      "P-value below threshold for  2020-02-19 - 2020-03-04 \tP-Value:  0.004271744\n",
      "Retrain  lstm  on:  2019-01-02 - 2020-02-19\n",
      "[1/1] Training loss: 1.7197\t                 Validation loss: 1.6622\n",
      "P-value below threshold for  2020-02-22 - 2020-03-07 \tP-Value:  0.008342538\n",
      "Retrain  lstm  on:  2019-01-02 - 2020-02-22\n",
      "[1/1] Training loss: 1.7257\t                 Validation loss: 1.5184\n",
      "P-value below threshold for  2020-03-15 - 2020-03-29 \tP-Value:  0.009406513\n",
      "Retrain  lstm  on:  2019-01-02 - 2020-03-15\n",
      "[1/1] Training loss: 1.6259\t                 Validation loss: 1.6721\n",
      "P-value below threshold for  2020-03-16 - 2020-03-30 \tP-Value:  0.0007703123\n",
      "Retrain  lstm  on:  2019-01-02 - 2020-03-16\n",
      "[1/1] Training loss: 1.6396\t                 Validation loss: 1.6086\n",
      "P-value below threshold for  2020-03-17 - 2020-03-31 \tP-Value:  0.00084134476\n",
      "Retrain  lstm  on:  2019-01-02 - 2020-03-17\n",
      "[1/1] Training loss: 1.6515\t                 Validation loss: 1.6524\n",
      "P-value below threshold for  2020-03-18 - 2020-04-01 \tP-Value:  0.0023838694\n",
      "Retrain  lstm  on:  2019-01-02 - 2020-03-18\n",
      "[1/1] Training loss: 1.6441\t                 Validation loss: 1.6572\n",
      "P-value below threshold for  2020-03-19 - 2020-04-02 \tP-Value:  0.0020937384\n",
      "Retrain  lstm  on:  2019-01-02 - 2020-03-19\n",
      "[1/1] Training loss: 1.6848\t                 Validation loss: 1.6773\n",
      "P-value below threshold for  2020-03-20 - 2020-04-03 \tP-Value:  0.00080191594\n",
      "Retrain  lstm  on:  2019-01-02 - 2020-03-20\n",
      "[1/1] Training loss: 1.6280\t                 Validation loss: 1.6703\n",
      "P-value below threshold for  2020-03-21 - 2020-04-04 \tP-Value:  0.00092449546\n",
      "Retrain  lstm  on:  2019-01-02 - 2020-03-21\n",
      "[1/1] Training loss: 1.7086\t                 Validation loss: 1.5417\n",
      "P-value below threshold for  2020-03-22 - 2020-04-05 \tP-Value:  0.001327945\n",
      "Retrain  lstm  on:  2019-01-02 - 2020-03-22\n",
      "[1/1] Training loss: 1.6881\t                 Validation loss: 1.5334\n",
      "P-value below threshold for  2020-03-23 - 2020-04-06 \tP-Value:  0.0009486993\n",
      "Retrain  lstm  on:  2019-01-02 - 2020-03-23\n",
      "[1/1] Training loss: 1.7054\t                 Validation loss: 1.5519\n",
      "P-value below threshold for  2020-03-24 - 2020-04-07 \tP-Value:  0.0009998933\n",
      "Retrain  lstm  on:  2019-01-02 - 2020-03-24\n",
      "[1/1] Training loss: 1.6479\t                 Validation loss: 1.6307\n",
      "P-value below threshold for  2020-03-25 - 2020-04-08 \tP-Value:  0.00089905824\n",
      "Retrain  lstm  on:  2019-01-02 - 2020-03-25\n",
      "[1/1] Training loss: 1.6604\t                 Validation loss: 1.6033\n",
      "P-value below threshold for  2020-03-26 - 2020-04-09 \tP-Value:  0.0028985955\n",
      "Retrain  lstm  on:  2019-01-02 - 2020-03-26\n",
      "[1/1] Training loss: 1.6337\t                 Validation loss: 1.6643\n"
     ]
    },
    {
     "name": "stderr",
     "output_type": "stream",
     "text": [
      "\n",
      " 84%|████████▍ | 450/534 [10:12<02:32,  1.82s/it]\u001b[A"
     ]
    },
    {
     "name": "stdout",
     "output_type": "stream",
     "text": [
      "P-value below threshold for  2020-05-30 - 2020-06-13 \tP-Value:  0.0056656133\n",
      "Retrain  lstm  on:  2019-01-02 - 2020-05-30\n",
      "[1/1] Training loss: 1.7663\t                 Validation loss: 1.7287\n"
     ]
    },
    {
     "name": "stderr",
     "output_type": "stream",
     "text": [
      " 84%|████████▍ | 450/534 [10:54<02:02,  1.45s/it]\n",
      "2023-01-31 16:55:39,872 \u001b[1;37mINFO\u001b[0m cyclops.utils.file - Pickling data to /mnt/nfs/project/delirium/drift_exp/OCT-18-2022/gemini/mortality/cumulative_simulated_deployment_statwindow14_update25000_epoch1_sample1000_threshold0.01_retraining_update_positiveonly.pkl\n"
     ]
    },
    {
     "name": "stdout",
     "output_type": "stream",
     "text": [
      "98  alarms with avg p-value of  0.0024483092 (0.0018642539342703737, 0.0030323644915757264)\n"
     ]
    },
    {
     "data": {
      "text/plain": [
       "'/mnt/nfs/project/delirium/drift_exp/OCT-18-2022/gemini/mortality/cumulative_simulated_deployment_statwindow14_update25000_epoch1_sample1000_threshold0.01_retraining_update_positiveonly.pkl'"
      ]
     },
     "execution_count": 21,
     "metadata": {},
     "output_type": "execute_result"
    }
   ],
   "source": [
    "all_runs = []\n",
    "for i in range(0, 5):\n",
    "    random.seed(i)\n",
    "    np.random.seed(i)\n",
    "    \n",
    "    detector = Detector(\n",
    "        reductor=reductor,\n",
    "        tester=tester\n",
    "    )\n",
    "\n",
    "    detector.fit(\n",
    "        X_val_final,\n",
    "        backend=\"pytorch\",\n",
    "        device = \"cuda\",\n",
    "        model_path = MODEL_PATH,\n",
    "        batch_size=32,\n",
    "        verbose=0,\n",
    "        alternative=\"greater\",\n",
    "        correction=\"bonferroni\",\n",
    "        input_dim=X_tr_final.shape[2],\n",
    "        update_x_ref={'last': UPDATE_REF}\n",
    "    )\n",
    "    \n",
    "    model, opt, _ = load_checkpoint(MODEL_PATH, model)\n",
    "    \n",
    "    retrainer = CumulativeRetrainer(\n",
    "        shift_detector=detector, \n",
    "        optimizer=opt, \n",
    "        model=model, \n",
    "        model_name=model_name\n",
    "    )\n",
    "    \n",
    "    results = retrainer.retrain(\n",
    "        data_streams=data_streams,\n",
    "        sample=SAMPLE,\n",
    "        stat_window=STAT_WINDOW,\n",
    "        lookup_window=LOOKUP_WINDOW,\n",
    "        stride=STRIDE,\n",
    "        model_path=MODEL_PATH,\n",
    "        threshold=THRESHOLD,\n",
    "        n_epochs = n_epochs,\n",
    "        verbose = 1,\n",
    "        correct_only=0,\n",
    "        positive_only=1,\n",
    "    )\n",
    "\n",
    "    all_runs.append(results)\n",
    "    pvals_test = results[\"p_val\"]\n",
    "    mean = np.mean([i for i in pvals_test if i < THRESHOLD] )\n",
    "    ci = st.t.interval(\n",
    "        0.95,\n",
    "        len([i for i in pvals_test if i < THRESHOLD]) - 1,\n",
    "        loc=np.mean([i for i in pvals_test if i < THRESHOLD]),\n",
    "        scale=st.sem([i for i in pvals_test if i < THRESHOLD]),\n",
    "    )\n",
    "    print(len([i for i in pvals_test if i < THRESHOLD]), \" alarms with avg p-value of \", mean, ci)\n",
    "\n",
    "save_pickle(all_runs, os.path.join(PATH, DATASET,USE_CASE, \"_\".join([\"cumulative\",ID, \"statwindow\"+str(STAT_WINDOW),\"update\"+str(UPDATE_REF),\"epoch\"+str(n_epochs),\"sample\"+str(SAMPLE),\"threshold\"+str(THRESHOLD),\"retraining\",retrain,\"positiveonly\"])+\".pkl\"))"
   ]
  },
  {
   "cell_type": "code",
   "execution_count": null,
   "id": "91b224ec-d94f-4a09-8bae-1b1962e32cc1",
   "metadata": {},
   "outputs": [],
   "source": []
  }
 ],
 "metadata": {
  "kernelspec": {
   "display_name": "cyclops-KKtuQLwg-py3.9",
   "language": "python",
   "name": "cyclops-kktuqlwg-py3.9"
  },
  "language_info": {
   "codemirror_mode": {
    "name": "ipython",
    "version": 3
   },
   "file_extension": ".py",
   "mimetype": "text/x-python",
   "name": "python",
   "nbconvert_exporter": "python",
   "pygments_lexer": "ipython3",
   "version": "3.9.7"
  },
  "vscode": {
   "interpreter": {
    "hash": "bd2cd438e1c6ddffa3035fc73b17ac5cc0e0ea8897eb8be17cc645c6abf0c8cc"
   }
  }
 },
 "nbformat": 4,
 "nbformat_minor": 5
}

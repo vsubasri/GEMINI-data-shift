{
 "cells": [
  {
   "cell_type": "markdown",
   "id": "fe5c6ded-8970-44f4-b337-7e19909aaed9",
   "metadata": {},
   "source": [
    "### Retraining using window of most recent encounters"
   ]
  },
  {
   "cell_type": "code",
   "execution_count": 1,
   "id": "11504cf1-e260-41ab-8854-79df66acd092",
   "metadata": {},
   "outputs": [],
   "source": [
    "import datetime\n",
    "import os\n",
    "import random\n",
    "import scipy.stats\n",
    "from datetime import date\n",
    "import matplotlib.pyplot as plt\n",
    "import numpy as np\n",
    "import pandas as pd\n",
    "import scipy.stats as st\n",
    "from matplotlib.colors import ListedColormap\n",
    "from scipy.stats import pearsonr, spearmanr\n",
    "import pickle\n",
    "from alibi_detect.cd.pytorch import HiddenOutput\n",
    "import torch.nn as nn\n",
    "import torch.optim as optim\n",
    "from cyclops.utils.file import load_pickle, save_pickle\n",
    "\n",
    "from cyclops.processors.column_names import (\n",
    "    ADMIT_TIMESTAMP,\n",
    "    DISCHARGE_TIMESTAMP,\n",
    "    ENCOUNTER_ID,\n",
    "    EVENT_NAME,\n",
    "    EVENT_TIMESTAMP,\n",
    "    EVENT_VALUE,\n",
    "    RESTRICT_TIMESTAMP,\n",
    "    TIMESTEP,\n",
    ")\n",
    "\n",
    "from drift_detection.baseline_models.temporal.pytorch.optimizer import Optimizer, EarlyStopper\n",
    "from drift_detection.drift_detector.clinical_applicator import ClinicalShiftApplicator\n",
    "from drift_detection.drift_detector.detector import Detector\n",
    "from drift_detection.drift_detector.experimenter import Experimenter\n",
    "from drift_detection.drift_detector.plotter import plot_drift_samples_pval\n",
    "from drift_detection.drift_detector.reductor import Reductor\n",
    "from drift_detection.drift_detector.tester import DCTester, TSTester\n",
    "from drift_detection.gemini.constants import DIAGNOSIS_DICT, ACADEMIC, COMMUNITY, HOSPITALS\n",
    "from drift_detection.gemini.utils import get_use_case_params, impute, prep, import_dataset_hospital\n",
    "from models.temporal.utils import (\n",
    "    get_device,\n",
    "    load_checkpoint,\n",
    ")\n",
    "from cyclops.processors.constants import ALL, FEATURES, MEAN, NUMERIC, ORDINAL, STANDARD\n",
    "from cyclops.processors.feature.vectorize import (\n",
    "    Vectorized,\n",
    "    intersect_vectorized,\n",
    "    split_vectorized,\n",
    "    vec_index_exp,\n",
    ")\n",
    "from drift_detection.retrainers.periodic import PeriodicRetrainer\n",
    "from drift_detection.drift_detector.utils import get_serving_data, get_temporal_model"
   ]
  },
  {
   "cell_type": "markdown",
   "id": "52a87aba-7eb0-436f-8304-56f8b8feab82",
   "metadata": {},
   "source": [
    "## Get parameters"
   ]
  },
  {
   "cell_type": "code",
   "execution_count": 2,
   "id": "17cff9cf-c682-4973-ab27-1161b70d516a",
   "metadata": {},
   "outputs": [
    {
     "name": "stdin",
     "output_type": "stream",
     "text": [
      "Select data split:  simulated_deployment\n",
      "Select diagnosis trajectory to filter on:  all\n",
      "Select hospital to filter on:  all\n"
     ]
    }
   ],
   "source": [
    "DATASET = \"gemini\"\n",
    "USE_CASE = \"mortality\"\n",
    "PATH = \"/mnt/nfs/project/delirium/drift_exp/OCT-18-2022/\"\n",
    "TIMESTEPS = 6\n",
    "AGGREGATION_TYPE = \"time\"   \n",
    "ID = SHIFT = input(\"Select data split: \")\n",
    "DIAGNOSIS_TRAJECTORY = input(\"Select diagnosis trajectory to filter on: \") \n",
    "HOSPITAL = input(\"Select hospital to filter on: \") \n",
    "\n",
    "splice_map = {\n",
    "    \"hospital_id\": HOSPITALS\n",
    "}\n",
    "\n",
    "if DIAGNOSIS_TRAJECTORY != \"all\":\n",
    "    diagnosis_trajectory = '_'.join(DIAGNOSIS_DICT[DIAGNOSIS_TRAJECTORY])\n",
    "    ID = ID +\"_\"+ diagnosis_trajectory\n",
    "    splice_map[\"diagnosis_trajectory\"] = [diagnosis_trajectory]\n",
    "    \n",
    "if HOSPITAL != \"all\":\n",
    "    ID = HOSPITAL + \"_\" + ID \n",
    "    splice_map[\"hospital_id\"] = [HOSPITAL]\n",
    "    \n",
    "use_case_params = get_use_case_params(DATASET, USE_CASE)\n",
    "    \n",
    "MODEL_PATH = os.path.join(\n",
    "    PATH,\n",
    "    DATASET,\n",
    "    USE_CASE,\n",
    "    \"saved_models\",\n",
    "    \"simulated_deployment_reweight_positive_lstm_1.pt\"\n",
    ")"
   ]
  },
  {
   "cell_type": "markdown",
   "id": "92705618-9594-4c4d-9b8f-80c1ea8934d2",
   "metadata": {},
   "source": [
    "## Get data"
   ]
  },
  {
   "cell_type": "code",
   "execution_count": 3,
   "id": "364e2e5c-81fa-4331-92f4-38fffcb0a9fa",
   "metadata": {},
   "outputs": [
    {
     "name": "stderr",
     "output_type": "stream",
     "text": [
      "2023-02-21 16:15:39,259 \u001b[1;37mINFO\u001b[0m cyclops.utils.file - Loading pickled data from /mnt/nfs/project/delirium/drift_exp/OCT-18-2022/gemini/mortality/./data/tab_features.pkl\n",
      "2023-02-21 16:15:39,469 \u001b[1;37mINFO\u001b[0m cyclops.utils.file - Loading pickled data from /mnt/nfs/project/delirium/drift_exp/OCT-18-2022/gemini/mortality/./data/4-final/aligned_comb_train_X_simulated_deployment.pkl\n",
      "2023-02-21 16:15:39,894 \u001b[1;37mINFO\u001b[0m cyclops.utils.file - Loading pickled data from /mnt/nfs/project/delirium/drift_exp/OCT-18-2022/gemini/mortality/./data/4-final/aligned_comb_train_y_simulated_deployment.pkl\n",
      "2023-02-21 16:15:39,942 \u001b[1;37mINFO\u001b[0m cyclops.utils.file - Loading pickled data from /mnt/nfs/project/delirium/drift_exp/OCT-18-2022/gemini/mortality/./data/4-final/aligned_comb_val_X_simulated_deployment.pkl\n",
      "2023-02-21 16:15:40,042 \u001b[1;37mINFO\u001b[0m cyclops.utils.file - Loading pickled data from /mnt/nfs/project/delirium/drift_exp/OCT-18-2022/gemini/mortality/./data/4-final/aligned_comb_val_y_simulated_deployment.pkl\n",
      "2023-02-21 16:15:40,054 \u001b[1;37mINFO\u001b[0m cyclops.utils.file - Loading pickled data from /mnt/nfs/project/delirium/drift_exp/OCT-18-2022/gemini/mortality/./data/4-final/aligned_comb_test_X_simulated_deployment.pkl\n",
      "2023-02-21 16:15:40,201 \u001b[1;37mINFO\u001b[0m cyclops.utils.file - Loading pickled data from /mnt/nfs/project/delirium/drift_exp/OCT-18-2022/gemini/mortality/./data/4-final/aligned_comb_test_y_simulated_deployment.pkl\n"
     ]
    }
   ],
   "source": [
    "random.seed(1)\n",
    "\n",
    "tab_features = load_pickle(use_case_params.TAB_FEATURES_FILE)\n",
    "\n",
    "use_case_params = get_use_case_params(DATASET, USE_CASE)\n",
    "\n",
    "(X_tr_final, y_tr), (X_val_final, y_val), (X_t_final, y_t) = import_dataset_hospital(\n",
    "    use_case_params.TAB_VEC_COMB, ID, train_frac=0.8, shuffle=True,\n",
    ")"
   ]
  },
  {
   "cell_type": "markdown",
   "id": "cb0a5be5-e6e5-48da-aa6a-94511b907a69",
   "metadata": {},
   "source": [
    "## Create data streams"
   ]
  },
  {
   "cell_type": "code",
   "execution_count": 4,
   "id": "950b8746-7262-489e-bd31-c4e381900525",
   "metadata": {},
   "outputs": [],
   "source": [
    "START_DATE = date(2019, 1, 1)\n",
    "END_DATE = date(2020, 8, 1)"
   ]
  },
  {
   "cell_type": "code",
   "execution_count": 5,
   "id": "3286edd0-015e-4402-89ee-102c54a7da81",
   "metadata": {},
   "outputs": [
    {
     "name": "stderr",
     "output_type": "stream",
     "text": [
      "2023-02-21 16:15:41,862 \u001b[1;37mINFO\u001b[0m cyclops.utils.file - Loading pickled data from /mnt/nfs/project/delirium/drift_exp/OCT-18-2022/gemini/mortality/drift/data_streams_simulated_deployment_2019-01-01_2020-08-01.pkl\n"
     ]
    },
    {
     "name": "stdout",
     "output_type": "stream",
     "text": [
      "Get target data streams...\n"
     ]
    }
   ],
   "source": [
    "print(\"Get target data streams...\")\n",
    "data_streams_filepath = os.path.join(\n",
    "    PATH,\n",
    "    DATASET,\n",
    "    USE_CASE,\n",
    "    \"drift\",\n",
    "    \"data_streams_\"+ID+\"_\"+str(START_DATE)+\"_\"+str(END_DATE)+\".pkl\"\n",
    ")\n",
    "data_streams_filepath\n",
    "\n",
    "if os.path.exists(data_streams_filepath):\n",
    "    data_streams = load_pickle(data_streams_filepath)\n",
    "else:\n",
    "    tab_vectorized = load_pickle(use_case_params.TAB_VECTORIZED_FILE)\n",
    "    comb_vectorized = load_pickle(use_case_params.COMB_VECTORIZED_FILE)\n",
    "\n",
    "\n",
    "    ids = tab_features.slice(splice_map)\n",
    "    tab_vectorized = tab_vectorized.take_with_index(ENCOUNTER_ID, ids)\n",
    "    # intersect tabular and temporal vectors of source data\n",
    "    tab_vectorized, comb_vectorized = intersect_vectorized(\n",
    "        [tab_vectorized, comb_vectorized], axes=ENCOUNTER_ID\n",
    "    )\n",
    "    numeric_features = tab_features.features_by_type(NUMERIC)    \n",
    "    normalizer_map = {feat: STANDARD for feat in numeric_features}\n",
    "    comb_vectorized.add_normalizer(\n",
    "        EVENT_NAME,\n",
    "        normalization_method=STANDARD,\n",
    "    )\n",
    "    X, y = comb_vectorized.split_out(EVENT_NAME, use_case_params.TEMP_TARGETS)\n",
    "    X = impute(X)\n",
    "    X.fit_normalizer()\n",
    "    #X.normalizer = load_pickle(\"/mnt/nfs/home/subasriv/cyclops/drift_detection/notebooks/mortality/normalizer.pkl\")\n",
    "    X.normalize()\n",
    "\n",
    "    X_final = prep(X)\n",
    "    ind = pd.MultiIndex.from_product(\n",
    "            [X.indexes[1], range(6)], names=[ENCOUNTER_ID, TIMESTEP]\n",
    "    )\n",
    "    X_final = pd.DataFrame(X_final.reshape(X_final.shape[0]*X_final.shape[1], X_final.shape[2]),index=ind, columns=X.indexes[2])\n",
    "    y_final = y.data.reshape(y.data.shape[1],y.data.shape[3])\n",
    "\n",
    "    data_streams = get_serving_data(\n",
    "        X_final,\n",
    "        y_final,\n",
    "        tab_features.data,\n",
    "        START_DATE,\n",
    "        END_DATE,\n",
    "        stride=1,\n",
    "        window=1,\n",
    "        encounter_id=\"encounter_id\",\n",
    "        admit_timestamp=\"admit_timestamp\",\n",
    "    )\n",
    "    save_pickle(data_streams, data_streams_filepath)"
   ]
  },
  {
   "cell_type": "markdown",
   "id": "2630e452-160d-415c-bb39-a2c4e76b2ed6",
   "metadata": {},
   "source": [
    "## Get shift detector"
   ]
  },
  {
   "cell_type": "code",
   "execution_count": 9,
   "id": "aa5f1a4e-2925-4049-a10b-3ab4d14a8b16",
   "metadata": {},
   "outputs": [
    {
     "name": "stdout",
     "output_type": "stream",
     "text": [
      "Get Shift Reductor...\n",
      "Loading model...\n",
      "Get Shift Detector...\n"
     ]
    }
   ],
   "source": [
    "DR_TECHNIQUE = \"BBSDs_trained_LSTM\"\n",
    "TESTER_METHOD = \"ks\"\n",
    "THRESHOLD = 0.01\n",
    "UPDATE_REF = 25000\n",
    "\n",
    "print(\"Get Shift Reductor...\")\n",
    "reductor = Reductor(\n",
    "    dr_method=DR_TECHNIQUE,\n",
    "    model_path=MODEL_PATH,\n",
    "    n_features=X_tr_final.shape[2],\n",
    "    var_ret=0.8,\n",
    ")\n",
    "\n",
    "tstesters=[\"lk\", \"lsdd\", \"mmd\", \"tabular\", \"ctx_mmd\",\"chi2\", \"fet\", \"ks\" ]\n",
    "dctesters =[\"spot_the_diff\", \"classifier\", \"classifier_uncertainty\"]\n",
    "CONTEXT_TYPE=None\n",
    "REPRESENTATION=None\n",
    "\n",
    "if TESTER_METHOD in tstesters:\n",
    "    tester = TSTester(\n",
    "        tester_method=TESTER_METHOD,\n",
    "    )\n",
    "    if TESTER_METHOD == \"ctx_mmd\":\n",
    "        CONTEXT_TYPE = input(\"Select context type: \")\n",
    "        \n",
    "elif TESTER_METHOD in dctesters:\n",
    "    MODEL_METHOD = input(\"Select model method: \")\n",
    "    tester = DCTester(\n",
    "        tester_method=TESTER_METHOD,\n",
    "        model_method=MODEL_METHOD,\n",
    "    )\n",
    "        \n",
    "    if TESTER_METHOD == \"lk\":\n",
    "        REPRESENTATION = input(\"Select learned kernel representation: \")\n",
    "else:\n",
    "    print(\"Tester method invalid or not supported.\")\n",
    "    \n",
    "print(\"Get Shift Detector...\")\n",
    "detector = Detector(\n",
    "    reductor=reductor,\n",
    "    tester=tester\n",
    ")\n",
    "\n",
    "detector.fit(\n",
    "    X_val_final,\n",
    "    backend=\"pytorch\",\n",
    "    device = \"cuda\",\n",
    "    model_path = MODEL_PATH,\n",
    "    batch_size=32,\n",
    "    verbose=0,\n",
    "    alternative=\"greater\",\n",
    "    correction=\"bonferroni\",\n",
    "    input_dim=X_tr_final.shape[2],\n",
    "    update_x_ref={'last': UPDATE_REF}\n",
    ")"
   ]
  },
  {
   "cell_type": "markdown",
   "id": "9d6b18be-663a-42fc-a4c6-056e2be2fe7a",
   "metadata": {},
   "source": [
    "## Retrain"
   ]
  },
  {
   "cell_type": "code",
   "execution_count": 10,
   "id": "4711697a-d2e0-4ead-978b-1d5ef0010da1",
   "metadata": {},
   "outputs": [
    {
     "name": "stdout",
     "output_type": "stream",
     "text": [
      "Update.\n"
     ]
    }
   ],
   "source": [
    "retrain = \"update\"\n",
    "model_name = \"lstm\"\n",
    "output_dim = 1\n",
    "input_dim = X_tr_final.shape[2]\n",
    "hidden_dim = 64\n",
    "layer_dim = 2\n",
    "dropout = 0.2\n",
    "last_timestep_only = False\n",
    "device = get_device()\n",
    "\n",
    "model_params = {\n",
    "    \"device\": device,\n",
    "    \"input_dim\": input_dim,\n",
    "    \"hidden_dim\": hidden_dim,\n",
    "    \"layer_dim\": layer_dim,\n",
    "    \"output_dim\": output_dim,\n",
    "    \"dropout_prob\": dropout,\n",
    "    \"last_timestep_only\": last_timestep_only,\n",
    "}\n",
    "\n",
    "if model_name in [\"rnn\", \"gru\", \"lstm\"]:\n",
    "    model = get_temporal_model(model_name, model_params).to(device)\n",
    "\n",
    "    if retrain == \"update\":\n",
    "        print(\"Update.\")\n",
    "        model, opt, _ = load_checkpoint(MODEL_PATH, model)\n",
    "        n_epochs = 1\n",
    "    elif retrain == \"retrain\":\n",
    "        print(\"Retrain.\")\n",
    "        n_epochs = 64\n",
    "        learning_rate = 2e-3\n",
    "        weight_decay = 1e-6\n",
    "        clipping_value = 1\n",
    "        reweight_positive = (y_tr == 0).sum() / (y_tr == 1).sum() * 2\n",
    "        loss_fn = nn.BCEWithLogitsLoss(reduction=\"none\")\n",
    "        optimizer = optim.Adagrad(\n",
    "            model.parameters(), lr=learning_rate, weight_decay=weight_decay\n",
    "        )\n",
    "        lr_scheduler = optim.lr_scheduler.StepLR(optimizer, step_size=128, gamma=0.5)\n",
    "        activation = nn.Sigmoid()\n",
    "        earlystopper = EarlyStopper(patience=3, min_delta=0)\n",
    "        opt = Optimizer(\n",
    "            model=model,\n",
    "            loss_fn=loss_fn,\n",
    "            optimizer=optimizer,\n",
    "            activation=activation,\n",
    "            lr_scheduler=lr_scheduler,\n",
    "            reweight_positive=reweight_positive,\n",
    "            earlystopper = earlystopper,\n",
    "            clipping_value = clipping_value\n",
    "        )\n",
    "    else:\n",
    "        print(\"Do nothing.\")\n",
    "# elif model_name == \"gbt\":\n",
    "#     with open(model_path, \"rb\") as f:\n",
    "#         model = pickle.load(f)\n",
    "else:\n",
    "    print(\"Unsupported model\")"
   ]
  },
  {
   "cell_type": "code",
   "execution_count": 11,
   "id": "7d7c4f9d-c58f-4a8d-9b22-70314c7ec695",
   "metadata": {},
   "outputs": [
    {
     "name": "stderr",
     "output_type": "stream",
     "text": [
      "\n",
      "  0%|          | 0/534 [00:00<?, ?it/s]\u001b[A"
     ]
    },
    {
     "name": "stdout",
     "output_type": "stream",
     "text": [
      "Calibrating drift detector...\n"
     ]
    },
    {
     "name": "stderr",
     "output_type": "stream",
     "text": [
      "\n",
      "  9%|▉         | 50/534 [00:13<02:06,  3.84it/s]\u001b[A\n",
      " 19%|█▊        | 100/534 [00:46<03:23,  2.13it/s]\u001b[A\n",
      " 28%|██▊       | 150/534 [01:32<04:10,  1.53it/s]\u001b[A"
     ]
    },
    {
     "name": "stdout",
     "output_type": "stream",
     "text": [
      "Triggered at  2019-05-02 - 2019-05-16 \tP-Value:  0.42004663\n",
      "Retrain  lstm  on:  2019-01-02 - 2019-05-02\n",
      "[1/1] Training loss: 2.0002\t                 Validation loss: 1.8167\n"
     ]
    },
    {
     "name": "stderr",
     "output_type": "stream",
     "text": [
      "\n",
      " 37%|███▋      | 200/534 [02:24<04:25,  1.26it/s]\u001b[A\n",
      " 47%|████▋     | 250/534 [03:13<04:04,  1.16it/s]\u001b[A"
     ]
    },
    {
     "name": "stdout",
     "output_type": "stream",
     "text": [
      "Triggered at  2019-08-30 - 2019-09-13 \tP-Value:  0.00021613427\n",
      "Retrain  lstm  on:  2019-05-02 - 2019-08-30\n",
      "[1/1] Training loss: 1.8579\t                 Validation loss: 1.6847\n"
     ]
    },
    {
     "name": "stderr",
     "output_type": "stream",
     "text": [
      "\n",
      " 56%|█████▌    | 300/534 [04:04<03:33,  1.10it/s]\u001b[A\n",
      " 66%|██████▌   | 350/534 [04:56<02:56,  1.04it/s]\u001b[A\n",
      " 75%|███████▍  | 400/534 [05:55<02:17,  1.03s/it]\u001b[A"
     ]
    },
    {
     "name": "stdout",
     "output_type": "stream",
     "text": [
      "Triggered at  2019-12-28 - 2020-01-11 \tP-Value:  0.16019556\n",
      "Retrain  lstm  on:  2019-08-30 - 2019-12-28\n",
      "[1/1] Training loss: 1.8456\t                 Validation loss: 1.8506\n"
     ]
    },
    {
     "name": "stderr",
     "output_type": "stream",
     "text": [
      "\n",
      " 84%|████████▍ | 450/534 [07:03<01:35,  1.13s/it]\u001b[A\n",
      " 94%|█████████▎| 500/534 [08:02<00:38,  1.14s/it]\u001b[A"
     ]
    },
    {
     "name": "stdout",
     "output_type": "stream",
     "text": [
      "Triggered at  2020-04-26 - 2020-05-10 \tP-Value:  0.2059353\n",
      "Retrain  lstm  on:  2019-12-28 - 2020-04-26\n",
      "[1/1] Training loss: 1.9521\t                 Validation loss: 2.0074\n"
     ]
    },
    {
     "name": "stderr",
     "output_type": "stream",
     "text": [
      "\n",
      "550it [09:38,  1.05s/it]                         \u001b[A\n"
     ]
    },
    {
     "name": "stdout",
     "output_type": "stream",
     "text": [
      "118  alarms with avg p-value of  0.0017927435 (0.0012644641834446413, 0.002321022722204663)\n"
     ]
    },
    {
     "name": "stderr",
     "output_type": "stream",
     "text": [
      "\n",
      "  0%|          | 0/534 [00:00<?, ?it/s]\u001b[A"
     ]
    },
    {
     "name": "stdout",
     "output_type": "stream",
     "text": [
      "Calibrating drift detector...\n"
     ]
    },
    {
     "name": "stderr",
     "output_type": "stream",
     "text": [
      "\n",
      "  9%|▉         | 50/534 [00:12<02:01,  3.97it/s]\u001b[A\n",
      " 19%|█▊        | 100/534 [00:47<03:27,  2.09it/s]\u001b[A\n",
      " 28%|██▊       | 150/534 [01:33<04:14,  1.51it/s]\u001b[A"
     ]
    },
    {
     "name": "stdout",
     "output_type": "stream",
     "text": [
      "Triggered at  2019-05-02 - 2019-05-16 \tP-Value:  0.42004663\n",
      "Retrain  lstm  on:  2019-01-02 - 2019-05-02\n",
      "[1/1] Training loss: 2.0003\t                 Validation loss: 1.7942\n"
     ]
    },
    {
     "name": "stderr",
     "output_type": "stream",
     "text": [
      "\n",
      " 37%|███▋      | 200/534 [02:25<04:26,  1.25it/s]\u001b[A\n",
      " 47%|████▋     | 250/534 [03:13<04:04,  1.16it/s]\u001b[A"
     ]
    },
    {
     "name": "stdout",
     "output_type": "stream",
     "text": [
      "Triggered at  2019-08-30 - 2019-09-13 \tP-Value:  0.00021979728\n",
      "Retrain  lstm  on:  2019-05-02 - 2019-08-30\n",
      "[1/1] Training loss: 1.8144\t                 Validation loss: 1.6775\n"
     ]
    },
    {
     "name": "stderr",
     "output_type": "stream",
     "text": [
      "\n",
      " 56%|█████▌    | 300/534 [04:06<03:36,  1.08it/s]\u001b[A\n",
      " 66%|██████▌   | 350/534 [05:06<03:06,  1.01s/it]\u001b[A\n",
      " 75%|███████▍  | 400/534 [06:13<02:29,  1.12s/it]\u001b[A"
     ]
    },
    {
     "name": "stdout",
     "output_type": "stream",
     "text": [
      "Triggered at  2019-12-28 - 2020-01-11 \tP-Value:  0.1842064\n",
      "Retrain  lstm  on:  2019-08-30 - 2019-12-28\n",
      "[1/1] Training loss: 1.8378\t                 Validation loss: 1.8628\n"
     ]
    },
    {
     "name": "stderr",
     "output_type": "stream",
     "text": [
      "\n",
      " 84%|████████▍ | 450/534 [07:31<01:45,  1.25s/it]\u001b[A\n",
      " 94%|█████████▎| 500/534 [08:36<00:43,  1.27s/it]\u001b[A"
     ]
    },
    {
     "name": "stdout",
     "output_type": "stream",
     "text": [
      "Triggered at  2020-04-26 - 2020-05-10 \tP-Value:  0.19692628\n",
      "Retrain  lstm  on:  2019-12-28 - 2020-04-26\n",
      "[1/1] Training loss: 1.9599\t                 Validation loss: 1.9565\n"
     ]
    },
    {
     "name": "stderr",
     "output_type": "stream",
     "text": [
      "\n",
      "550it [10:18,  1.12s/it]                         \u001b[A\n"
     ]
    },
    {
     "name": "stdout",
     "output_type": "stream",
     "text": [
      "114  alarms with avg p-value of  0.0018560472 (0.001338116286122813, 0.002373978102779374)\n"
     ]
    },
    {
     "name": "stderr",
     "output_type": "stream",
     "text": [
      "\n",
      "  0%|          | 0/534 [00:00<?, ?it/s]\u001b[A"
     ]
    },
    {
     "name": "stdout",
     "output_type": "stream",
     "text": [
      "Calibrating drift detector...\n"
     ]
    },
    {
     "name": "stderr",
     "output_type": "stream",
     "text": [
      "\n",
      "  9%|▉         | 50/534 [00:11<01:55,  4.19it/s]\u001b[A\n",
      " 19%|█▊        | 100/534 [00:48<03:29,  2.07it/s]\u001b[A\n",
      " 28%|██▊       | 150/534 [01:41<04:38,  1.38it/s]\u001b[A"
     ]
    },
    {
     "name": "stdout",
     "output_type": "stream",
     "text": [
      "Triggered at  2019-05-02 - 2019-05-16 \tP-Value:  0.42004663\n",
      "Retrain  lstm  on:  2019-01-02 - 2019-05-02\n",
      "[1/1] Training loss: 2.0158\t                 Validation loss: 1.7662\n"
     ]
    },
    {
     "name": "stderr",
     "output_type": "stream",
     "text": [
      "\n",
      " 37%|███▋      | 200/534 [02:41<05:00,  1.11it/s]\u001b[A\n",
      " 47%|████▋     | 250/534 [03:36<04:36,  1.03it/s]\u001b[A"
     ]
    },
    {
     "name": "stdout",
     "output_type": "stream",
     "text": [
      "Triggered at  2019-08-30 - 2019-09-13 \tP-Value:  9.166498e-05\n",
      "Retrain  lstm  on:  2019-05-02 - 2019-08-30\n",
      "[1/1] Training loss: 1.8270\t                 Validation loss: 1.6777\n"
     ]
    },
    {
     "name": "stderr",
     "output_type": "stream",
     "text": [
      "\n",
      " 56%|█████▌    | 300/534 [04:27<03:50,  1.02it/s]\u001b[A\n",
      " 66%|██████▌   | 350/534 [05:24<03:10,  1.04s/it]\u001b[A\n",
      " 75%|███████▍  | 400/534 [06:31<02:32,  1.13s/it]\u001b[A"
     ]
    },
    {
     "name": "stdout",
     "output_type": "stream",
     "text": [
      "Triggered at  2019-12-28 - 2020-01-11 \tP-Value:  0.10913437\n",
      "Retrain  lstm  on:  2019-08-30 - 2019-12-28\n",
      "[1/1] Training loss: 1.8384\t                 Validation loss: 1.8632\n"
     ]
    },
    {
     "name": "stderr",
     "output_type": "stream",
     "text": [
      "\n",
      " 84%|████████▍ | 450/534 [07:42<01:42,  1.22s/it]\u001b[A\n",
      " 94%|█████████▎| 500/534 [08:46<00:42,  1.24s/it]\u001b[A"
     ]
    },
    {
     "name": "stdout",
     "output_type": "stream",
     "text": [
      "Triggered at  2020-04-26 - 2020-05-10 \tP-Value:  0.2187429\n",
      "Retrain  lstm  on:  2019-12-28 - 2020-04-26\n",
      "[1/1] Training loss: 1.9994\t                 Validation loss: 2.0252\n"
     ]
    },
    {
     "name": "stderr",
     "output_type": "stream",
     "text": [
      "\n",
      "550it [10:31,  1.15s/it]                         \u001b[A\n"
     ]
    },
    {
     "name": "stdout",
     "output_type": "stream",
     "text": [
      "120  alarms with avg p-value of  0.0019882608 (0.001445643191067081, 0.002530878356816668)\n"
     ]
    },
    {
     "name": "stderr",
     "output_type": "stream",
     "text": [
      "\n",
      "  0%|          | 0/534 [00:00<?, ?it/s]\u001b[A"
     ]
    },
    {
     "name": "stdout",
     "output_type": "stream",
     "text": [
      "Calibrating drift detector...\n"
     ]
    },
    {
     "name": "stderr",
     "output_type": "stream",
     "text": [
      "\n",
      "  9%|▉         | 50/534 [00:16<02:41,  2.99it/s]\u001b[A\n",
      " 19%|█▊        | 100/534 [00:55<04:00,  1.81it/s]\u001b[A\n",
      " 28%|██▊       | 150/534 [01:47<04:50,  1.32it/s]\u001b[A"
     ]
    },
    {
     "name": "stdout",
     "output_type": "stream",
     "text": [
      "Triggered at  2019-05-02 - 2019-05-16 \tP-Value:  0.42004663\n",
      "Retrain  lstm  on:  2019-01-02 - 2019-05-02\n",
      "[1/1] Training loss: 1.9945\t                 Validation loss: 1.7957\n"
     ]
    },
    {
     "name": "stderr",
     "output_type": "stream",
     "text": [
      "\n",
      " 37%|███▋      | 200/534 [02:46<05:06,  1.09it/s]\u001b[A\n",
      " 47%|████▋     | 250/534 [03:42<04:40,  1.01it/s]\u001b[A"
     ]
    },
    {
     "name": "stdout",
     "output_type": "stream",
     "text": [
      "Triggered at  2019-08-30 - 2019-09-13 \tP-Value:  0.00030898795\n",
      "Retrain  lstm  on:  2019-05-02 - 2019-08-30\n",
      "[1/1] Training loss: 1.8418\t                 Validation loss: 1.6975\n"
     ]
    },
    {
     "name": "stderr",
     "output_type": "stream",
     "text": [
      "\n",
      " 56%|█████▌    | 300/534 [04:40<04:04,  1.05s/it]\u001b[A\n",
      " 66%|██████▌   | 350/534 [05:41<03:21,  1.10s/it]\u001b[A\n",
      " 75%|███████▍  | 400/534 [06:48<02:37,  1.17s/it]\u001b[A"
     ]
    },
    {
     "name": "stdout",
     "output_type": "stream",
     "text": [
      "Triggered at  2019-12-28 - 2020-01-11 \tP-Value:  0.18003738\n",
      "Retrain  lstm  on:  2019-08-30 - 2019-12-28\n",
      "[1/1] Training loss: 1.8522\t                 Validation loss: 1.8244\n"
     ]
    },
    {
     "name": "stderr",
     "output_type": "stream",
     "text": [
      "\n",
      " 84%|████████▍ | 450/534 [07:59<01:45,  1.25s/it]\u001b[A\n",
      " 94%|█████████▎| 500/534 [08:56<00:41,  1.22s/it]\u001b[A"
     ]
    },
    {
     "name": "stdout",
     "output_type": "stream",
     "text": [
      "Triggered at  2020-04-26 - 2020-05-10 \tP-Value:  0.18319826\n",
      "Retrain  lstm  on:  2019-12-28 - 2020-04-26\n",
      "[1/1] Training loss: 1.9712\t                 Validation loss: 1.9521\n"
     ]
    },
    {
     "name": "stderr",
     "output_type": "stream",
     "text": [
      "\n",
      "550it [10:30,  1.15s/it]                         \u001b[A\n"
     ]
    },
    {
     "name": "stdout",
     "output_type": "stream",
     "text": [
      "120  alarms with avg p-value of  0.0019707424 (0.0014615894676616248, 0.0024798952593038026)\n"
     ]
    },
    {
     "name": "stderr",
     "output_type": "stream",
     "text": [
      "\n",
      "  0%|          | 0/534 [00:00<?, ?it/s]\u001b[A"
     ]
    },
    {
     "name": "stdout",
     "output_type": "stream",
     "text": [
      "Calibrating drift detector...\n"
     ]
    },
    {
     "name": "stderr",
     "output_type": "stream",
     "text": [
      "\n",
      "  9%|▉         | 50/534 [00:13<02:09,  3.74it/s]\u001b[A\n",
      " 19%|█▊        | 100/534 [00:50<03:39,  1.98it/s]\u001b[A\n",
      " 28%|██▊       | 150/534 [01:37<04:22,  1.46it/s]\u001b[A"
     ]
    },
    {
     "name": "stdout",
     "output_type": "stream",
     "text": [
      "Triggered at  2019-05-02 - 2019-05-16 \tP-Value:  0.42004663\n",
      "Retrain  lstm  on:  2019-01-02 - 2019-05-02\n",
      "[1/1] Training loss: 2.0136\t                 Validation loss: 1.8037\n"
     ]
    },
    {
     "name": "stderr",
     "output_type": "stream",
     "text": [
      "\n",
      " 37%|███▋      | 200/534 [02:29<04:33,  1.22it/s]\u001b[A\n",
      " 47%|████▋     | 250/534 [03:18<04:08,  1.14it/s]\u001b[A"
     ]
    },
    {
     "name": "stdout",
     "output_type": "stream",
     "text": [
      "Triggered at  2019-08-30 - 2019-09-13 \tP-Value:  0.00011129042\n",
      "Retrain  lstm  on:  2019-05-02 - 2019-08-30\n",
      "[1/1] Training loss: 1.8478\t                 Validation loss: 1.7018\n"
     ]
    },
    {
     "name": "stderr",
     "output_type": "stream",
     "text": [
      "\n",
      " 56%|█████▌    | 300/534 [04:12<03:41,  1.06it/s]\u001b[A\n",
      " 66%|██████▌   | 350/534 [05:05<03:00,  1.02it/s]\u001b[A\n",
      " 75%|███████▍  | 400/534 [06:03<02:18,  1.03s/it]\u001b[A"
     ]
    },
    {
     "name": "stdout",
     "output_type": "stream",
     "text": [
      "Triggered at  2019-12-28 - 2020-01-11 \tP-Value:  0.1344901\n",
      "Retrain  lstm  on:  2019-08-30 - 2019-12-28\n",
      "[1/1] Training loss: 1.9554\t                 Validation loss: 1.8303\n"
     ]
    },
    {
     "name": "stderr",
     "output_type": "stream",
     "text": [
      "\n",
      " 84%|████████▍ | 450/534 [07:10<01:34,  1.13s/it]\u001b[A\n",
      " 94%|█████████▎| 500/534 [08:05<00:38,  1.12s/it]\u001b[A"
     ]
    },
    {
     "name": "stdout",
     "output_type": "stream",
     "text": [
      "Triggered at  2020-04-26 - 2020-05-10 \tP-Value:  0.14785217\n",
      "Retrain  lstm  on:  2019-12-28 - 2020-04-26\n",
      "[1/1] Training loss: 1.9698\t                 Validation loss: 2.0140\n"
     ]
    },
    {
     "name": "stderr",
     "output_type": "stream",
     "text": [
      "\n",
      "550it [09:36,  1.05s/it]                         \u001b[A"
     ]
    },
    {
     "name": "stdout",
     "output_type": "stream",
     "text": [
      "120  alarms with avg p-value of  0.0021184336 (0.0015623217555367033, 0.002674545430145355)\n"
     ]
    },
    {
     "name": "stderr",
     "output_type": "stream",
     "text": [
      "\n"
     ]
    }
   ],
   "source": [
    "SAMPLE = 1000\n",
    "STAT_WINDOW = 14\n",
    "RETRAIN_WINDOW = 120\n",
    "LOOKUP_WINDOW = 0\n",
    "STRIDE = 1\n",
    "FREQ = 120\n",
    "UPDATE_REF=25000\n",
    "\n",
    "all_runs = []\n",
    "for i in range(0, 5):\n",
    "    random.seed(i)\n",
    "    np.random.seed(i)\n",
    "    \n",
    "    detector = Detector(\n",
    "        reductor=reductor,\n",
    "        tester=tester\n",
    "    )\n",
    "\n",
    "    detector.fit(\n",
    "        X_val_final,\n",
    "        backend=\"pytorch\",\n",
    "        device = \"cuda\",\n",
    "        model_path = MODEL_PATH,\n",
    "        batch_size=32,\n",
    "        verbose=0,\n",
    "        alternative=\"greater\",\n",
    "        correction=\"bonferroni\",\n",
    "        input_dim=X_tr_final.shape[2],\n",
    "        update_x_ref={'last': UPDATE_REF}\n",
    "    )\n",
    "    \n",
    "    model, opt, _ = load_checkpoint(MODEL_PATH, model)\n",
    "    \n",
    "    retrainer = PeriodicRetrainer(\n",
    "        shift_detector=detector,\n",
    "        optimizer=opt,\n",
    "        model=model,\n",
    "        model_name=model_name,\n",
    "    )\n",
    "\n",
    "    results = retrainer.retrain(\n",
    "        data_streams=data_streams,\n",
    "        sample=SAMPLE,\n",
    "        stat_window=STAT_WINDOW,\n",
    "        lookup_window=LOOKUP_WINDOW,\n",
    "        retrain_window=RETRAIN_WINDOW,\n",
    "        stride=STRIDE,\n",
    "        model_path=MODEL_PATH,\n",
    "        freq=FREQ,\n",
    "        n_epochs=n_epochs,\n",
    "        correct_only=0,\n",
    "        positive_only=0,\n",
    "        verbose=1,\n",
    "    )\n",
    "    all_runs.append(results)\n",
    "    pvals_test = results[\"p_val\"]\n",
    "\n",
    "    mean = np.mean([i for i in pvals_test if i < THRESHOLD] )\n",
    "    ci = st.t.interval(\n",
    "        0.95,\n",
    "        len([i for i in pvals_test if i < THRESHOLD]) - 1,\n",
    "        loc=np.mean([i for i in pvals_test if i < THRESHOLD]),\n",
    "        scale=st.sem([i for i in pvals_test if i < THRESHOLD]),\n",
    "    )\n",
    "    print(len([i for i in pvals_test if i < THRESHOLD]), \" alarms with avg p-value of \", mean, ci)"
   ]
  },
  {
   "cell_type": "code",
   "execution_count": 12,
   "id": "5ef03b74-fab5-4bb5-aeb2-2ab236522fed",
   "metadata": {},
   "outputs": [
    {
     "name": "stderr",
     "output_type": "stream",
     "text": [
      "2023-02-21 17:12:46,067 \u001b[1;37mINFO\u001b[0m cyclops.utils.file - Pickling data to /mnt/nfs/project/delirium/drift_exp/OCT-18-2022/gemini/mortality/periodic_simulated_deployment_retrainwindow120_statwindow14_lookupwindow0_update25000_epoch1_sample1000_freq120_retraining_update.pkl\n"
     ]
    },
    {
     "data": {
      "text/plain": [
       "'/mnt/nfs/project/delirium/drift_exp/OCT-18-2022/gemini/mortality/periodic_simulated_deployment_retrainwindow120_statwindow14_lookupwindow0_update25000_epoch1_sample1000_freq120_retraining_update.pkl'"
      ]
     },
     "execution_count": 12,
     "metadata": {},
     "output_type": "execute_result"
    }
   ],
   "source": [
    "save_pickle(\n",
    "    all_runs, \n",
    "    os.path.join(PATH, DATASET,USE_CASE, \"_\".join([\"periodic\",ID,\"retrainwindow\"+str(RETRAIN_WINDOW),\"statwindow\"+str(STAT_WINDOW),\"lookupwindow\"+str(LOOKUP_WINDOW),\"update\"+str(UPDATE_REF),\"epoch\"+str(n_epochs),\"sample\"+str(SAMPLE),\"freq\"+str(FREQ),\"retraining\",retrain])+\".pkl\"),\n",
    ")"
   ]
  },
  {
   "cell_type": "code",
   "execution_count": null,
   "id": "244c94a7-4770-434a-883b-fae3f1624188",
   "metadata": {},
   "outputs": [],
   "source": []
  }
 ],
 "metadata": {
  "kernelspec": {
   "display_name": "cyclops-KKtuQLwg-py3.9",
   "language": "python",
   "name": "cyclops-kktuqlwg-py3.9"
  },
  "language_info": {
   "codemirror_mode": {
    "name": "ipython",
    "version": 3
   },
   "file_extension": ".py",
   "mimetype": "text/x-python",
   "name": "python",
   "nbconvert_exporter": "python",
   "pygments_lexer": "ipython3",
   "version": "3.9.7"
  },
  "vscode": {
   "interpreter": {
    "hash": "bd2cd438e1c6ddffa3035fc73b17ac5cc0e0ea8897eb8be17cc645c6abf0c8cc"
   }
  }
 },
 "nbformat": 4,
 "nbformat_minor": 5
}

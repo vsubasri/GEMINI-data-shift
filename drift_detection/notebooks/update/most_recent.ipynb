{
 "cells": [
  {
   "cell_type": "markdown",
   "id": "fe5c6ded-8970-44f4-b337-7e19909aaed9",
   "metadata": {},
   "source": [
    "### Retraining using window of most recent encounters"
   ]
  },
  {
   "cell_type": "code",
   "execution_count": 1,
   "id": "11504cf1-e260-41ab-8854-79df66acd092",
   "metadata": {},
   "outputs": [],
   "source": [
    "import datetime\n",
    "import os\n",
    "import random\n",
    "import scipy.stats\n",
    "from datetime import date\n",
    "import matplotlib.pyplot as plt\n",
    "import numpy as np\n",
    "import pandas as pd\n",
    "import scipy.stats as st\n",
    "from matplotlib.colors import ListedColormap\n",
    "from scipy.stats import pearsonr, spearmanr\n",
    "import pickle\n",
    "from alibi_detect.cd.pytorch import HiddenOutput\n",
    "import torch.nn as nn\n",
    "import torch.optim as optim\n",
    "from cyclops.utils.file import load_pickle, save_pickle\n",
    "\n",
    "from cyclops.processors.column_names import (\n",
    "    ADMIT_TIMESTAMP,\n",
    "    DISCHARGE_TIMESTAMP,\n",
    "    ENCOUNTER_ID,\n",
    "    EVENT_NAME,\n",
    "    EVENT_TIMESTAMP,\n",
    "    EVENT_VALUE,\n",
    "    RESTRICT_TIMESTAMP,\n",
    "    TIMESTEP,\n",
    ")\n",
    "\n",
    "from models.temporal.optimizer import Optimizer, EarlyStopper\n",
    "from drift_detection.drift_detector.clinical_applicator import ClinicalShiftApplicator\n",
    "from drift_detection.drift_detector.detector import Detector\n",
    "from drift_detection.drift_detector.experimenter import Experimenter\n",
    "from drift_detection.drift_detector.plotter import plot_drift_samples_pval\n",
    "from drift_detection.drift_detector.reductor import Reductor\n",
    "from drift_detection.drift_detector.tester import DCTester, TSTester\n",
    "from drift_detection.gemini.constants import DIAGNOSIS_DICT, ACADEMIC, COMMUNITY, HOSPITALS\n",
    "from drift_detection.gemini.utils import get_use_case_params, impute, prep, import_dataset_hospital\n",
    "from models.temporal.utils import (\n",
    "    get_device,\n",
    "    load_checkpoint,\n",
    ")\n",
    "from cyclops.processors.constants import ALL, FEATURES, MEAN, NUMERIC, ORDINAL, STANDARD\n",
    "from cyclops.processors.feature.vectorize import (\n",
    "    Vectorized,\n",
    "    intersect_vectorized,\n",
    "    split_vectorized,\n",
    "    vec_index_exp,\n",
    ")\n",
    "from drift_detection.retrainers.mostrecent import MostRecentRetrainer\n",
    "from drift_detection.drift_detector.utils import get_serving_data, get_temporal_model"
   ]
  },
  {
   "cell_type": "markdown",
   "id": "52a87aba-7eb0-436f-8304-56f8b8feab82",
   "metadata": {},
   "source": [
    "## Get parameters"
   ]
  },
  {
   "cell_type": "code",
   "execution_count": 2,
   "id": "17cff9cf-c682-4973-ab27-1161b70d516a",
   "metadata": {},
   "outputs": [
    {
     "name": "stdin",
     "output_type": "stream",
     "text": [
      "Select data split:  simulated_deployment\n",
      "Select diagnosis trajectory to filter on:  all\n",
      "Select hospital to filter on:  all\n"
     ]
    }
   ],
   "source": [
    "DATASET = \"gemini\"\n",
    "USE_CASE = \"mortality\"\n",
    "PATH = \"/mnt/nfs/project/delirium/drift_exp/OCT-18-2022/\"\n",
    "TIMESTEPS = 6\n",
    "AGGREGATION_TYPE = \"time\"   \n",
    "ID = SHIFT = input(\"Select data split: \")\n",
    "DIAGNOSIS_TRAJECTORY = input(\"Select diagnosis trajectory to filter on: \") \n",
    "HOSPITAL = input(\"Select hospital to filter on: \") \n",
    "\n",
    "splice_map = {\n",
    "    \"hospital_id\": HOSPITALS\n",
    "}\n",
    "\n",
    "if DIAGNOSIS_TRAJECTORY != \"all\":\n",
    "    diagnosis_trajectory = '_'.join(DIAGNOSIS_DICT[DIAGNOSIS_TRAJECTORY])\n",
    "    ID = ID +\"_\"+ diagnosis_trajectory\n",
    "    splice_map[\"diagnosis_trajectory\"] = [diagnosis_trajectory]\n",
    "    \n",
    "if HOSPITAL != \"all\":\n",
    "    ID = HOSPITAL + \"_\" + ID \n",
    "    splice_map[\"hospital_id\"] = [HOSPITAL]\n",
    "    \n",
    "use_case_params = get_use_case_params(DATASET, USE_CASE)\n",
    "    \n",
    "MODEL_PATH = os.path.join(\n",
    "    PATH,\n",
    "    DATASET,\n",
    "    USE_CASE,\n",
    "    \"saved_models\",\n",
    "    \"simulated_deployment_reweight_positive_lstm_1.pt\"\n",
    ")"
   ]
  },
  {
   "cell_type": "markdown",
   "id": "92705618-9594-4c4d-9b8f-80c1ea8934d2",
   "metadata": {},
   "source": [
    "## Get data"
   ]
  },
  {
   "cell_type": "code",
   "execution_count": 3,
   "id": "364e2e5c-81fa-4331-92f4-38fffcb0a9fa",
   "metadata": {},
   "outputs": [
    {
     "name": "stderr",
     "output_type": "stream",
     "text": [
      "2023-01-31 12:22:53,774 \u001b[1;37mINFO\u001b[0m cyclops.utils.file - Loading pickled data from /mnt/nfs/project/delirium/drift_exp/OCT-18-2022/gemini/mortality/./data/tab_features.pkl\n",
      "2023-01-31 12:22:54,255 \u001b[1;37mINFO\u001b[0m cyclops.utils.file - Loading pickled data from /mnt/nfs/project/delirium/drift_exp/OCT-18-2022/gemini/mortality/./data/4-final/aligned_comb_train_X_simulated_deployment.pkl\n",
      "2023-01-31 12:22:54,798 \u001b[1;37mINFO\u001b[0m cyclops.utils.file - Loading pickled data from /mnt/nfs/project/delirium/drift_exp/OCT-18-2022/gemini/mortality/./data/4-final/aligned_comb_train_y_simulated_deployment.pkl\n",
      "2023-01-31 12:22:54,844 \u001b[1;37mINFO\u001b[0m cyclops.utils.file - Loading pickled data from /mnt/nfs/project/delirium/drift_exp/OCT-18-2022/gemini/mortality/./data/4-final/aligned_comb_val_X_simulated_deployment.pkl\n",
      "2023-01-31 12:22:54,969 \u001b[1;37mINFO\u001b[0m cyclops.utils.file - Loading pickled data from /mnt/nfs/project/delirium/drift_exp/OCT-18-2022/gemini/mortality/./data/4-final/aligned_comb_val_y_simulated_deployment.pkl\n",
      "2023-01-31 12:22:54,981 \u001b[1;37mINFO\u001b[0m cyclops.utils.file - Loading pickled data from /mnt/nfs/project/delirium/drift_exp/OCT-18-2022/gemini/mortality/./data/4-final/aligned_comb_test_X_simulated_deployment.pkl\n",
      "2023-01-31 12:22:55,170 \u001b[1;37mINFO\u001b[0m cyclops.utils.file - Loading pickled data from /mnt/nfs/project/delirium/drift_exp/OCT-18-2022/gemini/mortality/./data/4-final/aligned_comb_test_y_simulated_deployment.pkl\n"
     ]
    }
   ],
   "source": [
    "random.seed(1)\n",
    "\n",
    "tab_features = load_pickle(use_case_params.TAB_FEATURES_FILE)\n",
    "\n",
    "use_case_params = get_use_case_params(DATASET, USE_CASE)\n",
    "\n",
    "(X_tr_final, y_tr), (X_val_final, y_val), (X_t_final, y_t) = import_dataset_hospital(\n",
    "    use_case_params.TAB_VEC_COMB, ID, train_frac=0.8, shuffle=True,\n",
    ")"
   ]
  },
  {
   "cell_type": "markdown",
   "id": "cb0a5be5-e6e5-48da-aa6a-94511b907a69",
   "metadata": {},
   "source": [
    "## Create data streams"
   ]
  },
  {
   "cell_type": "code",
   "execution_count": 4,
   "id": "950b8746-7262-489e-bd31-c4e381900525",
   "metadata": {},
   "outputs": [],
   "source": [
    "START_DATE = date(2019, 1, 1)\n",
    "END_DATE = date(2020, 8, 1)"
   ]
  },
  {
   "cell_type": "code",
   "execution_count": 17,
   "id": "3286edd0-015e-4402-89ee-102c54a7da81",
   "metadata": {},
   "outputs": [
    {
     "name": "stderr",
     "output_type": "stream",
     "text": [
      "2023-01-31 13:29:02,469 \u001b[1;37mINFO\u001b[0m cyclops.utils.file - Loading pickled data from /mnt/nfs/project/delirium/drift_exp/OCT-18-2022/gemini/mortality/drift/data_streams_simulated_deployment_2019-01-01_2020-08-01.pkl\n"
     ]
    },
    {
     "name": "stdout",
     "output_type": "stream",
     "text": [
      "Get target data streams...\n"
     ]
    }
   ],
   "source": [
    "print(\"Get target data streams...\")\n",
    "data_streams_filepath = os.path.join(\n",
    "    PATH,\n",
    "    DATASET,\n",
    "    USE_CASE,\n",
    "    \"drift\",\n",
    "    \"data_streams_\"+ID+\"_\"+str(START_DATE)+\"_\"+str(END_DATE)+\".pkl\"\n",
    ")\n",
    "data_streams_filepath\n",
    "\n",
    "if os.path.exists(data_streams_filepath):\n",
    "    data_streams = load_pickle(data_streams_filepath)\n",
    "else:\n",
    "    tab_vectorized = load_pickle(use_case_params.TAB_VECTORIZED_FILE)\n",
    "    comb_vectorized = load_pickle(use_case_params.COMB_VECTORIZED_FILE)\n",
    "\n",
    "\n",
    "    ids = tab_features.slice(splice_map)\n",
    "    tab_vectorized = tab_vectorized.take_with_index(ENCOUNTER_ID, ids)\n",
    "    # intersect tabular and temporal vectors of source data\n",
    "    tab_vectorized, comb_vectorized = intersect_vectorized(\n",
    "        [tab_vectorized, comb_vectorized], axes=ENCOUNTER_ID\n",
    "    )\n",
    "    numeric_features = tab_features.features_by_type(NUMERIC)    \n",
    "    normalizer_map = {feat: STANDARD for feat in numeric_features}\n",
    "    comb_vectorized.add_normalizer(\n",
    "        EVENT_NAME,\n",
    "        normalization_method=STANDARD,\n",
    "    )\n",
    "    X, y = comb_vectorized.split_out(EVENT_NAME, use_case_params.TEMP_TARGETS)\n",
    "    X = impute(X)\n",
    "    X.fit_normalizer()\n",
    "    #X.normalizer = load_pickle(\"/mnt/nfs/home/subasriv/cyclops/drift_detection/notebooks/mortality/normalizer.pkl\")\n",
    "    X.normalize()\n",
    "\n",
    "    X_final = prep(X)\n",
    "    ind = pd.MultiIndex.from_product(\n",
    "            [X.indexes[1], range(6)], names=[ENCOUNTER_ID, TIMESTEP]\n",
    "    )\n",
    "    X_final = pd.DataFrame(X_final.reshape(X_final.shape[0]*X_final.shape[1], X_final.shape[2]),index=ind, columns=X.indexes[2])\n",
    "    y_final = y.data.reshape(y.data.shape[1],y.data.shape[3])\n",
    "\n",
    "    data_streams = get_serving_data(\n",
    "        X_final,\n",
    "        y_final,\n",
    "        tab_features.data,\n",
    "        START_DATE,\n",
    "        END_DATE,\n",
    "        stride=1,\n",
    "        window=1,\n",
    "        encounter_id=\"encounter_id\",\n",
    "        admit_timestamp=\"admit_timestamp\",\n",
    "    )\n",
    "    save_pickle(data_streams, data_streams_filepath)"
   ]
  },
  {
   "cell_type": "markdown",
   "id": "2630e452-160d-415c-bb39-a2c4e76b2ed6",
   "metadata": {},
   "source": [
    "## Get shift detector"
   ]
  },
  {
   "cell_type": "code",
   "execution_count": 18,
   "id": "aa5f1a4e-2925-4049-a10b-3ab4d14a8b16",
   "metadata": {},
   "outputs": [
    {
     "name": "stdout",
     "output_type": "stream",
     "text": [
      "Get Shift Reductor...\n",
      "Loading model...\n",
      "Get Shift Detector...\n"
     ]
    }
   ],
   "source": [
    "DR_TECHNIQUE = \"BBSDs_trained_LSTM\"\n",
    "TESTER_METHOD = \"ks\"\n",
    "THRESHOLD = 0.01\n",
    "UPDATE_REF = 25000\n",
    "\n",
    "print(\"Get Shift Reductor...\")\n",
    "reductor = Reductor(\n",
    "    dr_method=DR_TECHNIQUE,\n",
    "    model_path=MODEL_PATH,\n",
    "    n_features=X_tr_final.shape[2],\n",
    "    var_ret=0.8,\n",
    ")\n",
    "\n",
    "tstesters=[\"lk\", \"lsdd\", \"mmd\", \"tabular\", \"ctx_mmd\",\"chi2\", \"fet\", \"ks\" ]\n",
    "dctesters =[\"spot_the_diff\", \"classifier\", \"classifier_uncertainty\"]\n",
    "CONTEXT_TYPE=None\n",
    "REPRESENTATION=None\n",
    "\n",
    "if TESTER_METHOD in tstesters:\n",
    "    tester = TSTester(\n",
    "        tester_method=TESTER_METHOD,\n",
    "    )\n",
    "    if TESTER_METHOD == \"ctx_mmd\":\n",
    "        CONTEXT_TYPE = input(\"Select context type: \")\n",
    "        \n",
    "elif TESTER_METHOD in dctesters:\n",
    "    MODEL_METHOD = input(\"Select model method: \")\n",
    "    tester = DCTester(\n",
    "        tester_method=TESTER_METHOD,\n",
    "        model_method=MODEL_METHOD,\n",
    "    )\n",
    "        \n",
    "    if TESTER_METHOD == \"lk\":\n",
    "        REPRESENTATION = input(\"Select learned kernel representation: \")\n",
    "else:\n",
    "    print(\"Tester method invalid or not supported.\")\n",
    "    \n",
    "print(\"Get Shift Detector...\")\n",
    "detector = Detector(\n",
    "    reductor=reductor,\n",
    "    tester=tester\n",
    ")\n",
    "\n",
    "detector.fit(\n",
    "    X_val_final,\n",
    "    backend=\"pytorch\",\n",
    "    device = \"cuda\",\n",
    "    model_path = MODEL_PATH,\n",
    "    batch_size=32,\n",
    "    verbose=0,\n",
    "    alternative=\"greater\",\n",
    "    correction=\"bonferroni\",\n",
    "    input_dim=X_tr_final.shape[2],\n",
    "    update_x_ref={'last': UPDATE_REF}\n",
    ")"
   ]
  },
  {
   "cell_type": "markdown",
   "id": "9d6b18be-663a-42fc-a4c6-056e2be2fe7a",
   "metadata": {},
   "source": [
    "## Retrain"
   ]
  },
  {
   "cell_type": "code",
   "execution_count": 19,
   "id": "4711697a-d2e0-4ead-978b-1d5ef0010da1",
   "metadata": {},
   "outputs": [
    {
     "name": "stdout",
     "output_type": "stream",
     "text": [
      "Update.\n"
     ]
    }
   ],
   "source": [
    "retrain = \"update\"\n",
    "model_name = \"lstm\"\n",
    "output_dim = 1\n",
    "input_dim = X_tr_final.shape[2]\n",
    "hidden_dim = 64\n",
    "layer_dim = 2\n",
    "dropout = 0.2\n",
    "last_timestep_only = False\n",
    "device = get_device()\n",
    "\n",
    "model_params = {\n",
    "    \"device\": device,\n",
    "    \"input_dim\": input_dim,\n",
    "    \"hidden_dim\": hidden_dim,\n",
    "    \"layer_dim\": layer_dim,\n",
    "    \"output_dim\": output_dim,\n",
    "    \"dropout_prob\": dropout,\n",
    "    \"last_timestep_only\": last_timestep_only,\n",
    "}\n",
    "\n",
    "if model_name in [\"rnn\", \"gru\", \"lstm\"]:\n",
    "    model = get_temporal_model(model_name, model_params).to(device)\n",
    "\n",
    "    if retrain == \"update\":\n",
    "        print(\"Update.\")\n",
    "        model, opt, _ = load_checkpoint(MODEL_PATH, model)\n",
    "        n_epochs = 1\n",
    "    elif retrain == \"retrain\":\n",
    "        print(\"Retrain.\")\n",
    "        n_epochs = 64\n",
    "        learning_rate = 2e-3\n",
    "        weight_decay = 1e-6\n",
    "        clipping_value = 1\n",
    "        reweight_positive = (y_tr == 0).sum() / (y_tr == 1).sum() * 2\n",
    "        loss_fn = nn.BCEWithLogitsLoss(reduction=\"none\")\n",
    "        optimizer = optim.Adagrad(\n",
    "            model.parameters(), lr=learning_rate, weight_decay=weight_decay\n",
    "        )\n",
    "        lr_scheduler = optim.lr_scheduler.StepLR(optimizer, step_size=128, gamma=0.5)\n",
    "        activation = nn.Sigmoid()\n",
    "        earlystopper = EarlyStopper(patience=3, min_delta=0)\n",
    "        opt = Optimizer(\n",
    "            model=model,\n",
    "            loss_fn=loss_fn,\n",
    "            optimizer=optimizer,\n",
    "            activation=activation,\n",
    "            lr_scheduler=lr_scheduler,\n",
    "            reweight_positive=reweight_positive,\n",
    "            earlystopper = earlystopper,\n",
    "            clipping_value = clipping_value\n",
    "        )\n",
    "    else:\n",
    "        print(\"Do nothing.\")\n",
    "# elif model_name == \"gbt\":\n",
    "#     with open(model_path, \"rb\") as f:\n",
    "#         model = pickle.load(f)\n",
    "else:\n",
    "    print(\"Unsupported model\")"
   ]
  },
  {
   "cell_type": "code",
   "execution_count": 20,
   "id": "7d7c4f9d-c58f-4a8d-9b22-70314c7ec695",
   "metadata": {},
   "outputs": [
    {
     "name": "stderr",
     "output_type": "stream",
     "text": [
      "  0%|          | 0/534 [00:00<?, ?it/s]"
     ]
    },
    {
     "name": "stdout",
     "output_type": "stream",
     "text": [
      "Calibrating drift detector...\n"
     ]
    },
    {
     "name": "stderr",
     "output_type": "stream",
     "text": [
      " 37%|███▋      | 200/534 [01:37<03:24,  1.63it/s]"
     ]
    },
    {
     "name": "stdout",
     "output_type": "stream",
     "text": [
      "P-value below threshold for  2019-05-25 - 2019-06-08 \tP-Value:  0.009921345\n",
      "Retrain  lstm  on:  2019-01-25 - 2019-05-25\n",
      "[1/1] Training loss: 1.7209\t                 Validation loss: 1.5118\n",
      "P-value below threshold for  2019-05-26 - 2019-06-09 \tP-Value:  1.9258083e-12\n",
      "Retrain  lstm  on:  2019-01-26 - 2019-05-26\n",
      "[1/1] Training loss: 1.6296\t                 Validation loss: 1.6116\n",
      "P-value below threshold for  2019-05-27 - 2019-06-10 \tP-Value:  2.1553727e-12\n",
      "Retrain  lstm  on:  2019-01-27 - 2019-05-27\n",
      "[1/1] Training loss: 1.5999\t                 Validation loss: 1.5616\n",
      "P-value below threshold for  2019-05-28 - 2019-06-11 \tP-Value:  1.7499783e-11\n",
      "Retrain  lstm  on:  2019-01-28 - 2019-05-28\n",
      "[1/1] Training loss: 1.7062\t                 Validation loss: 1.5878\n",
      "P-value below threshold for  2019-05-29 - 2019-06-12 \tP-Value:  8.264845e-10\n",
      "Retrain  lstm  on:  2019-01-29 - 2019-05-29\n",
      "[1/1] Training loss: 1.6616\t                 Validation loss: 1.7184\n",
      "P-value below threshold for  2019-05-30 - 2019-06-13 \tP-Value:  3.2791696e-09\n",
      "Retrain  lstm  on:  2019-01-30 - 2019-05-30\n",
      "[1/1] Training loss: 1.6381\t                 Validation loss: 1.5645\n",
      "P-value below threshold for  2019-05-31 - 2019-06-14 \tP-Value:  5.253023e-07\n",
      "Retrain  lstm  on:  2019-01-31 - 2019-05-31\n",
      "[1/1] Training loss: 1.7274\t                 Validation loss: 1.3587\n"
     ]
    },
    {
     "name": "stderr",
     "output_type": "stream",
     "text": [
      " 47%|████▋     | 250/534 [02:35<03:48,  1.24it/s]"
     ]
    },
    {
     "name": "stdout",
     "output_type": "stream",
     "text": [
      "P-value below threshold for  2019-06-01 - 2019-06-15 \tP-Value:  1.4387257e-07\n",
      "Retrain  lstm  on:  2019-02-01 - 2019-06-01\n",
      "[1/1] Training loss: 1.6251\t                 Validation loss: 1.5678\n",
      "P-value below threshold for  2019-06-02 - 2019-06-16 \tP-Value:  1.8533284e-06\n",
      "Retrain  lstm  on:  2019-02-02 - 2019-06-02\n",
      "[1/1] Training loss: 1.7013\t                 Validation loss: 1.7257\n",
      "P-value below threshold for  2019-06-03 - 2019-06-17 \tP-Value:  2.1308531e-05\n",
      "Retrain  lstm  on:  2019-02-03 - 2019-06-03\n",
      "[1/1] Training loss: 1.6919\t                 Validation loss: 1.6499\n",
      "P-value below threshold for  2019-06-04 - 2019-06-18 \tP-Value:  0.0002661983\n",
      "Retrain  lstm  on:  2019-02-04 - 2019-06-04\n",
      "[1/1] Training loss: 1.6168\t                 Validation loss: 1.6617\n",
      "P-value below threshold for  2019-06-05 - 2019-06-19 \tP-Value:  0.00010164889\n",
      "Retrain  lstm  on:  2019-02-05 - 2019-06-05\n",
      "[1/1] Training loss: 1.6251\t                 Validation loss: 1.7766\n",
      "P-value below threshold for  2019-06-06 - 2019-06-20 \tP-Value:  0.00018609787\n",
      "Retrain  lstm  on:  2019-02-06 - 2019-06-06\n",
      "[1/1] Training loss: 1.6431\t                 Validation loss: 1.7744\n",
      "P-value below threshold for  2019-06-07 - 2019-06-21 \tP-Value:  0.0015835746\n",
      "Retrain  lstm  on:  2019-02-07 - 2019-06-07\n",
      "[1/1] Training loss: 1.7208\t                 Validation loss: 1.5949\n",
      "P-value below threshold for  2019-06-08 - 2019-06-22 \tP-Value:  0.0011266855\n",
      "Retrain  lstm  on:  2019-02-08 - 2019-06-08\n",
      "[1/1] Training loss: 1.6614\t                 Validation loss: 1.7621\n",
      "P-value below threshold for  2019-06-09 - 2019-06-23 \tP-Value:  0.005497929\n",
      "Retrain  lstm  on:  2019-02-09 - 2019-06-09\n",
      "[1/1] Training loss: 1.6654\t                 Validation loss: 1.6211\n",
      "P-value below threshold for  2019-06-10 - 2019-06-24 \tP-Value:  0.009027908\n",
      "Retrain  lstm  on:  2019-02-10 - 2019-06-10\n",
      "[1/1] Training loss: 1.6510\t                 Validation loss: 1.6199\n",
      "P-value below threshold for  2019-06-11 - 2019-06-25 \tP-Value:  0.0074029607\n",
      "Retrain  lstm  on:  2019-02-11 - 2019-06-11\n",
      "[1/1] Training loss: 1.6970\t                 Validation loss: 1.6933\n",
      "P-value below threshold for  2019-06-12 - 2019-06-26 \tP-Value:  0.0073845475\n",
      "Retrain  lstm  on:  2019-02-12 - 2019-06-12\n",
      "[1/1] Training loss: 1.6307\t                 Validation loss: 1.5646\n",
      "P-value below threshold for  2019-06-13 - 2019-06-27 \tP-Value:  0.0056422143\n",
      "Retrain  lstm  on:  2019-02-13 - 2019-06-13\n",
      "[1/1] Training loss: 1.6501\t                 Validation loss: 1.8929\n",
      "P-value below threshold for  2019-06-14 - 2019-06-28 \tP-Value:  0.00091326085\n",
      "Retrain  lstm  on:  2019-02-14 - 2019-06-14\n",
      "[1/1] Training loss: 1.6706\t                 Validation loss: 1.3184\n",
      "P-value below threshold for  2019-06-15 - 2019-06-29 \tP-Value:  0.00035510503\n",
      "Retrain  lstm  on:  2019-02-15 - 2019-06-15\n",
      "[1/1] Training loss: 1.7668\t                 Validation loss: 1.7186\n",
      "P-value below threshold for  2019-06-16 - 2019-06-30 \tP-Value:  0.0007903729\n",
      "Retrain  lstm  on:  2019-02-16 - 2019-06-16\n",
      "[1/1] Training loss: 1.6460\t                 Validation loss: 1.7679\n",
      "P-value below threshold for  2019-06-17 - 2019-07-01 \tP-Value:  0.009597259\n",
      "Retrain  lstm  on:  2019-02-17 - 2019-06-17\n",
      "[1/1] Training loss: 1.5412\t                 Validation loss: 1.7370\n",
      "P-value below threshold for  2019-06-18 - 2019-07-02 \tP-Value:  0.004745472\n",
      "Retrain  lstm  on:  2019-02-18 - 2019-06-18\n",
      "[1/1] Training loss: 1.6855\t                 Validation loss: 1.5096\n",
      "P-value below threshold for  2019-06-19 - 2019-07-03 \tP-Value:  0.008874683\n",
      "Retrain  lstm  on:  2019-02-19 - 2019-06-19\n",
      "[1/1] Training loss: 1.5532\t                 Validation loss: 1.8319\n",
      "P-value below threshold for  2019-07-05 - 2019-07-19 \tP-Value:  0.008822645\n",
      "Retrain  lstm  on:  2019-03-07 - 2019-07-05\n",
      "[1/1] Training loss: 1.5037\t                 Validation loss: 1.9438\n",
      "P-value below threshold for  2019-07-06 - 2019-07-20 \tP-Value:  0.004798467\n",
      "Retrain  lstm  on:  2019-03-08 - 2019-07-06\n",
      "[1/1] Training loss: 1.5884\t                 Validation loss: 1.4654\n",
      "P-value below threshold for  2019-07-07 - 2019-07-21 \tP-Value:  0.0025035786\n",
      "Retrain  lstm  on:  2019-03-09 - 2019-07-07\n",
      "[1/1] Training loss: 1.6097\t                 Validation loss: 1.8144\n",
      "P-value below threshold for  2019-07-08 - 2019-07-22 \tP-Value:  0.0036530206\n",
      "Retrain  lstm  on:  2019-03-10 - 2019-07-08\n",
      "[1/1] Training loss: 1.5829\t                 Validation loss: 1.8426\n"
     ]
    },
    {
     "name": "stderr",
     "output_type": "stream",
     "text": [
      " 56%|█████▌    | 300/534 [03:39<03:44,  1.04it/s]"
     ]
    },
    {
     "name": "stdout",
     "output_type": "stream",
     "text": [
      "P-value below threshold for  2019-08-25 - 2019-09-08 \tP-Value:  0.009399176\n",
      "Retrain  lstm  on:  2019-04-27 - 2019-08-25\n",
      "[1/1] Training loss: 1.6151\t                 Validation loss: 1.5542\n",
      "P-value below threshold for  2019-08-26 - 2019-09-09 \tP-Value:  0.0074413028\n",
      "Retrain  lstm  on:  2019-04-28 - 2019-08-26\n",
      "[1/1] Training loss: 1.6528\t                 Validation loss: 1.7596\n",
      "P-value below threshold for  2019-08-27 - 2019-09-10 \tP-Value:  0.009359068\n",
      "Retrain  lstm  on:  2019-04-29 - 2019-08-27\n",
      "[1/1] Training loss: 1.6067\t                 Validation loss: 2.9066\n",
      "P-value below threshold for  2019-08-28 - 2019-09-11 \tP-Value:  0.0017509133\n",
      "Retrain  lstm  on:  2019-04-30 - 2019-08-28\n",
      "[1/1] Training loss: 1.6807\t                 Validation loss: 2.0037\n",
      "P-value below threshold for  2019-08-29 - 2019-09-12 \tP-Value:  0.00042096392\n",
      "Retrain  lstm  on:  2019-05-01 - 2019-08-29\n",
      "[1/1] Training loss: 1.5637\t                 Validation loss: 1.4010\n",
      "P-value below threshold for  2019-08-30 - 2019-09-13 \tP-Value:  0.0018722388\n",
      "Retrain  lstm  on:  2019-05-02 - 2019-08-30\n",
      "[1/1] Training loss: 1.5966\t                 Validation loss: 1.4666\n",
      "P-value below threshold for  2019-08-31 - 2019-09-14 \tP-Value:  0.0013013786\n",
      "Retrain  lstm  on:  2019-05-03 - 2019-08-31\n",
      "[1/1] Training loss: 1.6289\t                 Validation loss: 1.2556\n",
      "P-value below threshold for  2019-09-01 - 2019-09-15 \tP-Value:  0.00022734565\n",
      "Retrain  lstm  on:  2019-05-04 - 2019-09-01\n",
      "[1/1] Training loss: 1.5789\t                 Validation loss: 1.7202\n",
      "P-value below threshold for  2019-09-02 - 2019-09-16 \tP-Value:  0.00015246694\n",
      "Retrain  lstm  on:  2019-05-05 - 2019-09-02\n",
      "[1/1] Training loss: 1.5804\t                 Validation loss: 1.6661\n",
      "P-value below threshold for  2019-09-03 - 2019-09-17 \tP-Value:  4.5478144e-05\n",
      "Retrain  lstm  on:  2019-05-06 - 2019-09-03\n",
      "[1/1] Training loss: 1.5773\t                 Validation loss: 1.6791\n",
      "P-value below threshold for  2019-09-04 - 2019-09-18 \tP-Value:  0.00032997175\n",
      "Retrain  lstm  on:  2019-05-07 - 2019-09-04\n",
      "[1/1] Training loss: 1.6095\t                 Validation loss: 1.8952\n",
      "P-value below threshold for  2019-09-05 - 2019-09-19 \tP-Value:  7.202464e-05\n",
      "Retrain  lstm  on:  2019-05-08 - 2019-09-05\n",
      "[1/1] Training loss: 1.5515\t                 Validation loss: 1.6893\n",
      "P-value below threshold for  2019-09-06 - 2019-09-20 \tP-Value:  0.00019720987\n",
      "Retrain  lstm  on:  2019-05-09 - 2019-09-06\n",
      "[1/1] Training loss: 1.6302\t                 Validation loss: 1.6891\n",
      "P-value below threshold for  2019-09-07 - 2019-09-21 \tP-Value:  0.0021038044\n",
      "Retrain  lstm  on:  2019-05-10 - 2019-09-07\n",
      "[1/1] Training loss: 1.5648\t                 Validation loss: 1.4734\n",
      "P-value below threshold for  2019-09-08 - 2019-09-22 \tP-Value:  0.001896861\n",
      "Retrain  lstm  on:  2019-05-11 - 2019-09-08\n",
      "[1/1] Training loss: 1.6946\t                 Validation loss: 1.4240\n"
     ]
    },
    {
     "name": "stderr",
     "output_type": "stream",
     "text": [
      " 66%|██████▌   | 350/534 [04:41<03:14,  1.05s/it]"
     ]
    },
    {
     "name": "stdout",
     "output_type": "stream",
     "text": [
      "P-value below threshold for  2019-09-09 - 2019-09-23 \tP-Value:  0.005752928\n",
      "Retrain  lstm  on:  2019-05-12 - 2019-09-09\n",
      "[1/1] Training loss: 1.6152\t                 Validation loss: 1.7951\n"
     ]
    },
    {
     "name": "stderr",
     "output_type": "stream",
     "text": [
      " 75%|███████▍  | 400/534 [05:46<02:31,  1.13s/it]"
     ]
    },
    {
     "name": "stdout",
     "output_type": "stream",
     "text": [
      "P-value below threshold for  2019-10-30 - 2019-11-13 \tP-Value:  0.0090084355\n",
      "Retrain  lstm  on:  2019-07-02 - 2019-10-30\n",
      "[1/1] Training loss: 1.6233\t                 Validation loss: 1.5944\n",
      "P-value below threshold for  2019-10-31 - 2019-11-14 \tP-Value:  0.00285645\n",
      "Retrain  lstm  on:  2019-07-03 - 2019-10-31\n",
      "[1/1] Training loss: 1.5681\t                 Validation loss: 1.5553\n",
      "P-value below threshold for  2019-11-01 - 2019-11-15 \tP-Value:  0.0014857522\n",
      "Retrain  lstm  on:  2019-07-04 - 2019-11-01\n",
      "[1/1] Training loss: 1.5764\t                 Validation loss: 1.6379\n",
      "P-value below threshold for  2019-11-02 - 2019-11-16 \tP-Value:  0.00010402384\n",
      "Retrain  lstm  on:  2019-07-05 - 2019-11-02\n",
      "[1/1] Training loss: 1.6588\t                 Validation loss: 1.5382\n",
      "P-value below threshold for  2019-11-03 - 2019-11-17 \tP-Value:  0.00030454525\n",
      "Retrain  lstm  on:  2019-07-06 - 2019-11-03\n",
      "[1/1] Training loss: 1.5951\t                 Validation loss: 1.5065\n",
      "P-value below threshold for  2019-11-04 - 2019-11-18 \tP-Value:  0.0001743757\n",
      "Retrain  lstm  on:  2019-07-07 - 2019-11-04\n",
      "[1/1] Training loss: 1.5921\t                 Validation loss: 1.4685\n",
      "P-value below threshold for  2019-11-05 - 2019-11-19 \tP-Value:  1.8461182e-05\n",
      "Retrain  lstm  on:  2019-07-08 - 2019-11-05\n",
      "[1/1] Training loss: 1.6104\t                 Validation loss: 1.5332\n",
      "P-value below threshold for  2019-11-06 - 2019-11-20 \tP-Value:  0.00014422677\n",
      "Retrain  lstm  on:  2019-07-09 - 2019-11-06\n",
      "[1/1] Training loss: 1.5870\t                 Validation loss: 1.4792\n",
      "P-value below threshold for  2019-11-07 - 2019-11-21 \tP-Value:  0.00022068723\n",
      "Retrain  lstm  on:  2019-07-10 - 2019-11-07\n",
      "[1/1] Training loss: 1.6625\t                 Validation loss: 1.4922\n",
      "P-value below threshold for  2019-11-08 - 2019-11-22 \tP-Value:  0.00022296466\n",
      "Retrain  lstm  on:  2019-07-11 - 2019-11-08\n",
      "[1/1] Training loss: 1.7142\t                 Validation loss: 1.4656\n",
      "P-value below threshold for  2019-11-09 - 2019-11-23 \tP-Value:  0.0001606865\n",
      "Retrain  lstm  on:  2019-07-12 - 2019-11-09\n",
      "[1/1] Training loss: 1.6700\t                 Validation loss: 1.7211\n",
      "P-value below threshold for  2019-11-10 - 2019-11-24 \tP-Value:  0.00014441692\n",
      "Retrain  lstm  on:  2019-07-13 - 2019-11-10\n",
      "[1/1] Training loss: 1.5433\t                 Validation loss: 1.6735\n",
      "P-value below threshold for  2019-11-11 - 2019-11-25 \tP-Value:  0.00020221675\n",
      "Retrain  lstm  on:  2019-07-14 - 2019-11-11\n",
      "[1/1] Training loss: 1.5942\t                 Validation loss: 1.6670\n",
      "P-value below threshold for  2019-11-12 - 2019-11-26 \tP-Value:  0.0027126078\n",
      "Retrain  lstm  on:  2019-07-15 - 2019-11-12\n",
      "[1/1] Training loss: 1.5471\t                 Validation loss: 1.6973\n",
      "P-value below threshold for  2019-11-13 - 2019-11-27 \tP-Value:  0.007473077\n",
      "Retrain  lstm  on:  2019-07-16 - 2019-11-13\n",
      "[1/1] Training loss: 1.6018\t                 Validation loss: 1.5345\n",
      "P-value below threshold for  2019-11-14 - 2019-11-28 \tP-Value:  0.00449469\n",
      "Retrain  lstm  on:  2019-07-17 - 2019-11-14\n",
      "[1/1] Training loss: 1.5741\t                 Validation loss: 1.7651\n",
      "P-value below threshold for  2019-11-15 - 2019-11-29 \tP-Value:  0.001578274\n",
      "Retrain  lstm  on:  2019-07-18 - 2019-11-15\n",
      "[1/1] Training loss: 1.6096\t                 Validation loss: 1.5230\n",
      "P-value below threshold for  2019-11-16 - 2019-11-30 \tP-Value:  0.0004655115\n",
      "Retrain  lstm  on:  2019-07-19 - 2019-11-16\n",
      "[1/1] Training loss: 1.6264\t                 Validation loss: 1.6166\n",
      "P-value below threshold for  2019-11-17 - 2019-12-01 \tP-Value:  0.0034909202\n",
      "Retrain  lstm  on:  2019-07-20 - 2019-11-17\n",
      "[1/1] Training loss: 1.5666\t                 Validation loss: 1.8435\n",
      "P-value below threshold for  2019-12-02 - 2019-12-16 \tP-Value:  0.006935696\n",
      "Retrain  lstm  on:  2019-08-04 - 2019-12-02\n",
      "[1/1] Training loss: 1.5833\t                 Validation loss: 1.4591\n"
     ]
    },
    {
     "name": "stderr",
     "output_type": "stream",
     "text": [
      " 94%|█████████▎| 500/534 [09:20<00:55,  1.65s/it]"
     ]
    },
    {
     "name": "stdout",
     "output_type": "stream",
     "text": [
      "P-value below threshold for  2020-02-22 - 2020-03-07 \tP-Value:  0.008501718\n",
      "Retrain  lstm  on:  2019-10-25 - 2020-02-22\n",
      "[1/1] Training loss: 1.5056\t                 Validation loss: 1.5566\n",
      "P-value below threshold for  2020-02-25 - 2020-03-10 \tP-Value:  0.00952673\n",
      "Retrain  lstm  on:  2019-10-28 - 2020-02-25\n",
      "[1/1] Training loss: 1.5152\t                 Validation loss: 1.6653\n",
      "P-value below threshold for  2020-03-16 - 2020-03-30 \tP-Value:  0.0006870669\n",
      "Retrain  lstm  on:  2019-11-17 - 2020-03-16\n",
      "[1/1] Training loss: 1.5388\t                 Validation loss: 1.4571\n",
      "P-value below threshold for  2020-03-17 - 2020-03-31 \tP-Value:  0.00029968927\n",
      "Retrain  lstm  on:  2019-11-18 - 2020-03-17\n",
      "P-value below threshold for  2020-03-18 - 2020-04-01 \tP-Value:  0.0006057031\n",
      "Retrain  lstm  on:  2019-11-19 - 2020-03-18\n",
      "[1/1] Training loss: 1.6449\t                 Validation loss: 1.4025\n",
      "P-value below threshold for  2020-03-19 - 2020-04-02 \tP-Value:  0.00045535437\n",
      "Retrain  lstm  on:  2019-11-20 - 2020-03-19\n",
      "[1/1] Training loss: 1.5248\t                 Validation loss: 1.3507\n",
      "P-value below threshold for  2020-03-20 - 2020-04-03 \tP-Value:  0.0001954898\n",
      "Retrain  lstm  on:  2019-11-21 - 2020-03-20\n",
      "[1/1] Training loss: 1.5380\t                 Validation loss: 1.3830\n",
      "P-value below threshold for  2020-03-21 - 2020-04-04 \tP-Value:  0.000107914035\n",
      "Retrain  lstm  on:  2019-11-22 - 2020-03-21\n",
      "[1/1] Training loss: 1.5573\t                 Validation loss: 1.5609\n",
      "P-value below threshold for  2020-03-22 - 2020-04-05 \tP-Value:  0.0003227099\n",
      "Retrain  lstm  on:  2019-11-23 - 2020-03-22\n",
      "[1/1] Training loss: 1.5323\t                 Validation loss: 1.7096\n",
      "P-value below threshold for  2020-03-23 - 2020-04-06 \tP-Value:  0.00015065275\n",
      "Retrain  lstm  on:  2019-11-24 - 2020-03-23\n",
      "[1/1] Training loss: 1.5027\t                 Validation loss: 1.6197\n",
      "P-value below threshold for  2020-03-24 - 2020-04-07 \tP-Value:  0.00014853154\n",
      "Retrain  lstm  on:  2019-11-25 - 2020-03-24\n",
      "[1/1] Training loss: 1.5470\t                 Validation loss: 1.5806\n",
      "P-value below threshold for  2020-03-25 - 2020-04-08 \tP-Value:  0.00016381535\n",
      "Retrain  lstm  on:  2019-11-26 - 2020-03-25\n",
      "[1/1] Training loss: 1.7147\t                 Validation loss: 1.5077\n",
      "P-value below threshold for  2020-03-26 - 2020-04-09 \tP-Value:  0.0027493518\n",
      "Retrain  lstm  on:  2019-11-27 - 2020-03-26\n",
      "[1/1] Training loss: 1.6138\t                 Validation loss: 1.5891\n"
     ]
    },
    {
     "name": "stderr",
     "output_type": "stream",
     "text": [
      "550it [13:10,  1.44s/it]                         \n"
     ]
    },
    {
     "name": "stdout",
     "output_type": "stream",
     "text": [
      "113  alarms with avg p-value of  0.0019836829 (0.0014184966643029082, 0.002548869051349796)\n"
     ]
    },
    {
     "name": "stderr",
     "output_type": "stream",
     "text": [
      "  0%|          | 0/534 [00:00<?, ?it/s]"
     ]
    },
    {
     "name": "stdout",
     "output_type": "stream",
     "text": [
      "Calibrating drift detector...\n"
     ]
    },
    {
     "name": "stderr",
     "output_type": "stream",
     "text": [
      " 37%|███▋      | 200/534 [02:11<04:37,  1.20it/s]"
     ]
    },
    {
     "name": "stdout",
     "output_type": "stream",
     "text": [
      "P-value below threshold for  2019-05-25 - 2019-06-08 \tP-Value:  0.009921345\n",
      "Retrain  lstm  on:  2019-01-25 - 2019-05-25\n",
      "[1/1] Training loss: 1.6779\t                 Validation loss: 1.3864\n",
      "P-value below threshold for  2019-05-26 - 2019-06-09 \tP-Value:  2.1949756e-10\n",
      "Retrain  lstm  on:  2019-01-26 - 2019-05-26\n",
      "[1/1] Training loss: 1.6991\t                 Validation loss: 1.4496\n",
      "P-value below threshold for  2019-05-27 - 2019-06-10 \tP-Value:  6.448332e-10\n",
      "Retrain  lstm  on:  2019-01-27 - 2019-05-27\n",
      "[1/1] Training loss: 1.6687\t                 Validation loss: 1.5104\n",
      "P-value below threshold for  2019-05-28 - 2019-06-11 \tP-Value:  1.0224767e-09\n",
      "Retrain  lstm  on:  2019-01-28 - 2019-05-28\n",
      "[1/1] Training loss: 1.6040\t                 Validation loss: 1.6769\n",
      "P-value below threshold for  2019-05-29 - 2019-06-12 \tP-Value:  4.609981e-08\n",
      "Retrain  lstm  on:  2019-01-29 - 2019-05-29\n",
      "[1/1] Training loss: 1.6349\t                 Validation loss: 1.4207\n",
      "P-value below threshold for  2019-05-30 - 2019-06-13 \tP-Value:  1.3990085e-07\n",
      "Retrain  lstm  on:  2019-01-30 - 2019-05-30\n",
      "[1/1] Training loss: 1.6862\t                 Validation loss: 1.5859\n",
      "P-value below threshold for  2019-05-31 - 2019-06-14 \tP-Value:  9.494833e-06\n",
      "Retrain  lstm  on:  2019-01-31 - 2019-05-31\n",
      "[1/1] Training loss: 1.6239\t                 Validation loss: 1.3594\n"
     ]
    },
    {
     "name": "stderr",
     "output_type": "stream",
     "text": [
      " 47%|████▋     | 250/534 [03:39<05:27,  1.15s/it]"
     ]
    },
    {
     "name": "stdout",
     "output_type": "stream",
     "text": [
      "P-value below threshold for  2019-06-01 - 2019-06-15 \tP-Value:  2.810444e-06\n",
      "Retrain  lstm  on:  2019-02-01 - 2019-06-01\n",
      "[1/1] Training loss: 1.6250\t                 Validation loss: 1.6494\n",
      "P-value below threshold for  2019-06-02 - 2019-06-16 \tP-Value:  2.1584878e-05\n",
      "Retrain  lstm  on:  2019-02-02 - 2019-06-02\n",
      "[1/1] Training loss: 1.6827\t                 Validation loss: 1.5411\n",
      "P-value below threshold for  2019-06-03 - 2019-06-17 \tP-Value:  0.00024042872\n",
      "Retrain  lstm  on:  2019-02-03 - 2019-06-03\n",
      "[1/1] Training loss: 1.6777\t                 Validation loss: 1.3146\n",
      "P-value below threshold for  2019-06-04 - 2019-06-18 \tP-Value:  0.0025562106\n",
      "Retrain  lstm  on:  2019-02-04 - 2019-06-04\n",
      "[1/1] Training loss: 1.6961\t                 Validation loss: 1.8069\n",
      "P-value below threshold for  2019-06-05 - 2019-06-19 \tP-Value:  0.0018205967\n",
      "Retrain  lstm  on:  2019-02-05 - 2019-06-05\n",
      "[1/1] Training loss: 1.6611\t                 Validation loss: 1.7793\n",
      "P-value below threshold for  2019-06-06 - 2019-06-20 \tP-Value:  0.0012778473\n",
      "Retrain  lstm  on:  2019-02-06 - 2019-06-06\n",
      "[1/1] Training loss: 1.6892\t                 Validation loss: 1.4508\n",
      "P-value below threshold for  2019-06-07 - 2019-06-21 \tP-Value:  0.009743642\n",
      "Retrain  lstm  on:  2019-02-07 - 2019-06-07\n",
      "[1/1] Training loss: 1.7255\t                 Validation loss: 1.6626\n",
      "P-value below threshold for  2019-06-08 - 2019-06-22 \tP-Value:  0.003976795\n",
      "Retrain  lstm  on:  2019-02-08 - 2019-06-08\n",
      "[1/1] Training loss: 1.6412\t                 Validation loss: 1.5761\n",
      "P-value below threshold for  2019-06-09 - 2019-06-23 \tP-Value:  0.0052164947\n",
      "Retrain  lstm  on:  2019-02-09 - 2019-06-09\n",
      "[1/1] Training loss: 1.7317\t                 Validation loss: 1.3356\n",
      "P-value below threshold for  2019-06-13 - 2019-06-27 \tP-Value:  0.007393698\n",
      "Retrain  lstm  on:  2019-02-13 - 2019-06-13\n",
      "[1/1] Training loss: 1.6569\t                 Validation loss: 1.6962\n",
      "P-value below threshold for  2019-06-14 - 2019-06-28 \tP-Value:  0.0010029759\n",
      "Retrain  lstm  on:  2019-02-14 - 2019-06-14\n",
      "[1/1] Training loss: 1.6245\t                 Validation loss: 1.6106\n",
      "P-value below threshold for  2019-06-15 - 2019-06-29 \tP-Value:  0.00048667903\n",
      "Retrain  lstm  on:  2019-02-15 - 2019-06-15\n",
      "[1/1] Training loss: 1.6910\t                 Validation loss: 1.6820\n",
      "P-value below threshold for  2019-06-16 - 2019-06-30 \tP-Value:  0.0010763472\n",
      "Retrain  lstm  on:  2019-02-16 - 2019-06-16\n",
      "[1/1] Training loss: 1.7050\t                 Validation loss: 1.5245\n",
      "P-value below threshold for  2019-06-17 - 2019-07-01 \tP-Value:  0.009727611\n",
      "Retrain  lstm  on:  2019-02-17 - 2019-06-17\n",
      "[1/1] Training loss: 1.6818\t                 Validation loss: 1.4244\n",
      "P-value below threshold for  2019-06-18 - 2019-07-02 \tP-Value:  0.003935412\n",
      "Retrain  lstm  on:  2019-02-18 - 2019-06-18\n",
      "[1/1] Training loss: 1.5577\t                 Validation loss: 1.6720\n",
      "P-value below threshold for  2019-07-05 - 2019-07-19 \tP-Value:  0.007118712\n",
      "Retrain  lstm  on:  2019-03-07 - 2019-07-05\n",
      "[1/1] Training loss: 1.6153\t                 Validation loss: 1.5862\n",
      "P-value below threshold for  2019-07-06 - 2019-07-20 \tP-Value:  0.0022247822\n",
      "Retrain  lstm  on:  2019-03-08 - 2019-07-06\n",
      "[1/1] Training loss: 1.6190\t                 Validation loss: 1.4654\n",
      "P-value below threshold for  2019-07-07 - 2019-07-21 \tP-Value:  0.0011573335\n",
      "Retrain  lstm  on:  2019-03-09 - 2019-07-07\n",
      "[1/1] Training loss: 1.5577\t                 Validation loss: 1.6396\n",
      "P-value below threshold for  2019-07-08 - 2019-07-22 \tP-Value:  0.0017765492\n",
      "Retrain  lstm  on:  2019-03-10 - 2019-07-08\n",
      "[1/1] Training loss: 1.6056\t                 Validation loss: 1.2893\n"
     ]
    },
    {
     "name": "stderr",
     "output_type": "stream",
     "text": [
      " 56%|█████▌    | 300/534 [05:08<05:18,  1.36s/it]"
     ]
    },
    {
     "name": "stdout",
     "output_type": "stream",
     "text": [
      "P-value below threshold for  2019-08-26 - 2019-09-09 \tP-Value:  0.008217126\n",
      "Retrain  lstm  on:  2019-04-28 - 2019-08-26\n",
      "[1/1] Training loss: 1.6575\t                 Validation loss: 1.6121\n",
      "P-value below threshold for  2019-08-27 - 2019-09-10 \tP-Value:  0.0066631925\n",
      "Retrain  lstm  on:  2019-04-29 - 2019-08-27\n",
      "[1/1] Training loss: 1.6599\t                 Validation loss: 1.5532\n",
      "P-value below threshold for  2019-08-28 - 2019-09-11 \tP-Value:  0.00046884533\n",
      "Retrain  lstm  on:  2019-04-30 - 2019-08-28\n",
      "[1/1] Training loss: 1.5882\t                 Validation loss: 1.7179\n",
      "P-value below threshold for  2019-08-29 - 2019-09-12 \tP-Value:  7.2946284e-05\n",
      "Retrain  lstm  on:  2019-05-01 - 2019-08-29\n",
      "[1/1] Training loss: 1.5089\t                 Validation loss: 1.7499\n",
      "P-value below threshold for  2019-08-30 - 2019-09-13 \tP-Value:  0.00035039586\n",
      "Retrain  lstm  on:  2019-05-02 - 2019-08-30\n",
      "[1/1] Training loss: 1.4822\t                 Validation loss: 1.9311\n",
      "P-value below threshold for  2019-08-31 - 2019-09-14 \tP-Value:  0.0005995678\n",
      "Retrain  lstm  on:  2019-05-03 - 2019-08-31\n",
      "[1/1] Training loss: 1.5413\t                 Validation loss: 1.7954\n",
      "P-value below threshold for  2019-09-01 - 2019-09-15 \tP-Value:  8.331677e-05\n",
      "Retrain  lstm  on:  2019-05-04 - 2019-09-01\n",
      "[1/1] Training loss: 1.5105\t                 Validation loss: 1.7965\n",
      "P-value below threshold for  2019-09-02 - 2019-09-16 \tP-Value:  7.737606e-05\n",
      "Retrain  lstm  on:  2019-05-05 - 2019-09-02\n",
      "[1/1] Training loss: 1.6515\t                 Validation loss: 1.8936\n",
      "P-value below threshold for  2019-09-03 - 2019-09-17 \tP-Value:  3.5449255e-05\n",
      "Retrain  lstm  on:  2019-05-06 - 2019-09-03\n",
      "[1/1] Training loss: 1.5190\t                 Validation loss: 1.6775\n",
      "P-value below threshold for  2019-09-04 - 2019-09-18 \tP-Value:  0.00040099592\n",
      "Retrain  lstm  on:  2019-05-07 - 2019-09-04\n",
      "[1/1] Training loss: 1.5735\t                 Validation loss: 1.5991\n",
      "P-value below threshold for  2019-09-05 - 2019-09-19 \tP-Value:  0.00015641502\n",
      "Retrain  lstm  on:  2019-05-08 - 2019-09-05\n",
      "[1/1] Training loss: 1.6219\t                 Validation loss: 1.7237\n",
      "P-value below threshold for  2019-09-06 - 2019-09-20 \tP-Value:  0.00047774735\n",
      "Retrain  lstm  on:  2019-05-09 - 2019-09-06\n",
      "[1/1] Training loss: 1.6370\t                 Validation loss: 1.7336\n",
      "P-value below threshold for  2019-09-07 - 2019-09-21 \tP-Value:  0.0020909854\n",
      "Retrain  lstm  on:  2019-05-10 - 2019-09-07\n",
      "[1/1] Training loss: 1.5973\t                 Validation loss: 1.7853\n",
      "P-value below threshold for  2019-09-08 - 2019-09-22 \tP-Value:  0.004375522\n",
      "Retrain  lstm  on:  2019-05-11 - 2019-09-08\n",
      "[1/1] Training loss: 1.6111\t                 Validation loss: 1.5480\n"
     ]
    },
    {
     "name": "stderr",
     "output_type": "stream",
     "text": [
      " 66%|██████▌   | 350/534 [07:51<06:02,  1.97s/it]"
     ]
    },
    {
     "name": "stdout",
     "output_type": "stream",
     "text": [
      "P-value below threshold for  2019-10-30 - 2019-11-13 \tP-Value:  0.0062081236\n",
      "Retrain  lstm  on:  2019-07-02 - 2019-10-30\n",
      "[1/1] Training loss: 1.6672\t                 Validation loss: 1.5276\n",
      "P-value below threshold for  2019-10-31 - 2019-11-14 \tP-Value:  0.0023258356\n",
      "Retrain  lstm  on:  2019-07-03 - 2019-10-31\n",
      "[1/1] Training loss: 1.6005\t                 Validation loss: 1.5048\n",
      "P-value below threshold for  2019-11-01 - 2019-11-15 \tP-Value:  0.00095957564\n",
      "Retrain  lstm  on:  2019-07-04 - 2019-11-01\n",
      "[1/1] Training loss: 1.6120\t                 Validation loss: 1.4045\n",
      "P-value below threshold for  2019-11-02 - 2019-11-16 \tP-Value:  7.005419e-05\n",
      "Retrain  lstm  on:  2019-07-05 - 2019-11-02\n",
      "[1/1] Training loss: 1.6296\t                 Validation loss: 1.4887\n",
      "P-value below threshold for  2019-11-03 - 2019-11-17 \tP-Value:  0.00022407854\n",
      "Retrain  lstm  on:  2019-07-06 - 2019-11-03\n",
      "[1/1] Training loss: 1.6436\t                 Validation loss: 1.4261\n",
      "P-value below threshold for  2019-11-04 - 2019-11-18 \tP-Value:  9.013856e-05\n",
      "Retrain  lstm  on:  2019-07-07 - 2019-11-04\n",
      "[1/1] Training loss: 1.5675\t                 Validation loss: 1.5555\n",
      "P-value below threshold for  2019-11-05 - 2019-11-19 \tP-Value:  9.697092e-06\n",
      "Retrain  lstm  on:  2019-07-08 - 2019-11-05\n",
      "[1/1] Training loss: 1.6271\t                 Validation loss: 1.3799\n",
      "P-value below threshold for  2019-11-06 - 2019-11-20 \tP-Value:  6.4518004e-05\n",
      "Retrain  lstm  on:  2019-07-09 - 2019-11-06\n",
      "[1/1] Training loss: 1.5449\t                 Validation loss: 1.7206\n",
      "P-value below threshold for  2019-11-07 - 2019-11-21 \tP-Value:  0.00018506692\n",
      "Retrain  lstm  on:  2019-07-10 - 2019-11-07\n",
      "[1/1] Training loss: 1.5782\t                 Validation loss: 1.5314\n",
      "P-value below threshold for  2019-11-08 - 2019-11-22 \tP-Value:  0.00017262231\n",
      "Retrain  lstm  on:  2019-07-11 - 2019-11-08\n",
      "[1/1] Training loss: 1.5151\t                 Validation loss: 1.6117\n",
      "P-value below threshold for  2019-11-09 - 2019-11-23 \tP-Value:  0.00017308634\n",
      "Retrain  lstm  on:  2019-07-12 - 2019-11-09\n",
      "[1/1] Training loss: 1.6784\t                 Validation loss: 1.4312\n",
      "P-value below threshold for  2019-11-10 - 2019-11-24 \tP-Value:  0.00018420452\n",
      "Retrain  lstm  on:  2019-07-13 - 2019-11-10\n",
      "[1/1] Training loss: 1.5666\t                 Validation loss: 1.7125\n",
      "P-value below threshold for  2019-11-11 - 2019-11-25 \tP-Value:  0.00014503808\n",
      "Retrain  lstm  on:  2019-07-14 - 2019-11-11\n",
      "[1/1] Training loss: 1.6095\t                 Validation loss: 1.4792\n",
      "P-value below threshold for  2019-11-12 - 2019-11-26 \tP-Value:  0.0025605331\n",
      "Retrain  lstm  on:  2019-07-15 - 2019-11-12\n",
      "[1/1] Training loss: 1.5854\t                 Validation loss: 1.4242\n",
      "P-value below threshold for  2019-11-13 - 2019-11-27 \tP-Value:  0.0051458944\n",
      "Retrain  lstm  on:  2019-07-16 - 2019-11-13\n",
      "[1/1] Training loss: 1.6306\t                 Validation loss: 1.5114\n",
      "P-value below threshold for  2019-11-14 - 2019-11-28 \tP-Value:  0.0038703077\n",
      "Retrain  lstm  on:  2019-07-17 - 2019-11-14\n",
      "[1/1] Training loss: 1.6066\t                 Validation loss: 1.6558\n",
      "P-value below threshold for  2019-11-15 - 2019-11-29 \tP-Value:  0.0013673794\n",
      "Retrain  lstm  on:  2019-07-18 - 2019-11-15\n",
      "[1/1] Training loss: 1.5667\t                 Validation loss: 1.5467\n",
      "P-value below threshold for  2019-11-16 - 2019-11-30 \tP-Value:  0.0008120407\n",
      "Retrain  lstm  on:  2019-07-19 - 2019-11-16\n",
      "[1/1] Training loss: 1.6321\t                 Validation loss: 1.5011\n",
      "P-value below threshold for  2019-11-17 - 2019-12-01 \tP-Value:  0.0048780646\n",
      "Retrain  lstm  on:  2019-07-20 - 2019-11-17\n",
      "[1/1] Training loss: 1.7624\t                 Validation loss: 1.6356\n"
     ]
    },
    {
     "name": "stderr",
     "output_type": "stream",
     "text": [
      " 84%|████████▍ | 450/534 [11:25<02:51,  2.05s/it]"
     ]
    },
    {
     "name": "stdout",
     "output_type": "stream",
     "text": [
      "P-value below threshold for  2020-03-15 - 2020-03-29 \tP-Value:  0.008340365\n",
      "Retrain  lstm  on:  2019-11-16 - 2020-03-15\n",
      "[1/1] Training loss: 1.5204\t                 Validation loss: 1.7362\n",
      "P-value below threshold for  2020-03-16 - 2020-03-30 \tP-Value:  0.0007759923\n",
      "Retrain  lstm  on:  2019-11-17 - 2020-03-16\n",
      "[1/1] Training loss: 1.5341\t                 Validation loss: 1.5244\n",
      "P-value below threshold for  2020-03-17 - 2020-03-31 \tP-Value:  0.00033981033\n",
      "Retrain  lstm  on:  2019-11-18 - 2020-03-17\n",
      "[1/1] Training loss: 1.5317\t                 Validation loss: 1.5092\n",
      "P-value below threshold for  2020-03-18 - 2020-04-01 \tP-Value:  0.00081275456\n",
      "Retrain  lstm  on:  2019-11-19 - 2020-03-18\n",
      "[1/1] Training loss: 1.5252\t                 Validation loss: 1.3482\n",
      "P-value below threshold for  2020-03-19 - 2020-04-02 \tP-Value:  0.0009570199\n",
      "Retrain  lstm  on:  2019-11-20 - 2020-03-19\n",
      "[1/1] Training loss: 1.5770\t                 Validation loss: 1.4137\n",
      "P-value below threshold for  2020-03-20 - 2020-04-03 \tP-Value:  0.0001823134\n",
      "Retrain  lstm  on:  2019-11-21 - 2020-03-20\n",
      "[1/1] Training loss: 1.4981\t                 Validation loss: 1.9218\n",
      "P-value below threshold for  2020-03-21 - 2020-04-04 \tP-Value:  5.3487187e-05\n",
      "Retrain  lstm  on:  2019-11-22 - 2020-03-21\n",
      "[1/1] Training loss: 1.5713\t                 Validation loss: 1.5325\n",
      "P-value below threshold for  2020-03-22 - 2020-04-05 \tP-Value:  6.570444e-05\n",
      "Retrain  lstm  on:  2019-11-23 - 2020-03-22\n",
      "[1/1] Training loss: 1.5389\t                 Validation loss: 1.7788\n",
      "P-value below threshold for  2020-03-23 - 2020-04-06 \tP-Value:  4.3915763e-05\n",
      "Retrain  lstm  on:  2019-11-24 - 2020-03-23\n",
      "[1/1] Training loss: 1.5448\t                 Validation loss: 1.6352\n",
      "P-value below threshold for  2020-03-24 - 2020-04-07 \tP-Value:  4.5238638e-05\n",
      "Retrain  lstm  on:  2019-11-25 - 2020-03-24\n",
      "[1/1] Training loss: 1.5830\t                 Validation loss: 1.5725\n",
      "P-value below threshold for  2020-03-25 - 2020-04-08 \tP-Value:  8.041227e-05\n",
      "Retrain  lstm  on:  2019-11-26 - 2020-03-25\n",
      "[1/1] Training loss: 1.5328\t                 Validation loss: 1.5266\n",
      "P-value below threshold for  2020-03-26 - 2020-04-09 \tP-Value:  0.0016082143\n",
      "Retrain  lstm  on:  2019-11-27 - 2020-03-26\n",
      "[1/1] Training loss: 1.5442\t                 Validation loss: 1.7221\n"
     ]
    },
    {
     "name": "stderr",
     "output_type": "stream",
     "text": [
      " 94%|█████████▎| 500/534 [14:24<01:25,  2.52s/it]"
     ]
    },
    {
     "name": "stdout",
     "output_type": "stream",
     "text": [
      "P-value below threshold for  2020-05-30 - 2020-06-13 \tP-Value:  0.009454111\n",
      "Retrain  lstm  on:  2020-01-31 - 2020-05-30\n",
      "[1/1] Training loss: 1.8310\t                 Validation loss: 1.7693\n"
     ]
    },
    {
     "name": "stderr",
     "output_type": "stream",
     "text": [
      " 94%|█████████▎| 500/534 [15:21<01:02,  1.84s/it]\n"
     ]
    },
    {
     "name": "stdout",
     "output_type": "stream",
     "text": [
      "105  alarms with avg p-value of  0.0016201276 (0.001107707278021679, 0.0021325478952740574)\n"
     ]
    },
    {
     "name": "stderr",
     "output_type": "stream",
     "text": [
      "  0%|          | 0/534 [00:00<?, ?it/s]"
     ]
    },
    {
     "name": "stdout",
     "output_type": "stream",
     "text": [
      "Calibrating drift detector...\n"
     ]
    },
    {
     "name": "stderr",
     "output_type": "stream",
     "text": [
      " 37%|███▋      | 200/534 [02:13<04:43,  1.18it/s]"
     ]
    },
    {
     "name": "stdout",
     "output_type": "stream",
     "text": [
      "P-value below threshold for  2019-05-25 - 2019-06-08 \tP-Value:  0.009921345\n",
      "Retrain  lstm  on:  2019-01-25 - 2019-05-25\n",
      "[1/1] Training loss: 1.7438\t                 Validation loss: 1.5394\n",
      "P-value below threshold for  2019-05-26 - 2019-06-09 \tP-Value:  4.934673e-11\n",
      "Retrain  lstm  on:  2019-01-26 - 2019-05-26\n",
      "[1/1] Training loss: 1.6853\t                 Validation loss: 1.4335\n",
      "P-value below threshold for  2019-05-27 - 2019-06-10 \tP-Value:  1.0197291e-10\n",
      "Retrain  lstm  on:  2019-01-27 - 2019-05-27\n",
      "[1/1] Training loss: 1.6557\t                 Validation loss: 1.5047\n",
      "P-value below threshold for  2019-05-28 - 2019-06-11 \tP-Value:  1.0831931e-09\n",
      "Retrain  lstm  on:  2019-01-28 - 2019-05-28\n",
      "[1/1] Training loss: 1.6607\t                 Validation loss: 1.6752\n",
      "P-value below threshold for  2019-05-29 - 2019-06-12 \tP-Value:  1.7838396e-08\n",
      "Retrain  lstm  on:  2019-01-29 - 2019-05-29\n",
      "[1/1] Training loss: 1.6369\t                 Validation loss: 1.4858\n",
      "P-value below threshold for  2019-05-30 - 2019-06-13 \tP-Value:  1.2323177e-07\n",
      "Retrain  lstm  on:  2019-01-30 - 2019-05-30\n",
      "[1/1] Training loss: 1.7061\t                 Validation loss: 1.5555\n",
      "P-value below threshold for  2019-05-31 - 2019-06-14 \tP-Value:  1.0752815e-06\n",
      "Retrain  lstm  on:  2019-01-31 - 2019-05-31\n",
      "[1/1] Training loss: 1.6562\t                 Validation loss: 1.5577\n"
     ]
    },
    {
     "name": "stderr",
     "output_type": "stream",
     "text": [
      " 47%|████▋     | 250/534 [03:34<05:17,  1.12s/it]"
     ]
    },
    {
     "name": "stdout",
     "output_type": "stream",
     "text": [
      "P-value below threshold for  2019-06-01 - 2019-06-15 \tP-Value:  2.9740156e-07\n",
      "Retrain  lstm  on:  2019-02-01 - 2019-06-01\n",
      "[1/1] Training loss: 1.5232\t                 Validation loss: 1.9277\n",
      "P-value below threshold for  2019-06-02 - 2019-06-16 \tP-Value:  3.3075387e-06\n",
      "Retrain  lstm  on:  2019-02-02 - 2019-06-02\n",
      "[1/1] Training loss: 1.7678\t                 Validation loss: 1.5721\n",
      "P-value below threshold for  2019-06-03 - 2019-06-17 \tP-Value:  2.61849e-05\n",
      "Retrain  lstm  on:  2019-02-03 - 2019-06-03\n",
      "[1/1] Training loss: 1.7374\t                 Validation loss: 1.3806\n",
      "P-value below threshold for  2019-06-04 - 2019-06-18 \tP-Value:  0.00039643716\n",
      "Retrain  lstm  on:  2019-02-04 - 2019-06-04\n",
      "[1/1] Training loss: 1.6167\t                 Validation loss: 1.6791\n",
      "P-value below threshold for  2019-06-05 - 2019-06-19 \tP-Value:  0.0004352873\n",
      "Retrain  lstm  on:  2019-02-05 - 2019-06-05\n",
      "[1/1] Training loss: 1.5892\t                 Validation loss: 1.7505\n",
      "P-value below threshold for  2019-06-06 - 2019-06-20 \tP-Value:  0.00038530413\n",
      "Retrain  lstm  on:  2019-02-06 - 2019-06-06\n",
      "[1/1] Training loss: 1.5868\t                 Validation loss: 1.8504\n",
      "P-value below threshold for  2019-06-07 - 2019-06-21 \tP-Value:  0.0020752987\n",
      "Retrain  lstm  on:  2019-02-07 - 2019-06-07\n",
      "[1/1] Training loss: 1.6263\t                 Validation loss: 1.6806\n",
      "P-value below threshold for  2019-06-08 - 2019-06-22 \tP-Value:  0.0020520883\n",
      "Retrain  lstm  on:  2019-02-08 - 2019-06-08\n",
      "[1/1] Training loss: 1.6791\t                 Validation loss: 1.5374\n",
      "P-value below threshold for  2019-06-14 - 2019-06-28 \tP-Value:  0.001330562\n",
      "Retrain  lstm  on:  2019-02-14 - 2019-06-14\n",
      "[1/1] Training loss: 1.6616\t                 Validation loss: 1.6437\n",
      "P-value below threshold for  2019-06-15 - 2019-06-29 \tP-Value:  0.0006810616\n",
      "Retrain  lstm  on:  2019-02-15 - 2019-06-15\n",
      "[1/1] Training loss: 1.5833\t                 Validation loss: 1.9335\n",
      "P-value below threshold for  2019-06-16 - 2019-06-30 \tP-Value:  0.0017482205\n",
      "Retrain  lstm  on:  2019-02-16 - 2019-06-16\n",
      "[1/1] Training loss: 1.7051\t                 Validation loss: 1.5962\n",
      "P-value below threshold for  2019-06-17 - 2019-07-01 \tP-Value:  0.008003575\n",
      "Retrain  lstm  on:  2019-02-17 - 2019-06-17\n",
      "[1/1] Training loss: 1.6832\t                 Validation loss: 1.3241\n",
      "P-value below threshold for  2019-06-18 - 2019-07-02 \tP-Value:  0.0018353713\n",
      "Retrain  lstm  on:  2019-02-18 - 2019-06-18\n",
      "[1/1] Training loss: 1.6142\t                 Validation loss: 1.5834\n",
      "P-value below threshold for  2019-06-19 - 2019-07-03 \tP-Value:  0.0053350003\n",
      "Retrain  lstm  on:  2019-02-19 - 2019-06-19\n",
      "[1/1] Training loss: 1.6676\t                 Validation loss: 1.7042\n",
      "P-value below threshold for  2019-06-20 - 2019-07-04 \tP-Value:  0.009490786\n",
      "Retrain  lstm  on:  2019-02-20 - 2019-06-20\n",
      "[1/1] Training loss: 1.6035\t                 Validation loss: 1.7245\n",
      "P-value below threshold for  2019-07-05 - 2019-07-19 \tP-Value:  0.0051063164\n",
      "Retrain  lstm  on:  2019-03-07 - 2019-07-05\n",
      "[1/1] Training loss: 1.5859\t                 Validation loss: 1.6839\n",
      "P-value below threshold for  2019-07-06 - 2019-07-20 \tP-Value:  0.0025023594\n",
      "Retrain  lstm  on:  2019-03-08 - 2019-07-06\n",
      "[1/1] Training loss: 1.5511\t                 Validation loss: 1.6660\n",
      "P-value below threshold for  2019-07-07 - 2019-07-21 \tP-Value:  0.0007864526\n",
      "Retrain  lstm  on:  2019-03-09 - 2019-07-07\n",
      "[1/1] Training loss: 1.6346\t                 Validation loss: 1.6545\n",
      "P-value below threshold for  2019-07-08 - 2019-07-22 \tP-Value:  0.0015964318\n",
      "Retrain  lstm  on:  2019-03-10 - 2019-07-08\n",
      "[1/1] Training loss: 1.6173\t                 Validation loss: 1.6438\n"
     ]
    },
    {
     "name": "stderr",
     "output_type": "stream",
     "text": [
      " 56%|█████▌    | 300/534 [05:12<05:26,  1.40s/it]"
     ]
    },
    {
     "name": "stdout",
     "output_type": "stream",
     "text": [
      "P-value below threshold for  2019-08-26 - 2019-09-09 \tP-Value:  0.0027491765\n",
      "Retrain  lstm  on:  2019-04-28 - 2019-08-26\n",
      "[1/1] Training loss: 1.6829\t                 Validation loss: 1.3660\n",
      "P-value below threshold for  2019-08-27 - 2019-09-10 \tP-Value:  0.00226216\n",
      "Retrain  lstm  on:  2019-04-29 - 2019-08-27\n",
      "[1/1] Training loss: 1.5647\t                 Validation loss: 1.7925\n",
      "P-value below threshold for  2019-08-28 - 2019-09-11 \tP-Value:  0.00047303885\n",
      "Retrain  lstm  on:  2019-04-30 - 2019-08-28\n",
      "[1/1] Training loss: 1.5869\t                 Validation loss: 1.5572\n",
      "P-value below threshold for  2019-08-29 - 2019-09-12 \tP-Value:  5.4392774e-05\n",
      "Retrain  lstm  on:  2019-05-01 - 2019-08-29\n",
      "[1/1] Training loss: 1.7033\t                 Validation loss: 1.4908\n",
      "P-value below threshold for  2019-08-30 - 2019-09-13 \tP-Value:  0.00047537498\n",
      "Retrain  lstm  on:  2019-05-02 - 2019-08-30\n",
      "[1/1] Training loss: 1.6143\t                 Validation loss: 1.6589\n",
      "P-value below threshold for  2019-08-31 - 2019-09-14 \tP-Value:  0.00070177193\n",
      "Retrain  lstm  on:  2019-05-03 - 2019-08-31\n",
      "[1/1] Training loss: 1.6737\t                 Validation loss: 1.4858\n",
      "P-value below threshold for  2019-09-01 - 2019-09-15 \tP-Value:  0.00015477384\n",
      "Retrain  lstm  on:  2019-05-04 - 2019-09-01\n",
      "[1/1] Training loss: 1.4857\t                 Validation loss: 1.5415\n",
      "P-value below threshold for  2019-09-02 - 2019-09-16 \tP-Value:  0.0001078875\n",
      "Retrain  lstm  on:  2019-05-05 - 2019-09-02\n",
      "[1/1] Training loss: 1.6406\t                 Validation loss: 1.5462\n",
      "P-value below threshold for  2019-09-03 - 2019-09-17 \tP-Value:  4.6007965e-05\n",
      "Retrain  lstm  on:  2019-05-06 - 2019-09-03\n",
      "[1/1] Training loss: 1.6484\t                 Validation loss: 1.5603\n",
      "P-value below threshold for  2019-09-04 - 2019-09-18 \tP-Value:  0.00023602987\n",
      "Retrain  lstm  on:  2019-05-07 - 2019-09-04\n",
      "[1/1] Training loss: 1.6400\t                 Validation loss: 1.7076\n",
      "P-value below threshold for  2019-09-05 - 2019-09-19 \tP-Value:  0.00010841524\n",
      "Retrain  lstm  on:  2019-05-08 - 2019-09-05\n",
      "[1/1] Training loss: 1.6870\t                 Validation loss: 1.4586\n",
      "P-value below threshold for  2019-09-06 - 2019-09-20 \tP-Value:  0.0002382028\n",
      "Retrain  lstm  on:  2019-05-09 - 2019-09-06\n",
      "[1/1] Training loss: 1.5728\t                 Validation loss: 1.7188\n",
      "P-value below threshold for  2019-09-07 - 2019-09-21 \tP-Value:  0.001296153\n",
      "Retrain  lstm  on:  2019-05-10 - 2019-09-07\n",
      "[1/1] Training loss: 1.5505\t                 Validation loss: 1.9176\n",
      "P-value below threshold for  2019-09-08 - 2019-09-22 \tP-Value:  0.002423564\n",
      "Retrain  lstm  on:  2019-05-11 - 2019-09-08\n",
      "[1/1] Training loss: 1.6120\t                 Validation loss: 1.6106\n",
      "P-value below threshold for  2019-09-10 - 2019-09-24 \tP-Value:  0.009921084\n",
      "Retrain  lstm  on:  2019-05-13 - 2019-09-10\n",
      "[1/1] Training loss: 1.5821\t                 Validation loss: 1.6340\n"
     ]
    },
    {
     "name": "stderr",
     "output_type": "stream",
     "text": [
      " 66%|██████▌   | 350/534 [07:50<06:00,  1.96s/it]"
     ]
    },
    {
     "name": "stdout",
     "output_type": "stream",
     "text": [
      "P-value below threshold for  2019-10-30 - 2019-11-13 \tP-Value:  0.007888477\n",
      "Retrain  lstm  on:  2019-07-02 - 2019-10-30\n",
      "[1/1] Training loss: 1.5131\t                 Validation loss: 1.7633\n",
      "P-value below threshold for  2019-10-31 - 2019-11-14 \tP-Value:  0.0025434766\n",
      "Retrain  lstm  on:  2019-07-03 - 2019-10-31\n",
      "[1/1] Training loss: 1.5719\t                 Validation loss: 1.8476\n",
      "P-value below threshold for  2019-11-01 - 2019-11-15 \tP-Value:  0.0010326232\n",
      "Retrain  lstm  on:  2019-07-04 - 2019-11-01\n",
      "[1/1] Training loss: 1.5617\t                 Validation loss: 1.7829\n",
      "P-value below threshold for  2019-11-02 - 2019-11-16 \tP-Value:  9.98001e-05\n",
      "Retrain  lstm  on:  2019-07-05 - 2019-11-02\n",
      "[1/1] Training loss: 1.5883\t                 Validation loss: 1.6831\n",
      "P-value below threshold for  2019-11-03 - 2019-11-17 \tP-Value:  0.00031033513\n",
      "Retrain  lstm  on:  2019-07-06 - 2019-11-03\n",
      "[1/1] Training loss: 1.5628\t                 Validation loss: 1.6045\n",
      "P-value below threshold for  2019-11-04 - 2019-11-18 \tP-Value:  0.00012463378\n",
      "Retrain  lstm  on:  2019-07-07 - 2019-11-04\n",
      "[1/1] Training loss: 1.6312\t                 Validation loss: 1.5970\n",
      "P-value below threshold for  2019-11-05 - 2019-11-19 \tP-Value:  1.3752988e-05\n",
      "Retrain  lstm  on:  2019-07-08 - 2019-11-05\n",
      "[1/1] Training loss: 1.6207\t                 Validation loss: 1.5413\n",
      "P-value below threshold for  2019-11-06 - 2019-11-20 \tP-Value:  7.5330354e-05\n",
      "Retrain  lstm  on:  2019-07-09 - 2019-11-06\n",
      "[1/1] Training loss: 1.6052\t                 Validation loss: 1.8219\n",
      "P-value below threshold for  2019-11-07 - 2019-11-21 \tP-Value:  0.00015777106\n",
      "Retrain  lstm  on:  2019-07-10 - 2019-11-07\n",
      "[1/1] Training loss: 1.5884\t                 Validation loss: 1.6336\n",
      "P-value below threshold for  2019-11-08 - 2019-11-22 \tP-Value:  0.00014320813\n",
      "Retrain  lstm  on:  2019-07-11 - 2019-11-08\n",
      "[1/1] Training loss: 1.5100\t                 Validation loss: 1.9521\n",
      "P-value below threshold for  2019-11-09 - 2019-11-23 \tP-Value:  0.00021064348\n",
      "Retrain  lstm  on:  2019-07-12 - 2019-11-09\n",
      "[1/1] Training loss: 1.6260\t                 Validation loss: 1.4885\n",
      "P-value below threshold for  2019-11-10 - 2019-11-24 \tP-Value:  0.00019638549\n",
      "Retrain  lstm  on:  2019-07-13 - 2019-11-10\n",
      "[1/1] Training loss: 1.6264\t                 Validation loss: 1.3747\n",
      "P-value below threshold for  2019-11-11 - 2019-11-25 \tP-Value:  0.000105292595\n",
      "Retrain  lstm  on:  2019-07-14 - 2019-11-11\n",
      "[1/1] Training loss: 1.7191\t                 Validation loss: 1.5763\n",
      "P-value below threshold for  2019-11-12 - 2019-11-26 \tP-Value:  0.0011904752\n",
      "Retrain  lstm  on:  2019-07-15 - 2019-11-12\n",
      "[1/1] Training loss: 1.5482\t                 Validation loss: 1.7200\n",
      "P-value below threshold for  2019-11-13 - 2019-11-27 \tP-Value:  0.0043675606\n",
      "Retrain  lstm  on:  2019-07-16 - 2019-11-13\n",
      "[1/1] Training loss: 1.5896\t                 Validation loss: 1.5910\n",
      "P-value below threshold for  2019-11-14 - 2019-11-28 \tP-Value:  0.003347247\n",
      "Retrain  lstm  on:  2019-07-17 - 2019-11-14\n",
      "[1/1] Training loss: 1.6003\t                 Validation loss: 1.4467\n",
      "P-value below threshold for  2019-11-15 - 2019-11-29 \tP-Value:  0.001526928\n",
      "Retrain  lstm  on:  2019-07-18 - 2019-11-15\n",
      "[1/1] Training loss: 1.5145\t                 Validation loss: 1.8465\n",
      "P-value below threshold for  2019-11-16 - 2019-11-30 \tP-Value:  0.00039313786\n",
      "Retrain  lstm  on:  2019-07-19 - 2019-11-16\n",
      "[1/1] Training loss: 1.6608\t                 Validation loss: 1.4185\n",
      "P-value below threshold for  2019-11-17 - 2019-12-01 \tP-Value:  0.0025424142\n",
      "Retrain  lstm  on:  2019-07-20 - 2019-11-17\n",
      "[1/1] Training loss: 1.5585\t                 Validation loss: 1.7746\n",
      "P-value below threshold for  2019-12-02 - 2019-12-16 \tP-Value:  0.008585645\n",
      "Retrain  lstm  on:  2019-08-04 - 2019-12-02\n",
      "[1/1] Training loss: 1.5498\t                 Validation loss: 1.7251\n"
     ]
    },
    {
     "name": "stderr",
     "output_type": "stream",
     "text": [
      " 84%|████████▍ | 450/534 [11:23<02:51,  2.04s/it]"
     ]
    },
    {
     "name": "stdout",
     "output_type": "stream",
     "text": [
      "P-value below threshold for  2020-02-26 - 2020-03-11 \tP-Value:  0.0094085075\n",
      "Retrain  lstm  on:  2019-10-29 - 2020-02-26\n",
      "[1/1] Training loss: 1.5304\t                 Validation loss: 1.4044\n",
      "P-value below threshold for  2020-03-15 - 2020-03-29 \tP-Value:  0.005274607\n",
      "Retrain  lstm  on:  2019-11-16 - 2020-03-15\n",
      "[1/1] Training loss: 1.5175\t                 Validation loss: 1.7947\n",
      "P-value below threshold for  2020-03-16 - 2020-03-30 \tP-Value:  0.00023254436\n",
      "Retrain  lstm  on:  2019-11-17 - 2020-03-16\n",
      "[1/1] Training loss: 1.4882\t                 Validation loss: 1.4962\n",
      "P-value below threshold for  2020-03-17 - 2020-03-31 \tP-Value:  0.00010219826\n",
      "Retrain  lstm  on:  2019-11-18 - 2020-03-17\n",
      "[1/1] Training loss: 1.4597\t                 Validation loss: 1.7690\n",
      "P-value below threshold for  2020-03-18 - 2020-04-01 \tP-Value:  0.00026220307\n",
      "Retrain  lstm  on:  2019-11-19 - 2020-03-18\n",
      "[1/1] Training loss: 1.4310\t                 Validation loss: 1.8468\n",
      "P-value below threshold for  2020-03-19 - 2020-04-02 \tP-Value:  0.00034214146\n",
      "Retrain  lstm  on:  2019-11-20 - 2020-03-19\n",
      "[1/1] Training loss: 1.5507\t                 Validation loss: 1.6711\n",
      "P-value below threshold for  2020-03-20 - 2020-04-03 \tP-Value:  0.00015650912\n",
      "Retrain  lstm  on:  2019-11-21 - 2020-03-20\n",
      "[1/1] Training loss: 1.4649\t                 Validation loss: 1.4729\n",
      "P-value below threshold for  2020-03-21 - 2020-04-04 \tP-Value:  8.1606566e-05\n",
      "Retrain  lstm  on:  2019-11-22 - 2020-03-21\n",
      "[1/1] Training loss: 1.5659\t                 Validation loss: 1.4140\n",
      "P-value below threshold for  2020-03-22 - 2020-04-05 \tP-Value:  0.00013712738\n",
      "Retrain  lstm  on:  2019-11-23 - 2020-03-22\n",
      "[1/1] Training loss: 1.6074\t                 Validation loss: 1.5173\n",
      "P-value below threshold for  2020-03-23 - 2020-04-06 \tP-Value:  8.8241846e-05\n",
      "Retrain  lstm  on:  2019-11-24 - 2020-03-23\n",
      "[1/1] Training loss: 1.5642\t                 Validation loss: 1.5408\n",
      "P-value below threshold for  2020-03-24 - 2020-04-07 \tP-Value:  0.00012244513\n",
      "Retrain  lstm  on:  2019-11-25 - 2020-03-24\n",
      "[1/1] Training loss: 1.6088\t                 Validation loss: 1.4986\n",
      "P-value below threshold for  2020-03-25 - 2020-04-08 \tP-Value:  0.000121393525\n",
      "Retrain  lstm  on:  2019-11-26 - 2020-03-25\n",
      "[1/1] Training loss: 1.5844\t                 Validation loss: 1.5433\n",
      "P-value below threshold for  2020-03-26 - 2020-04-09 \tP-Value:  0.00168332\n",
      "Retrain  lstm  on:  2019-11-27 - 2020-03-26\n",
      "[1/1] Training loss: 1.5899\t                 Validation loss: 1.5675\n"
     ]
    },
    {
     "name": "stderr",
     "output_type": "stream",
     "text": [
      " 94%|█████████▎| 500/534 [14:23<01:25,  2.52s/it]"
     ]
    },
    {
     "name": "stdout",
     "output_type": "stream",
     "text": [
      "P-value below threshold for  2020-05-30 - 2020-06-13 \tP-Value:  0.008460415\n",
      "Retrain  lstm  on:  2020-01-31 - 2020-05-30\n",
      "[1/1] Training loss: 1.8396\t                 Validation loss: 1.5736\n"
     ]
    },
    {
     "name": "stderr",
     "output_type": "stream",
     "text": [
      " 94%|█████████▎| 500/534 [15:21<01:02,  1.84s/it]\n"
     ]
    },
    {
     "name": "stdout",
     "output_type": "stream",
     "text": [
      "108  alarms with avg p-value of  0.0014636657 (0.000977324377168214, 0.0019500071095486524)\n"
     ]
    },
    {
     "name": "stderr",
     "output_type": "stream",
     "text": [
      "  0%|          | 0/534 [00:00<?, ?it/s]"
     ]
    },
    {
     "name": "stdout",
     "output_type": "stream",
     "text": [
      "Calibrating drift detector...\n"
     ]
    },
    {
     "name": "stderr",
     "output_type": "stream",
     "text": [
      " 37%|███▋      | 200/534 [02:11<04:36,  1.21it/s]"
     ]
    },
    {
     "name": "stdout",
     "output_type": "stream",
     "text": [
      "P-value below threshold for  2019-05-25 - 2019-06-08 \tP-Value:  0.009921345\n",
      "Retrain  lstm  on:  2019-01-25 - 2019-05-25\n",
      "[1/1] Training loss: 1.6725\t                 Validation loss: 1.5284\n",
      "P-value below threshold for  2019-05-26 - 2019-06-09 \tP-Value:  2.8443496e-09\n",
      "Retrain  lstm  on:  2019-01-26 - 2019-05-26\n",
      "[1/1] Training loss: 1.6290\t                 Validation loss: 1.3531\n",
      "P-value below threshold for  2019-05-27 - 2019-06-10 \tP-Value:  5.4208393e-09\n",
      "Retrain  lstm  on:  2019-01-27 - 2019-05-27\n",
      "[1/1] Training loss: 1.7185\t                 Validation loss: 1.2333\n",
      "P-value below threshold for  2019-05-28 - 2019-06-11 \tP-Value:  2.5280137e-08\n",
      "Retrain  lstm  on:  2019-01-28 - 2019-05-28\n",
      "[1/1] Training loss: 1.6636\t                 Validation loss: 1.6515\n",
      "P-value below threshold for  2019-05-29 - 2019-06-12 \tP-Value:  4.1086705e-07\n",
      "Retrain  lstm  on:  2019-01-29 - 2019-05-29\n",
      "[1/1] Training loss: 1.6536\t                 Validation loss: 1.7236\n",
      "P-value below threshold for  2019-05-30 - 2019-06-13 \tP-Value:  1.2463379e-06\n",
      "Retrain  lstm  on:  2019-01-30 - 2019-05-30\n",
      "[1/1] Training loss: 1.6902\t                 Validation loss: 1.4660\n",
      "P-value below threshold for  2019-05-31 - 2019-06-14 \tP-Value:  1.1553933e-05\n",
      "Retrain  lstm  on:  2019-01-31 - 2019-05-31\n",
      "[1/1] Training loss: 1.6353\t                 Validation loss: 1.5570\n"
     ]
    },
    {
     "name": "stderr",
     "output_type": "stream",
     "text": [
      " 47%|████▋     | 250/534 [03:35<05:19,  1.12s/it]"
     ]
    },
    {
     "name": "stdout",
     "output_type": "stream",
     "text": [
      "P-value below threshold for  2019-06-01 - 2019-06-15 \tP-Value:  3.2210928e-06\n",
      "Retrain  lstm  on:  2019-02-01 - 2019-06-01\n",
      "[1/1] Training loss: 1.6692\t                 Validation loss: 1.5802\n",
      "P-value below threshold for  2019-06-02 - 2019-06-16 \tP-Value:  2.4754067e-05\n",
      "Retrain  lstm  on:  2019-02-02 - 2019-06-02\n",
      "[1/1] Training loss: 1.6037\t                 Validation loss: 1.5913\n",
      "P-value below threshold for  2019-06-03 - 2019-06-17 \tP-Value:  0.00035104796\n",
      "Retrain  lstm  on:  2019-02-03 - 2019-06-03\n",
      "[1/1] Training loss: 1.6982\t                 Validation loss: 1.8406\n",
      "P-value below threshold for  2019-06-04 - 2019-06-18 \tP-Value:  0.004308108\n",
      "Retrain  lstm  on:  2019-02-04 - 2019-06-04\n",
      "[1/1] Training loss: 1.6940\t                 Validation loss: 1.6401\n",
      "P-value below threshold for  2019-06-05 - 2019-06-19 \tP-Value:  0.0013395884\n",
      "Retrain  lstm  on:  2019-02-05 - 2019-06-05\n",
      "[1/1] Training loss: 1.6986\t                 Validation loss: 1.6278\n",
      "P-value below threshold for  2019-06-06 - 2019-06-20 \tP-Value:  0.0012799925\n",
      "Retrain  lstm  on:  2019-02-06 - 2019-06-06\n",
      "[1/1] Training loss: 1.7345\t                 Validation loss: 1.7667\n",
      "P-value below threshold for  2019-06-07 - 2019-06-21 \tP-Value:  0.00939632\n",
      "Retrain  lstm  on:  2019-02-07 - 2019-06-07\n",
      "[1/1] Training loss: 1.7574\t                 Validation loss: 1.5808\n",
      "P-value below threshold for  2019-06-08 - 2019-06-22 \tP-Value:  0.008121479\n",
      "Retrain  lstm  on:  2019-02-08 - 2019-06-08\n",
      "[1/1] Training loss: 1.7201\t                 Validation loss: 1.3911\n",
      "P-value below threshold for  2019-06-09 - 2019-06-23 \tP-Value:  0.009228537\n",
      "Retrain  lstm  on:  2019-02-09 - 2019-06-09\n",
      "[1/1] Training loss: 1.6905\t                 Validation loss: 1.5882\n",
      "P-value below threshold for  2019-06-14 - 2019-06-28 \tP-Value:  0.0008158352\n",
      "Retrain  lstm  on:  2019-02-14 - 2019-06-14\n",
      "[1/1] Training loss: 1.6153\t                 Validation loss: 1.6466\n",
      "P-value below threshold for  2019-06-15 - 2019-06-29 \tP-Value:  0.0010280807\n",
      "Retrain  lstm  on:  2019-02-15 - 2019-06-15\n",
      "[1/1] Training loss: 1.7139\t                 Validation loss: 1.6760\n",
      "P-value below threshold for  2019-06-16 - 2019-06-30 \tP-Value:  0.00221546\n",
      "Retrain  lstm  on:  2019-02-16 - 2019-06-16\n",
      "[1/1] Training loss: 1.6228\t                 Validation loss: 1.5996\n",
      "P-value below threshold for  2019-06-18 - 2019-07-02 \tP-Value:  0.006225525\n",
      "Retrain  lstm  on:  2019-02-18 - 2019-06-18\n",
      "[1/1] Training loss: 1.6523\t                 Validation loss: 1.8615\n",
      "P-value below threshold for  2019-07-05 - 2019-07-19 \tP-Value:  0.005389964\n",
      "Retrain  lstm  on:  2019-03-07 - 2019-07-05\n",
      "[1/1] Training loss: 1.5579\t                 Validation loss: 1.6917\n",
      "P-value below threshold for  2019-07-06 - 2019-07-20 \tP-Value:  0.0015842314\n",
      "Retrain  lstm  on:  2019-03-08 - 2019-07-06\n",
      "[1/1] Training loss: 1.5679\t                 Validation loss: 1.7306\n",
      "P-value below threshold for  2019-07-07 - 2019-07-21 \tP-Value:  0.0012019938\n",
      "Retrain  lstm  on:  2019-03-09 - 2019-07-07\n",
      "[1/1] Training loss: 1.5707\t                 Validation loss: 1.8138\n",
      "P-value below threshold for  2019-07-08 - 2019-07-22 \tP-Value:  0.0018122949\n",
      "Retrain  lstm  on:  2019-03-10 - 2019-07-08\n",
      "[1/1] Training loss: 1.6089\t                 Validation loss: 1.5717\n"
     ]
    },
    {
     "name": "stderr",
     "output_type": "stream",
     "text": [
      " 56%|█████▌    | 300/534 [05:08<05:20,  1.37s/it]"
     ]
    },
    {
     "name": "stdout",
     "output_type": "stream",
     "text": [
      "P-value below threshold for  2019-08-26 - 2019-09-09 \tP-Value:  0.00650008\n",
      "Retrain  lstm  on:  2019-04-28 - 2019-08-26\n",
      "[1/1] Training loss: 1.5969\t                 Validation loss: 1.6129\n",
      "P-value below threshold for  2019-08-27 - 2019-09-10 \tP-Value:  0.0035536606\n",
      "Retrain  lstm  on:  2019-04-29 - 2019-08-27\n",
      "[1/1] Training loss: 1.7319\t                 Validation loss: 2.1094\n",
      "P-value below threshold for  2019-08-28 - 2019-09-11 \tP-Value:  0.00044985375\n",
      "Retrain  lstm  on:  2019-04-30 - 2019-08-28\n",
      "[1/1] Training loss: 1.5979\t                 Validation loss: 1.7295\n",
      "P-value below threshold for  2019-08-29 - 2019-09-12 \tP-Value:  6.4052096e-05\n",
      "Retrain  lstm  on:  2019-05-01 - 2019-08-29\n",
      "[1/1] Training loss: 1.4968\t                 Validation loss: 1.5556\n",
      "P-value below threshold for  2019-08-30 - 2019-09-13 \tP-Value:  0.0003256333\n",
      "Retrain  lstm  on:  2019-05-02 - 2019-08-30\n",
      "[1/1] Training loss: 1.5584\t                 Validation loss: 1.6615\n",
      "P-value below threshold for  2019-08-31 - 2019-09-14 \tP-Value:  0.0005898439\n",
      "Retrain  lstm  on:  2019-05-03 - 2019-08-31\n",
      "[1/1] Training loss: 1.5961\t                 Validation loss: 1.4830\n",
      "P-value below threshold for  2019-09-01 - 2019-09-15 \tP-Value:  0.00010016319\n",
      "Retrain  lstm  on:  2019-05-04 - 2019-09-01\n",
      "[1/1] Training loss: 1.7220\t                 Validation loss: 1.5101\n",
      "P-value below threshold for  2019-09-02 - 2019-09-16 \tP-Value:  5.2228683e-05\n",
      "Retrain  lstm  on:  2019-05-05 - 2019-09-02\n",
      "[1/1] Training loss: 1.6137\t                 Validation loss: 1.5260\n",
      "P-value below threshold for  2019-09-03 - 2019-09-17 \tP-Value:  1.9376464e-05\n",
      "Retrain  lstm  on:  2019-05-06 - 2019-09-03\n",
      "[1/1] Training loss: 1.5706\t                 Validation loss: 1.4704\n",
      "P-value below threshold for  2019-09-04 - 2019-09-18 \tP-Value:  0.0001407588\n",
      "Retrain  lstm  on:  2019-05-07 - 2019-09-04\n",
      "[1/1] Training loss: 1.5586\t                 Validation loss: 1.6940\n",
      "P-value below threshold for  2019-09-05 - 2019-09-19 \tP-Value:  6.351482e-05\n",
      "Retrain  lstm  on:  2019-05-08 - 2019-09-05\n",
      "[1/1] Training loss: 1.6666\t                 Validation loss: 1.4640\n",
      "P-value below threshold for  2019-09-06 - 2019-09-20 \tP-Value:  0.0002062597\n",
      "Retrain  lstm  on:  2019-05-09 - 2019-09-06\n",
      "[1/1] Training loss: 1.5836\t                 Validation loss: 1.8390\n",
      "P-value below threshold for  2019-09-07 - 2019-09-21 \tP-Value:  0.0015134023\n",
      "Retrain  lstm  on:  2019-05-10 - 2019-09-07\n",
      "[1/1] Training loss: 1.6909\t                 Validation loss: 1.5219\n",
      "P-value below threshold for  2019-09-08 - 2019-09-22 \tP-Value:  0.0034824754\n",
      "Retrain  lstm  on:  2019-05-11 - 2019-09-08\n",
      "[1/1] Training loss: 1.6120\t                 Validation loss: 1.6325\n",
      "P-value below threshold for  2019-09-10 - 2019-09-24 \tP-Value:  0.009985904\n",
      "Retrain  lstm  on:  2019-05-13 - 2019-09-10\n",
      "[1/1] Training loss: 1.5156\t                 Validation loss: 1.7347\n"
     ]
    },
    {
     "name": "stderr",
     "output_type": "stream",
     "text": [
      " 66%|██████▌   | 350/534 [07:58<06:11,  2.02s/it]"
     ]
    },
    {
     "name": "stdout",
     "output_type": "stream",
     "text": [
      "P-value below threshold for  2019-10-30 - 2019-11-13 \tP-Value:  0.0060994183\n",
      "Retrain  lstm  on:  2019-07-02 - 2019-10-30\n",
      "[1/1] Training loss: 1.6573\t                 Validation loss: 1.6280\n",
      "P-value below threshold for  2019-10-31 - 2019-11-14 \tP-Value:  0.0020709496\n",
      "Retrain  lstm  on:  2019-07-03 - 2019-10-31\n",
      "[1/1] Training loss: 1.5060\t                 Validation loss: 1.6349\n",
      "P-value below threshold for  2019-11-01 - 2019-11-15 \tP-Value:  0.0020578029\n",
      "Retrain  lstm  on:  2019-07-04 - 2019-11-01\n",
      "[1/1] Training loss: 1.7610\t                 Validation loss: 1.4777\n",
      "P-value below threshold for  2019-11-02 - 2019-11-16 \tP-Value:  0.00016332565\n",
      "Retrain  lstm  on:  2019-07-05 - 2019-11-02\n",
      "[1/1] Training loss: 1.5728\t                 Validation loss: 1.4943\n",
      "P-value below threshold for  2019-11-03 - 2019-11-17 \tP-Value:  0.00035218577\n",
      "Retrain  lstm  on:  2019-07-06 - 2019-11-03\n",
      "[1/1] Training loss: 1.5186\t                 Validation loss: 1.6050\n",
      "P-value below threshold for  2019-11-04 - 2019-11-18 \tP-Value:  0.0001985481\n",
      "Retrain  lstm  on:  2019-07-07 - 2019-11-04\n",
      "[1/1] Training loss: 1.6221\t                 Validation loss: 1.5287\n",
      "P-value below threshold for  2019-11-05 - 2019-11-19 \tP-Value:  2.9587402e-05\n",
      "Retrain  lstm  on:  2019-07-08 - 2019-11-05\n",
      "[1/1] Training loss: 1.6729\t                 Validation loss: 1.6077\n",
      "P-value below threshold for  2019-11-06 - 2019-11-20 \tP-Value:  0.00012956304\n",
      "Retrain  lstm  on:  2019-07-09 - 2019-11-06\n",
      "[1/1] Training loss: 1.6350\t                 Validation loss: 1.6371\n",
      "P-value below threshold for  2019-11-07 - 2019-11-21 \tP-Value:  0.00025183416\n",
      "Retrain  lstm  on:  2019-07-10 - 2019-11-07\n",
      "[1/1] Training loss: 1.6519\t                 Validation loss: 1.5285\n",
      "P-value below threshold for  2019-11-08 - 2019-11-22 \tP-Value:  0.0002217219\n",
      "Retrain  lstm  on:  2019-07-11 - 2019-11-08\n",
      "[1/1] Training loss: 1.5755\t                 Validation loss: 1.8622\n",
      "P-value below threshold for  2019-11-09 - 2019-11-23 \tP-Value:  0.00029104386\n",
      "Retrain  lstm  on:  2019-07-12 - 2019-11-09\n",
      "[1/1] Training loss: 1.6737\t                 Validation loss: 1.5315\n",
      "P-value below threshold for  2019-11-10 - 2019-11-24 \tP-Value:  0.00029581864\n",
      "Retrain  lstm  on:  2019-07-13 - 2019-11-10\n",
      "[1/1] Training loss: 1.6485\t                 Validation loss: 1.6003\n",
      "P-value below threshold for  2019-11-11 - 2019-11-25 \tP-Value:  0.00027520477\n",
      "Retrain  lstm  on:  2019-07-14 - 2019-11-11\n",
      "[1/1] Training loss: 1.6057\t                 Validation loss: 1.5238\n",
      "P-value below threshold for  2019-11-12 - 2019-11-26 \tP-Value:  0.0028361564\n",
      "Retrain  lstm  on:  2019-07-15 - 2019-11-12\n",
      "[1/1] Training loss: 1.5495\t                 Validation loss: 1.6403\n",
      "P-value below threshold for  2019-11-13 - 2019-11-27 \tP-Value:  0.009222505\n",
      "Retrain  lstm  on:  2019-07-16 - 2019-11-13\n",
      "[1/1] Training loss: 1.5988\t                 Validation loss: 1.6726\n",
      "P-value below threshold for  2019-11-14 - 2019-11-28 \tP-Value:  0.0067971316\n",
      "Retrain  lstm  on:  2019-07-17 - 2019-11-14\n",
      "[1/1] Training loss: 1.6166\t                 Validation loss: 1.5179\n",
      "P-value below threshold for  2019-11-15 - 2019-11-29 \tP-Value:  0.002270402\n",
      "Retrain  lstm  on:  2019-07-18 - 2019-11-15\n",
      "[1/1] Training loss: 1.6044\t                 Validation loss: 1.5008\n",
      "P-value below threshold for  2019-11-16 - 2019-11-30 \tP-Value:  0.00094619626\n",
      "Retrain  lstm  on:  2019-07-19 - 2019-11-16\n",
      "[1/1] Training loss: 1.5441\t                 Validation loss: 1.6748\n",
      "P-value below threshold for  2019-11-17 - 2019-12-01 \tP-Value:  0.0045721466\n",
      "Retrain  lstm  on:  2019-07-20 - 2019-11-17\n",
      "[1/1] Training loss: 1.5010\t                 Validation loss: 1.6030\n"
     ]
    },
    {
     "name": "stderr",
     "output_type": "stream",
     "text": [
      " 84%|████████▍ | 450/534 [11:22<02:50,  2.03s/it]"
     ]
    },
    {
     "name": "stdout",
     "output_type": "stream",
     "text": [
      "P-value below threshold for  2020-02-22 - 2020-03-07 \tP-Value:  0.007998556\n",
      "Retrain  lstm  on:  2019-10-25 - 2020-02-22\n",
      "[1/1] Training loss: 1.5657\t                 Validation loss: 1.4057\n",
      "P-value below threshold for  2020-03-16 - 2020-03-30 \tP-Value:  0.0009362951\n",
      "Retrain  lstm  on:  2019-11-17 - 2020-03-16\n",
      "[1/1] Training loss: 1.5717\t                 Validation loss: 1.5837\n",
      "P-value below threshold for  2020-03-17 - 2020-03-31 \tP-Value:  0.00071079173\n",
      "Retrain  lstm  on:  2019-11-18 - 2020-03-17\n",
      "[1/1] Training loss: 1.5405\t                 Validation loss: 1.3935\n",
      "P-value below threshold for  2020-03-18 - 2020-04-01 \tP-Value:  0.0011956163\n",
      "Retrain  lstm  on:  2019-11-19 - 2020-03-18\n",
      "[1/1] Training loss: 1.5363\t                 Validation loss: 1.7827\n",
      "P-value below threshold for  2020-03-19 - 2020-04-02 \tP-Value:  0.0013688924\n",
      "Retrain  lstm  on:  2019-11-20 - 2020-03-19\n",
      "[1/1] Training loss: 1.5335\t                 Validation loss: 1.4008\n",
      "P-value below threshold for  2020-03-20 - 2020-04-03 \tP-Value:  0.00028359803\n",
      "Retrain  lstm  on:  2019-11-21 - 2020-03-20\n",
      "[1/1] Training loss: 1.5173\t                 Validation loss: 1.3652\n",
      "P-value below threshold for  2020-03-21 - 2020-04-04 \tP-Value:  0.00014545713\n",
      "Retrain  lstm  on:  2019-11-22 - 2020-03-21\n",
      "[1/1] Training loss: 1.5601\t                 Validation loss: 1.5032\n",
      "P-value below threshold for  2020-03-22 - 2020-04-05 \tP-Value:  0.00023075877\n",
      "Retrain  lstm  on:  2019-11-23 - 2020-03-22\n",
      "[1/1] Training loss: 1.5139\t                 Validation loss: 1.4812\n",
      "P-value below threshold for  2020-03-23 - 2020-04-06 \tP-Value:  7.265315e-05\n",
      "Retrain  lstm  on:  2019-11-24 - 2020-03-23\n",
      "[1/1] Training loss: 1.5682\t                 Validation loss: 1.3310\n",
      "P-value below threshold for  2020-03-24 - 2020-04-07 \tP-Value:  7.5792195e-05\n",
      "Retrain  lstm  on:  2019-11-25 - 2020-03-24\n",
      "[1/1] Training loss: 1.5337\t                 Validation loss: 1.6496\n",
      "P-value below threshold for  2020-03-25 - 2020-04-08 \tP-Value:  7.4000294e-05\n",
      "Retrain  lstm  on:  2019-11-26 - 2020-03-25\n",
      "[1/1] Training loss: 1.6000\t                 Validation loss: 1.4699\n",
      "P-value below threshold for  2020-03-26 - 2020-04-09 \tP-Value:  0.0017867128\n",
      "Retrain  lstm  on:  2019-11-27 - 2020-03-26\n",
      "[1/1] Training loss: 1.4943\t                 Validation loss: 1.7504\n"
     ]
    },
    {
     "name": "stderr",
     "output_type": "stream",
     "text": [
      " 94%|█████████▎| 500/534 [15:23<01:02,  1.85s/it]\n"
     ]
    },
    {
     "name": "stdout",
     "output_type": "stream",
     "text": [
      "103  alarms with avg p-value of  0.001637211 (0.0011141037244667474, 0.002160318181631976)\n"
     ]
    },
    {
     "name": "stderr",
     "output_type": "stream",
     "text": [
      "  0%|          | 0/534 [00:00<?, ?it/s]"
     ]
    },
    {
     "name": "stdout",
     "output_type": "stream",
     "text": [
      "Calibrating drift detector...\n"
     ]
    },
    {
     "name": "stderr",
     "output_type": "stream",
     "text": [
      " 37%|███▋      | 200/534 [02:18<04:52,  1.14it/s]"
     ]
    },
    {
     "name": "stdout",
     "output_type": "stream",
     "text": [
      "P-value below threshold for  2019-05-25 - 2019-06-08 \tP-Value:  0.009921345\n",
      "Retrain  lstm  on:  2019-01-25 - 2019-05-25\n",
      "[1/1] Training loss: 1.7568\t                 Validation loss: 1.4742\n",
      "P-value below threshold for  2019-05-26 - 2019-06-09 \tP-Value:  8.0121917e-13\n",
      "Retrain  lstm  on:  2019-01-26 - 2019-05-26\n",
      "[1/1] Training loss: 1.6281\t                 Validation loss: 1.5467\n",
      "P-value below threshold for  2019-05-27 - 2019-06-10 \tP-Value:  1.339139e-12\n",
      "Retrain  lstm  on:  2019-01-27 - 2019-05-27\n",
      "[1/1] Training loss: 1.5802\t                 Validation loss: 1.8940\n",
      "P-value below threshold for  2019-05-28 - 2019-06-11 \tP-Value:  8.141906e-12\n",
      "Retrain  lstm  on:  2019-01-28 - 2019-05-28\n",
      "[1/1] Training loss: 1.6793\t                 Validation loss: 1.4095\n",
      "P-value below threshold for  2019-05-29 - 2019-06-12 \tP-Value:  4.1823353e-10\n",
      "Retrain  lstm  on:  2019-01-29 - 2019-05-29\n",
      "[1/1] Training loss: 1.7452\t                 Validation loss: 1.4835\n",
      "P-value below threshold for  2019-05-30 - 2019-06-13 \tP-Value:  1.0685706e-09\n",
      "Retrain  lstm  on:  2019-01-30 - 2019-05-30\n",
      "[1/1] Training loss: 1.5797\t                 Validation loss: 1.6733\n",
      "P-value below threshold for  2019-05-31 - 2019-06-14 \tP-Value:  3.4278594e-07\n",
      "Retrain  lstm  on:  2019-01-31 - 2019-05-31\n",
      "[1/1] Training loss: 1.6446\t                 Validation loss: 1.6990\n"
     ]
    },
    {
     "name": "stderr",
     "output_type": "stream",
     "text": [
      " 47%|████▋     | 250/534 [03:38<05:20,  1.13s/it]"
     ]
    },
    {
     "name": "stdout",
     "output_type": "stream",
     "text": [
      "P-value below threshold for  2019-06-01 - 2019-06-15 \tP-Value:  9.4538755e-08\n",
      "Retrain  lstm  on:  2019-02-01 - 2019-06-01\n",
      "[1/1] Training loss: 1.7312\t                 Validation loss: 1.3240\n",
      "P-value below threshold for  2019-06-02 - 2019-06-16 \tP-Value:  1.0798135e-06\n",
      "Retrain  lstm  on:  2019-02-02 - 2019-06-02\n",
      "[1/1] Training loss: 1.5901\t                 Validation loss: 1.6501\n",
      "P-value below threshold for  2019-06-03 - 2019-06-17 \tP-Value:  1.3648625e-05\n",
      "Retrain  lstm  on:  2019-02-03 - 2019-06-03\n",
      "[1/1] Training loss: 1.7034\t                 Validation loss: 1.7250\n",
      "P-value below threshold for  2019-06-04 - 2019-06-18 \tP-Value:  0.00016009319\n",
      "Retrain  lstm  on:  2019-02-04 - 2019-06-04\n",
      "[1/1] Training loss: 1.7089\t                 Validation loss: 1.5915\n",
      "P-value below threshold for  2019-06-05 - 2019-06-19 \tP-Value:  0.00021984856\n",
      "Retrain  lstm  on:  2019-02-05 - 2019-06-05\n",
      "[1/1] Training loss: 1.7108\t                 Validation loss: 1.5531\n",
      "P-value below threshold for  2019-06-06 - 2019-06-20 \tP-Value:  0.00017830577\n",
      "Retrain  lstm  on:  2019-02-06 - 2019-06-06\n",
      "[1/1] Training loss: 1.6583\t                 Validation loss: 2.0673\n",
      "P-value below threshold for  2019-06-07 - 2019-06-21 \tP-Value:  0.0019052797\n",
      "Retrain  lstm  on:  2019-02-07 - 2019-06-07\n",
      "[1/1] Training loss: 1.6514\t                 Validation loss: 1.8609\n",
      "P-value below threshold for  2019-06-08 - 2019-06-22 \tP-Value:  0.0012070718\n",
      "Retrain  lstm  on:  2019-02-08 - 2019-06-08\n",
      "[1/1] Training loss: 1.7405\t                 Validation loss: 1.3517\n",
      "P-value below threshold for  2019-06-09 - 2019-06-23 \tP-Value:  0.005287245\n",
      "Retrain  lstm  on:  2019-02-09 - 2019-06-09\n",
      "[1/1] Training loss: 1.6143\t                 Validation loss: 1.8097\n",
      "P-value below threshold for  2019-06-11 - 2019-06-25 \tP-Value:  0.006841888\n",
      "Retrain  lstm  on:  2019-02-11 - 2019-06-11\n",
      "[1/1] Training loss: 1.6063\t                 Validation loss: 1.7084\n",
      "P-value below threshold for  2019-06-12 - 2019-06-26 \tP-Value:  0.006047496\n",
      "Retrain  lstm  on:  2019-02-12 - 2019-06-12\n",
      "[1/1] Training loss: 1.6483\t                 Validation loss: 1.8970\n",
      "P-value below threshold for  2019-06-13 - 2019-06-27 \tP-Value:  0.005310553\n",
      "Retrain  lstm  on:  2019-02-13 - 2019-06-13\n",
      "[1/1] Training loss: 1.6236\t                 Validation loss: 1.6095\n",
      "P-value below threshold for  2019-06-14 - 2019-06-28 \tP-Value:  0.00069054443\n",
      "Retrain  lstm  on:  2019-02-14 - 2019-06-14\n",
      "[1/1] Training loss: 1.7004\t                 Validation loss: 1.4853\n",
      "P-value below threshold for  2019-06-15 - 2019-06-29 \tP-Value:  0.00030473172\n",
      "Retrain  lstm  on:  2019-02-15 - 2019-06-15\n",
      "[1/1] Training loss: 1.7408\t                 Validation loss: 1.4574\n",
      "P-value below threshold for  2019-06-16 - 2019-06-30 \tP-Value:  0.0007138667\n",
      "Retrain  lstm  on:  2019-02-16 - 2019-06-16\n",
      "[1/1] Training loss: 1.5823\t                 Validation loss: 1.5387\n",
      "P-value below threshold for  2019-06-17 - 2019-07-01 \tP-Value:  0.007000786\n",
      "Retrain  lstm  on:  2019-02-17 - 2019-06-17\n",
      "[1/1] Training loss: 1.7203\t                 Validation loss: 1.7447\n",
      "P-value below threshold for  2019-06-18 - 2019-07-02 \tP-Value:  0.0021588905\n",
      "Retrain  lstm  on:  2019-02-18 - 2019-06-18\n",
      "[1/1] Training loss: 1.6938\t                 Validation loss: 1.3377\n",
      "P-value below threshold for  2019-07-05 - 2019-07-19 \tP-Value:  0.004487245\n",
      "Retrain  lstm  on:  2019-03-07 - 2019-07-05\n",
      "[1/1] Training loss: 1.5650\t                 Validation loss: 1.6314\n",
      "P-value below threshold for  2019-07-06 - 2019-07-20 \tP-Value:  0.0013257304\n",
      "Retrain  lstm  on:  2019-03-08 - 2019-07-06\n",
      "[1/1] Training loss: 1.5856\t                 Validation loss: 1.6476\n",
      "P-value below threshold for  2019-07-07 - 2019-07-21 \tP-Value:  0.00046193547\n",
      "Retrain  lstm  on:  2019-03-09 - 2019-07-07\n",
      "[1/1] Training loss: 1.5560\t                 Validation loss: 1.6900\n",
      "P-value below threshold for  2019-07-08 - 2019-07-22 \tP-Value:  0.001031095\n",
      "Retrain  lstm  on:  2019-03-10 - 2019-07-08\n",
      "[1/1] Training loss: 1.6994\t                 Validation loss: 1.5351\n"
     ]
    },
    {
     "name": "stderr",
     "output_type": "stream",
     "text": [
      " 56%|█████▌    | 300/534 [05:11<05:21,  1.37s/it]"
     ]
    },
    {
     "name": "stdout",
     "output_type": "stream",
     "text": [
      "P-value below threshold for  2019-08-24 - 2019-09-07 \tP-Value:  0.008720257\n",
      "Retrain  lstm  on:  2019-04-26 - 2019-08-24\n",
      "[1/1] Training loss: 1.6187\t                 Validation loss: 1.4182\n",
      "P-value below threshold for  2019-08-25 - 2019-09-08 \tP-Value:  0.006718764\n",
      "Retrain  lstm  on:  2019-04-27 - 2019-08-25\n",
      "[1/1] Training loss: 1.6440\t                 Validation loss: 1.5623\n",
      "P-value below threshold for  2019-08-27 - 2019-09-10 \tP-Value:  0.0047317157\n",
      "Retrain  lstm  on:  2019-04-29 - 2019-08-27\n",
      "[1/1] Training loss: 1.6078\t                 Validation loss: 1.6509\n",
      "P-value below threshold for  2019-08-28 - 2019-09-11 \tP-Value:  0.0007890386\n",
      "Retrain  lstm  on:  2019-04-30 - 2019-08-28\n",
      "[1/1] Training loss: 1.6726\t                 Validation loss: 1.8221\n",
      "P-value below threshold for  2019-08-29 - 2019-09-12 \tP-Value:  0.00012593137\n",
      "Retrain  lstm  on:  2019-05-01 - 2019-08-29\n",
      "[1/1] Training loss: 1.5522\t                 Validation loss: 1.6478\n",
      "P-value below threshold for  2019-08-30 - 2019-09-13 \tP-Value:  0.0007588836\n",
      "Retrain  lstm  on:  2019-05-02 - 2019-08-30\n",
      "[1/1] Training loss: 1.5310\t                 Validation loss: 1.9122\n",
      "P-value below threshold for  2019-08-31 - 2019-09-14 \tP-Value:  0.0011563442\n",
      "Retrain  lstm  on:  2019-05-03 - 2019-08-31\n",
      "[1/1] Training loss: 1.6077\t                 Validation loss: 1.8312\n",
      "P-value below threshold for  2019-09-01 - 2019-09-15 \tP-Value:  0.00020267157\n",
      "Retrain  lstm  on:  2019-05-04 - 2019-09-01\n",
      "[1/1] Training loss: 1.6217\t                 Validation loss: 1.3244\n",
      "P-value below threshold for  2019-09-02 - 2019-09-16 \tP-Value:  8.303762e-05\n",
      "Retrain  lstm  on:  2019-05-05 - 2019-09-02\n",
      "[1/1] Training loss: 1.5657\t                 Validation loss: 1.8639\n",
      "P-value below threshold for  2019-09-03 - 2019-09-17 \tP-Value:  3.6008423e-05\n",
      "Retrain  lstm  on:  2019-05-06 - 2019-09-03\n",
      "[1/1] Training loss: 1.6474\t                 Validation loss: 1.5434\n",
      "P-value below threshold for  2019-09-04 - 2019-09-18 \tP-Value:  0.00037254216\n",
      "Retrain  lstm  on:  2019-05-07 - 2019-09-04\n",
      "[1/1] Training loss: 1.4899\t                 Validation loss: 2.1700\n",
      "P-value below threshold for  2019-09-05 - 2019-09-19 \tP-Value:  0.00018777605\n",
      "Retrain  lstm  on:  2019-05-08 - 2019-09-05\n",
      "[1/1] Training loss: 1.5996\t                 Validation loss: 1.5648\n",
      "P-value below threshold for  2019-09-06 - 2019-09-20 \tP-Value:  0.00020016315\n",
      "Retrain  lstm  on:  2019-05-09 - 2019-09-06\n",
      "[1/1] Training loss: 1.6535\t                 Validation loss: 1.7130\n",
      "P-value below threshold for  2019-09-07 - 2019-09-21 \tP-Value:  0.0015597298\n",
      "Retrain  lstm  on:  2019-05-10 - 2019-09-07\n",
      "[1/1] Training loss: 1.6003\t                 Validation loss: 1.6511\n",
      "P-value below threshold for  2019-09-08 - 2019-09-22 \tP-Value:  0.0017826468\n",
      "Retrain  lstm  on:  2019-05-11 - 2019-09-08\n",
      "[1/1] Training loss: 1.6927\t                 Validation loss: 1.4249\n"
     ]
    },
    {
     "name": "stderr",
     "output_type": "stream",
     "text": [
      " 66%|██████▌   | 350/534 [06:42<04:38,  1.51s/it]"
     ]
    },
    {
     "name": "stdout",
     "output_type": "stream",
     "text": [
      "P-value below threshold for  2019-09-09 - 2019-09-23 \tP-Value:  0.007182447\n",
      "Retrain  lstm  on:  2019-05-12 - 2019-09-09\n",
      "[1/1] Training loss: 1.7068\t                 Validation loss: 1.4972\n",
      "P-value below threshold for  2019-09-10 - 2019-09-24 \tP-Value:  0.00982023\n",
      "Retrain  lstm  on:  2019-05-13 - 2019-09-10\n",
      "[1/1] Training loss: 1.6003\t                 Validation loss: 1.4874\n"
     ]
    },
    {
     "name": "stderr",
     "output_type": "stream",
     "text": [
      " 75%|███████▍  | 400/534 [08:02<03:26,  1.54s/it]"
     ]
    },
    {
     "name": "stdout",
     "output_type": "stream",
     "text": [
      "P-value below threshold for  2019-10-30 - 2019-11-13 \tP-Value:  0.0030251849\n",
      "Retrain  lstm  on:  2019-07-02 - 2019-10-30\n",
      "[1/1] Training loss: 1.6438\t                 Validation loss: 1.8713\n",
      "P-value below threshold for  2019-10-31 - 2019-11-14 \tP-Value:  0.0008783639\n",
      "Retrain  lstm  on:  2019-07-03 - 2019-10-31\n",
      "[1/1] Training loss: 1.5582\t                 Validation loss: 1.6176\n",
      "P-value below threshold for  2019-11-01 - 2019-11-15 \tP-Value:  0.0011031457\n",
      "Retrain  lstm  on:  2019-07-04 - 2019-11-01\n",
      "[1/1] Training loss: 1.5490\t                 Validation loss: 1.7525\n",
      "P-value below threshold for  2019-11-02 - 2019-11-16 \tP-Value:  0.000108004984\n",
      "Retrain  lstm  on:  2019-07-05 - 2019-11-02\n",
      "[1/1] Training loss: 1.5651\t                 Validation loss: 1.7051\n",
      "P-value below threshold for  2019-11-03 - 2019-11-17 \tP-Value:  0.0002976997\n",
      "Retrain  lstm  on:  2019-07-06 - 2019-11-03\n",
      "[1/1] Training loss: 1.5910\t                 Validation loss: 1.7194\n",
      "P-value below threshold for  2019-11-04 - 2019-11-18 \tP-Value:  0.00012929397\n",
      "Retrain  lstm  on:  2019-07-07 - 2019-11-04\n",
      "[1/1] Training loss: 1.5245\t                 Validation loss: 1.6151\n",
      "P-value below threshold for  2019-11-05 - 2019-11-19 \tP-Value:  1.9468753e-05\n",
      "Retrain  lstm  on:  2019-07-08 - 2019-11-05\n",
      "[1/1] Training loss: 1.5927\t                 Validation loss: 1.4916\n",
      "P-value below threshold for  2019-11-06 - 2019-11-20 \tP-Value:  0.000101842554\n",
      "Retrain  lstm  on:  2019-07-09 - 2019-11-06\n",
      "[1/1] Training loss: 1.5244\t                 Validation loss: 1.6282\n",
      "P-value below threshold for  2019-11-07 - 2019-11-21 \tP-Value:  0.00011820126\n",
      "Retrain  lstm  on:  2019-07-10 - 2019-11-07\n",
      "[1/1] Training loss: 1.5594\t                 Validation loss: 1.5417\n",
      "P-value below threshold for  2019-11-08 - 2019-11-22 \tP-Value:  8.761131e-05\n",
      "Retrain  lstm  on:  2019-07-11 - 2019-11-08\n",
      "[1/1] Training loss: 1.6877\t                 Validation loss: 1.4443\n",
      "P-value below threshold for  2019-11-09 - 2019-11-23 \tP-Value:  0.00016156149\n",
      "Retrain  lstm  on:  2019-07-12 - 2019-11-09\n",
      "[1/1] Training loss: 1.5803\t                 Validation loss: 1.7003\n",
      "P-value below threshold for  2019-11-10 - 2019-11-24 \tP-Value:  0.00018863332\n",
      "Retrain  lstm  on:  2019-07-13 - 2019-11-10\n",
      "[1/1] Training loss: 1.6282\t                 Validation loss: 1.3681\n",
      "P-value below threshold for  2019-11-11 - 2019-11-25 \tP-Value:  0.00018395591\n",
      "Retrain  lstm  on:  2019-07-14 - 2019-11-11\n",
      "[1/1] Training loss: 1.5511\t                 Validation loss: 1.4992\n",
      "P-value below threshold for  2019-11-12 - 2019-11-26 \tP-Value:  0.0020827027\n",
      "Retrain  lstm  on:  2019-07-15 - 2019-11-12\n",
      "[1/1] Training loss: 1.5891\t                 Validation loss: 1.6751\n",
      "P-value below threshold for  2019-11-13 - 2019-11-27 \tP-Value:  0.0073896265\n",
      "Retrain  lstm  on:  2019-07-16 - 2019-11-13\n",
      "[1/1] Training loss: 1.6478\t                 Validation loss: 1.7556\n",
      "P-value below threshold for  2019-11-14 - 2019-11-28 \tP-Value:  0.0064628995\n",
      "Retrain  lstm  on:  2019-07-17 - 2019-11-14\n",
      "[1/1] Training loss: 1.6653\t                 Validation loss: 1.3965\n",
      "P-value below threshold for  2019-11-15 - 2019-11-29 \tP-Value:  0.0018026117\n",
      "Retrain  lstm  on:  2019-07-18 - 2019-11-15\n",
      "[1/1] Training loss: 1.6520\t                 Validation loss: 1.5565\n",
      "P-value below threshold for  2019-11-16 - 2019-11-30 \tP-Value:  0.0013480522\n",
      "Retrain  lstm  on:  2019-07-19 - 2019-11-16\n",
      "[1/1] Training loss: 1.5734\t                 Validation loss: 1.4086\n",
      "P-value below threshold for  2019-11-17 - 2019-12-01 \tP-Value:  0.0067601465\n",
      "Retrain  lstm  on:  2019-07-20 - 2019-11-17\n",
      "[1/1] Training loss: 1.6817\t                 Validation loss: 1.2374\n",
      "P-value below threshold for  2019-12-02 - 2019-12-16 \tP-Value:  0.005995154\n",
      "Retrain  lstm  on:  2019-08-04 - 2019-12-02\n",
      "[1/1] Training loss: 1.5943\t                 Validation loss: 1.4816\n"
     ]
    },
    {
     "name": "stderr",
     "output_type": "stream",
     "text": [
      " 94%|█████████▎| 500/534 [11:27<01:00,  1.79s/it]"
     ]
    },
    {
     "name": "stdout",
     "output_type": "stream",
     "text": [
      "P-value below threshold for  2020-02-11 - 2020-02-25 \tP-Value:  0.008918217\n",
      "Retrain  lstm  on:  2019-10-14 - 2020-02-11\n",
      "[1/1] Training loss: 1.5394\t                 Validation loss: 1.8009\n",
      "P-value below threshold for  2020-02-19 - 2020-03-04 \tP-Value:  0.0070302\n",
      "Retrain  lstm  on:  2019-10-22 - 2020-02-19\n",
      "[1/1] Training loss: 1.5632\t                 Validation loss: 1.6037\n",
      "P-value below threshold for  2020-03-15 - 2020-03-29 \tP-Value:  0.0076458734\n",
      "Retrain  lstm  on:  2019-11-16 - 2020-03-15\n",
      "[1/1] Training loss: 1.5548\t                 Validation loss: 1.5185\n",
      "P-value below threshold for  2020-03-16 - 2020-03-30 \tP-Value:  0.00054967735\n",
      "Retrain  lstm  on:  2019-11-17 - 2020-03-16\n",
      "[1/1] Training loss: 1.5684\t                 Validation loss: 1.3399\n",
      "P-value below threshold for  2020-03-17 - 2020-03-31 \tP-Value:  0.00033333525\n",
      "Retrain  lstm  on:  2019-11-18 - 2020-03-17\n",
      "[1/1] Training loss: 1.5575\t                 Validation loss: 1.5937\n",
      "P-value below threshold for  2020-03-18 - 2020-04-01 \tP-Value:  0.0005570116\n",
      "Retrain  lstm  on:  2019-11-19 - 2020-03-18\n",
      "[1/1] Training loss: 1.5823\t                 Validation loss: 1.3165\n",
      "P-value below threshold for  2020-03-19 - 2020-04-02 \tP-Value:  0.0003919116\n",
      "Retrain  lstm  on:  2019-11-20 - 2020-03-19\n",
      "[1/1] Training loss: 1.5148\t                 Validation loss: 1.6149\n",
      "P-value below threshold for  2020-03-20 - 2020-04-03 \tP-Value:  0.0001466504\n",
      "Retrain  lstm  on:  2019-11-21 - 2020-03-20\n",
      "[1/1] Training loss: 1.5411\t                 Validation loss: 1.4564\n",
      "P-value below threshold for  2020-03-21 - 2020-04-04 \tP-Value:  7.9678095e-05\n",
      "Retrain  lstm  on:  2019-11-22 - 2020-03-21\n",
      "[1/1] Training loss: 1.4579\t                 Validation loss: 1.5924\n",
      "P-value below threshold for  2020-03-22 - 2020-04-05 \tP-Value:  0.00046587328\n",
      "Retrain  lstm  on:  2019-11-23 - 2020-03-22\n",
      "[1/1] Training loss: 1.6019\t                 Validation loss: 1.2882\n",
      "P-value below threshold for  2020-03-23 - 2020-04-06 \tP-Value:  0.00012200572\n",
      "Retrain  lstm  on:  2019-11-24 - 2020-03-23\n",
      "[1/1] Training loss: 1.5070\t                 Validation loss: 1.6567\n",
      "P-value below threshold for  2020-03-24 - 2020-04-07 \tP-Value:  9.2651244e-05\n",
      "Retrain  lstm  on:  2019-11-25 - 2020-03-24\n",
      "[1/1] Training loss: 1.5091\t                 Validation loss: 1.6664\n",
      "P-value below threshold for  2020-03-25 - 2020-04-08 \tP-Value:  9.16404e-05\n",
      "Retrain  lstm  on:  2019-11-26 - 2020-03-25\n",
      "[1/1] Training loss: 1.5474\t                 Validation loss: 1.4449\n",
      "P-value below threshold for  2020-03-26 - 2020-04-09 \tP-Value:  0.0018347371\n",
      "Retrain  lstm  on:  2019-11-27 - 2020-03-26\n",
      "[1/1] Training loss: 1.5108\t                 Validation loss: 1.5555\n"
     ]
    },
    {
     "name": "stderr",
     "output_type": "stream",
     "text": [
      "550it [14:34,  2.38s/it]                         "
     ]
    },
    {
     "name": "stdout",
     "output_type": "stream",
     "text": [
      "P-value below threshold for  2020-05-30 - 2020-06-13 \tP-Value:  0.0080572665\n",
      "Retrain  lstm  on:  2020-01-31 - 2020-05-30\n",
      "[1/1] Training loss: 1.8030\t                 Validation loss: 1.8076\n"
     ]
    },
    {
     "name": "stderr",
     "output_type": "stream",
     "text": [
      "550it [15:31,  1.69s/it]"
     ]
    },
    {
     "name": "stdout",
     "output_type": "stream",
     "text": [
      "113  alarms with avg p-value of  0.0017258936 (0.0012185976902752424, 0.0022331894778848385)\n"
     ]
    },
    {
     "name": "stderr",
     "output_type": "stream",
     "text": [
      "\n"
     ]
    }
   ],
   "source": [
    "SAMPLE = 1000\n",
    "STAT_WINDOW = 14\n",
    "RETRAIN_WINDOW = 120\n",
    "LOOKUP_WINDOW = 0\n",
    "STRIDE = 1\n",
    "THRESHOLD = 0.01\n",
    "UPDATE_REF=25000\n",
    "\n",
    "all_runs = []\n",
    "for i in range(0, 5):\n",
    "    random.seed(i)\n",
    "    np.random.seed(i)\n",
    "    \n",
    "    detector = Detector(\n",
    "        reductor=reductor,\n",
    "        tester=tester\n",
    "    )\n",
    "\n",
    "    detector.fit(\n",
    "        X_val_final,\n",
    "        backend=\"pytorch\",\n",
    "        device = \"cuda\",\n",
    "        model_path = MODEL_PATH,\n",
    "        batch_size=32,\n",
    "        verbose=0,\n",
    "        alternative=\"greater\",\n",
    "        correction=\"bonferroni\",\n",
    "        input_dim=X_tr_final.shape[2],\n",
    "        update_x_ref={'last': UPDATE_REF}\n",
    "    )\n",
    "    \n",
    "    model, opt, _ = load_checkpoint(MODEL_PATH, model)\n",
    "    \n",
    "    retrainer = MostRecentRetrainer(\n",
    "        shift_detector=detector,\n",
    "        optimizer=opt,\n",
    "        model=model,\n",
    "        model_name=model_name,\n",
    "    )\n",
    "\n",
    "    results = retrainer.retrain(\n",
    "        data_streams=data_streams,\n",
    "        sample=SAMPLE,\n",
    "        stat_window=STAT_WINDOW,\n",
    "        lookup_window=LOOKUP_WINDOW,\n",
    "        retrain_window=RETRAIN_WINDOW,\n",
    "        stride=STRIDE,\n",
    "        model_path=MODEL_PATH,\n",
    "        threshold=THRESHOLD,\n",
    "        n_epochs=n_epochs,\n",
    "        correct_only=1,\n",
    "        positive_only=0,\n",
    "        verbose=1,\n",
    "    )\n",
    "    all_runs.append(results)\n",
    "    pvals_test = results[\"p_val\"]\n",
    "\n",
    "    mean = np.mean([i for i in pvals_test if i < THRESHOLD] )\n",
    "    ci = st.t.interval(\n",
    "        0.95,\n",
    "        len([i for i in pvals_test if i < THRESHOLD]) - 1,\n",
    "        loc=np.mean([i for i in pvals_test if i < THRESHOLD]),\n",
    "        scale=st.sem([i for i in pvals_test if i < THRESHOLD]),\n",
    "    )\n",
    "    print(len([i for i in pvals_test if i < THRESHOLD]), \" alarms with avg p-value of \", mean, ci)"
   ]
  },
  {
   "cell_type": "code",
   "execution_count": 21,
   "id": "5ef03b74-fab5-4bb5-aeb2-2ab236522fed",
   "metadata": {},
   "outputs": [
    {
     "name": "stderr",
     "output_type": "stream",
     "text": [
      "2023-01-31 14:45:24,378 \u001b[1;37mINFO\u001b[0m cyclops.utils.file - Pickling data to /mnt/nfs/project/delirium/drift_exp/OCT-18-2022/gemini/mortality/mostrecent_simulated_deployment_retrainwindow120_statwindow14_lookupwindow0_update25000_epoch1_sample1000_threshold0.01_retraining_update_correctonly.pkl\n"
     ]
    },
    {
     "data": {
      "text/plain": [
       "'/mnt/nfs/project/delirium/drift_exp/OCT-18-2022/gemini/mortality/mostrecent_simulated_deployment_retrainwindow120_statwindow14_lookupwindow0_update25000_epoch1_sample1000_threshold0.01_retraining_update_correctonly.pkl'"
      ]
     },
     "execution_count": 21,
     "metadata": {},
     "output_type": "execute_result"
    }
   ],
   "source": [
    "save_pickle(\n",
    "    all_runs, \n",
    "    os.path.join(PATH, DATASET,USE_CASE, \"_\".join([\"mostrecent\",ID, \"retrainwindow\"+str(RETRAIN_WINDOW),\"statwindow\"+str(STAT_WINDOW),\"lookupwindow\"+str(LOOKUP_WINDOW),\"update\"+str(UPDATE_REF),\"epoch\"+str(n_epochs),\"sample\"+str(SAMPLE),\"threshold\"+str(THRESHOLD),\"retraining\",retrain,\"correctonly\"])+\".pkl\"),\n",
    ")"
   ]
  }
 ],
 "metadata": {
  "kernelspec": {
   "display_name": "cyclops-KKtuQLwg-py3.9",
   "language": "python",
   "name": "cyclops-kktuqlwg-py3.9"
  },
  "language_info": {
   "codemirror_mode": {
    "name": "ipython",
    "version": 3
   },
   "file_extension": ".py",
   "mimetype": "text/x-python",
   "name": "python",
   "nbconvert_exporter": "python",
   "pygments_lexer": "ipython3",
   "version": "3.9.7"
  },
  "vscode": {
   "interpreter": {
    "hash": "bd2cd438e1c6ddffa3035fc73b17ac5cc0e0ea8897eb8be17cc645c6abf0c8cc"
   }
  }
 },
 "nbformat": 4,
 "nbformat_minor": 5
}

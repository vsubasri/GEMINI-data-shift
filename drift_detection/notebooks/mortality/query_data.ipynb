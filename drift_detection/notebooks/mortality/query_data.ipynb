{
 "cells": [
  {
   "cell_type": "markdown",
   "id": "480200fd-0a26-4cff-92e7-977bd499eddf",
   "metadata": {},
   "source": [
    "# Imports"
   ]
  },
  {
   "cell_type": "code",
   "execution_count": 3,
   "id": "34d3377b-4db4-48bd-a398-b7dc2a96a53b",
   "metadata": {},
   "outputs": [
    {
     "name": "stderr",
     "output_type": "stream",
     "text": [
      "2023-03-06 18:50:16,396 \u001b[1;37mINFO\u001b[0m cyclops.orm     - Database setup, ready to run queries!\n"
     ]
    }
   ],
   "source": [
    "import time\n",
    "import pandas as pd\n",
    "from cyclops.processors.clean import normalize_names, normalize_values\n",
    "from cyclops.processors.column_names import (\n",
    "    DISCHARGE_TIMESTAMP,\n",
    "    ENCOUNTER_ID,\n",
    "    EVENT_NAME,\n",
    "    EVENT_VALUE,\n",
    ")\n",
    "from cyclops.processors.feature.split import intersect_datasets\n",
    "from cyclops.utils.file import join, save_dataframe\n",
    "from drift_detection.gemini.mortality_allDx.constants import (\n",
    "    CLEANED_DIR,\n",
    "    ENCOUNTERS_FILE,\n",
    "    OUTCOME_DEATH,\n",
    "    QUERIED_DIR,\n",
    "    TARGET_TIMESTAMP,\n",
    ")\n",
    "from drift_detection.gemini.query import main"
   ]
  },
  {
   "cell_type": "markdown",
   "id": "8af9d390-0916-4710-8e0d-6ae4046db6a3",
   "metadata": {},
   "source": [
    "# Query"
   ]
  },
  {
   "cell_type": "code",
   "execution_count": null,
   "id": "2c824cdd-3399-4c49-9c29-666287916c1b",
   "metadata": {},
   "outputs": [
    {
     "name": "stderr",
     "output_type": "stream",
     "text": [
      "2023-03-06 18:50:24,254 \u001b[1;37mINFO\u001b[0m cyclops.orm     - Query returned successfully!\n",
      "2023-03-06 18:50:24,257 \u001b[1;37mINFO\u001b[0m cyclops.utils.profile - Finished executing function run_query in 3.460177 s\n",
      "2023-03-06 18:50:25,557 \u001b[1;37mINFO\u001b[0m cyclops.orm     - Query returned successfully!\n",
      "2023-03-06 18:50:25,560 \u001b[1;37mINFO\u001b[0m cyclops.utils.profile - Finished executing function run_query in 1.301137 s\n",
      "2023-03-06 18:50:32,267 \u001b[1;37mINFO\u001b[0m cyclops.orm     - Query returned successfully!\n",
      "2023-03-06 18:50:32,270 \u001b[1;37mINFO\u001b[0m cyclops.utils.profile - Finished executing function run_query in 6.384751 s\n",
      "2023-03-06 18:50:57,870 \u001b[1;37mINFO\u001b[0m cyclops.orm     - Query returned successfully!\n",
      "2023-03-06 18:50:57,873 \u001b[1;37mINFO\u001b[0m cyclops.utils.profile - Finished executing function run_query in 0.404854 s\n",
      "2023-03-06 18:51:00,779 \u001b[1;37mINFO\u001b[0m cyclops.orm     - Query returned successfully!\n",
      "2023-03-06 18:51:00,782 \u001b[1;37mINFO\u001b[0m cyclops.utils.profile - Finished executing function run_query in 0.869239 s\n"
     ]
    }
   ],
   "source": [
    "t = time.time()\n",
    "cohort, events = main()\n",
    "print(time.time() - t)\n",
    "cohort"
   ]
  },
  {
   "cell_type": "code",
   "execution_count": 1,
   "id": "d97ff77b-2599-4b25-9506-0ce1460f0c0a",
   "metadata": {},
   "outputs": [
    {
     "ename": "NameError",
     "evalue": "name 'cohort' is not defined",
     "output_type": "error",
     "traceback": [
      "\u001b[0;31m---------------------------------------------------------------------------\u001b[0m",
      "\u001b[0;31mNameError\u001b[0m                                 Traceback (most recent call last)",
      "Input \u001b[0;32mIn [1]\u001b[0m, in \u001b[0;36m<cell line: 1>\u001b[0;34m()\u001b[0m\n\u001b[0;32m----> 1\u001b[0m \u001b[43mcohort\u001b[49m[OUTCOME_DEATH]\u001b[38;5;241m.\u001b[39msum() \u001b[38;5;241m/\u001b[39m \u001b[38;5;28mlen\u001b[39m(cohort)\n",
      "\u001b[0;31mNameError\u001b[0m: name 'cohort' is not defined"
     ]
    }
   ],
   "source": [
    "cohort[OUTCOME_DEATH].sum() / len(cohort)"
   ]
  },
  {
   "cell_type": "code",
   "execution_count": null,
   "id": "8034cecf-060c-48d5-8688-15255628fbbc",
   "metadata": {},
   "outputs": [],
   "source": [
    "events"
   ]
  },
  {
   "cell_type": "code",
   "execution_count": null,
   "id": "032186ed-9141-442b-83de-76111c0f25dd",
   "metadata": {},
   "outputs": [],
   "source": [
    "# Intersect over encounter IDs to get only those encounters common to both\n",
    "cohort, events = intersect_datasets([cohort, events], ENCOUNTER_ID)"
   ]
  },
  {
   "cell_type": "code",
   "execution_count": 6,
   "id": "9faedb44-ba80-43b1-838e-a1ce7dab2119",
   "metadata": {},
   "outputs": [
    {
     "name": "stderr",
     "output_type": "stream",
     "text": [
      "2022-11-08 13:16:27,570 \u001b[1;37mINFO\u001b[0m cyclops.utils.file - Saving dataframe to /mnt/nfs/project/delirium/drift_exp/OCT-18-2022/gemini/mortality_decompensation/./data/0-queried/batch_0000.parquet\n"
     ]
    },
    {
     "data": {
      "text/plain": [
       "'/mnt/nfs/project/delirium/drift_exp/OCT-18-2022/gemini/mortality_decompensation/./data/0-queried/batch_0000.parquet'"
      ]
     },
     "execution_count": 6,
     "metadata": {},
     "output_type": "execute_result"
    }
   ],
   "source": [
    "save_dataframe(events, join(QUERIED_DIR, \"batch_0000.parquet\"))"
   ]
  },
  {
   "cell_type": "markdown",
   "id": "26bed3c7-e88e-40a2-815e-a88cfb5856cf",
   "metadata": {},
   "source": [
    "# Clean / Preprocess"
   ]
  },
  {
   "cell_type": "code",
   "execution_count": null,
   "id": "cbba0c6c-4fdf-4563-96a8-4a8c1fa23ece",
   "metadata": {},
   "outputs": [],
   "source": [
    "death_events = cohort[cohort[OUTCOME_DEATH] == True]  # noqa: E712\n",
    "death_events = death_events[[ENCOUNTER_ID, DISCHARGE_TIMESTAMP]]\n",
    "death_events = death_events.rename({DISCHARGE_TIMESTAMP: TARGET_TIMESTAMP}, axis=1)\n",
    "cohort = pd.merge(cohort, death_events, on=ENCOUNTER_ID, how=\"left\")"
   ]
  },
  {
   "cell_type": "code",
   "execution_count": 8,
   "id": "4ec131c4-7828-4a12-bb3b-2caea66ff579",
   "metadata": {},
   "outputs": [
    {
     "name": "stderr",
     "output_type": "stream",
     "text": [
      "2022-11-08 13:21:01,087 \u001b[1;37mINFO\u001b[0m cyclops.utils.file - Saving dataframe to /mnt/nfs/project/delirium/drift_exp/OCT-18-2022/gemini/mortality_decompensation/./data/encounters.parquet\n"
     ]
    },
    {
     "data": {
      "text/plain": [
       "'/mnt/nfs/project/delirium/drift_exp/OCT-18-2022/gemini/mortality_decompensation/./data/encounters.parquet'"
      ]
     },
     "execution_count": 8,
     "metadata": {},
     "output_type": "execute_result"
    }
   ],
   "source": [
    "save_dataframe(cohort, ENCOUNTERS_FILE)"
   ]
  },
  {
   "cell_type": "code",
   "execution_count": 9,
   "id": "29c7fa3b-0964-4e24-a00c-bf0600a2ac28",
   "metadata": {},
   "outputs": [
    {
     "name": "stdout",
     "output_type": "stream",
     "text": [
      "Length before: 17502603\n",
      "Length after: 17029291\n"
     ]
    },
    {
     "data": {
      "text/html": [
       "<div>\n",
       "<style scoped>\n",
       "    .dataframe tbody tr th:only-of-type {\n",
       "        vertical-align: middle;\n",
       "    }\n",
       "\n",
       "    .dataframe tbody tr th {\n",
       "        vertical-align: top;\n",
       "    }\n",
       "\n",
       "    .dataframe thead th {\n",
       "        text-align: right;\n",
       "    }\n",
       "</style>\n",
       "<table border=\"1\" class=\"dataframe\">\n",
       "  <thead>\n",
       "    <tr style=\"text-align: right;\">\n",
       "      <th></th>\n",
       "      <th>encounter_id</th>\n",
       "      <th>event_name</th>\n",
       "      <th>event_value</th>\n",
       "      <th>event_value_unit</th>\n",
       "      <th>event_timestamp</th>\n",
       "      <th>event_category</th>\n",
       "    </tr>\n",
       "  </thead>\n",
       "  <tbody>\n",
       "    <tr>\n",
       "      <th>17371788</th>\n",
       "      <td>11100040</td>\n",
       "      <td>unmapped_intervention</td>\n",
       "      <td>1.0</td>\n",
       "      <td>NaN</td>\n",
       "      <td>2018-07-04 00:00:00</td>\n",
       "      <td>interventions</td>\n",
       "    </tr>\n",
       "    <tr>\n",
       "      <th>15174588</th>\n",
       "      <td>11100040</td>\n",
       "      <td>glucose point of care</td>\n",
       "      <td>10.9</td>\n",
       "      <td>mmol/L</td>\n",
       "      <td>2018-07-11 21:08:00</td>\n",
       "      <td>labs</td>\n",
       "    </tr>\n",
       "    <tr>\n",
       "      <th>15174587</th>\n",
       "      <td>11100040</td>\n",
       "      <td>glucose point of care</td>\n",
       "      <td>10.9</td>\n",
       "      <td>mmol/L</td>\n",
       "      <td>2018-07-04 21:18:00</td>\n",
       "      <td>labs</td>\n",
       "    </tr>\n",
       "    <tr>\n",
       "      <th>15174586</th>\n",
       "      <td>11100040</td>\n",
       "      <td>glucose point of care</td>\n",
       "      <td>10.8</td>\n",
       "      <td>mmol/L</td>\n",
       "      <td>2018-07-06 12:25:00</td>\n",
       "      <td>labs</td>\n",
       "    </tr>\n",
       "    <tr>\n",
       "      <th>15174585</th>\n",
       "      <td>11100040</td>\n",
       "      <td>glucose point of care</td>\n",
       "      <td>10.7</td>\n",
       "      <td>mmol/L</td>\n",
       "      <td>2018-07-18 17:15:00</td>\n",
       "      <td>labs</td>\n",
       "    </tr>\n",
       "    <tr>\n",
       "      <th>...</th>\n",
       "      <td>...</td>\n",
       "      <td>...</td>\n",
       "      <td>...</td>\n",
       "      <td>...</td>\n",
       "      <td>...</td>\n",
       "      <td>...</td>\n",
       "    </tr>\n",
       "    <tr>\n",
       "      <th>66069</th>\n",
       "      <td>15999969</td>\n",
       "      <td>albumin</td>\n",
       "      <td>28.0</td>\n",
       "      <td>g/L</td>\n",
       "      <td>2015-02-20 03:50:00</td>\n",
       "      <td>labs</td>\n",
       "    </tr>\n",
       "    <tr>\n",
       "      <th>66068</th>\n",
       "      <td>15999969</td>\n",
       "      <td>aptt</td>\n",
       "      <td>26.5</td>\n",
       "      <td>SEC</td>\n",
       "      <td>2015-02-17 22:00:00</td>\n",
       "      <td>labs</td>\n",
       "    </tr>\n",
       "    <tr>\n",
       "      <th>66067</th>\n",
       "      <td>15999969</td>\n",
       "      <td>aptt</td>\n",
       "      <td>24.8</td>\n",
       "      <td>SEC</td>\n",
       "      <td>2015-02-19 05:50:00</td>\n",
       "      <td>labs</td>\n",
       "    </tr>\n",
       "    <tr>\n",
       "      <th>66076</th>\n",
       "      <td>15999969</td>\n",
       "      <td>arterial paco2</td>\n",
       "      <td>31.0</td>\n",
       "      <td>MMHG</td>\n",
       "      <td>2015-02-19 05:50:00</td>\n",
       "      <td>labs</td>\n",
       "    </tr>\n",
       "    <tr>\n",
       "      <th>65953</th>\n",
       "      <td>15999969</td>\n",
       "      <td>mean cell volume</td>\n",
       "      <td>94.5</td>\n",
       "      <td>fL</td>\n",
       "      <td>2015-02-19 05:50:00</td>\n",
       "      <td>labs</td>\n",
       "    </tr>\n",
       "  </tbody>\n",
       "</table>\n",
       "<p>17029291 rows × 6 columns</p>\n",
       "</div>"
      ],
      "text/plain": [
       "          encounter_id             event_name  event_value event_value_unit  \\\n",
       "17371788      11100040  unmapped_intervention          1.0              NaN   \n",
       "15174588      11100040  glucose point of care         10.9           mmol/L   \n",
       "15174587      11100040  glucose point of care         10.9           mmol/L   \n",
       "15174586      11100040  glucose point of care         10.8           mmol/L   \n",
       "15174585      11100040  glucose point of care         10.7           mmol/L   \n",
       "...                ...                    ...          ...              ...   \n",
       "66069         15999969                albumin         28.0              g/L   \n",
       "66068         15999969                   aptt         26.5              SEC   \n",
       "66067         15999969                   aptt         24.8              SEC   \n",
       "66076         15999969         arterial paco2         31.0             MMHG   \n",
       "65953         15999969       mean cell volume         94.5               fL   \n",
       "\n",
       "             event_timestamp event_category  \n",
       "17371788 2018-07-04 00:00:00  interventions  \n",
       "15174588 2018-07-11 21:08:00           labs  \n",
       "15174587 2018-07-04 21:18:00           labs  \n",
       "15174586 2018-07-06 12:25:00           labs  \n",
       "15174585 2018-07-18 17:15:00           labs  \n",
       "...                      ...            ...  \n",
       "66069    2015-02-20 03:50:00           labs  \n",
       "66068    2015-02-17 22:00:00           labs  \n",
       "66067    2015-02-19 05:50:00           labs  \n",
       "66076    2015-02-19 05:50:00           labs  \n",
       "65953    2015-02-19 05:50:00           labs  \n",
       "\n",
       "[17029291 rows x 6 columns]"
      ]
     },
     "execution_count": 9,
     "metadata": {},
     "output_type": "execute_result"
    }
   ],
   "source": [
    "# Normalize names and string values\n",
    "events[EVENT_NAME] = normalize_names(events[EVENT_NAME])\n",
    "events[EVENT_VALUE] = normalize_values(events[EVENT_VALUE])\n",
    "\n",
    "# Convert values to numeric, dropping those which can't be converted\n",
    "events[EVENT_VALUE] = pd.to_numeric(events[EVENT_VALUE], errors=\"coerce\")\n",
    "print(\"Length before:\", len(events))\n",
    "events = events[~events[EVENT_VALUE].isna()]\n",
    "print(\"Length after:\", len(events))\n",
    "events"
   ]
  },
  {
   "cell_type": "code",
   "execution_count": 10,
   "id": "da6ec8be-8583-43c0-987e-5b8bf01e5275",
   "metadata": {},
   "outputs": [
    {
     "name": "stderr",
     "output_type": "stream",
     "text": [
      "2022-11-08 13:26:45,574 \u001b[1;37mINFO\u001b[0m cyclops.utils.file - Saving dataframe to /mnt/nfs/project/delirium/drift_exp/OCT-18-2022/gemini/mortality_decompensation/./data/1-cleaned/batch_0000.parquet\n"
     ]
    },
    {
     "data": {
      "text/plain": [
       "'/mnt/nfs/project/delirium/drift_exp/OCT-18-2022/gemini/mortality_decompensation/./data/1-cleaned/batch_0000.parquet'"
      ]
     },
     "execution_count": 10,
     "metadata": {},
     "output_type": "execute_result"
    }
   ],
   "source": [
    "save_dataframe(events, join(CLEANED_DIR, \"batch_0000.parquet\"))"
   ]
  }
 ],
 "metadata": {
  "kernelspec": {
   "display_name": "cyclops-KKtuQLwg-py3.9",
   "language": "python",
   "name": "cyclops-kktuqlwg-py3.9"
  },
  "language_info": {
   "codemirror_mode": {
    "name": "ipython",
    "version": 3
   },
   "file_extension": ".py",
   "mimetype": "text/x-python",
   "name": "python",
   "nbconvert_exporter": "python",
   "pygments_lexer": "ipython3",
   "version": "3.9.7"
  }
 },
 "nbformat": 4,
 "nbformat_minor": 5
}

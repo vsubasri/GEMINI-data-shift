{
 "cells": [
  {
   "cell_type": "markdown",
   "id": "81fcf7c0-0487-489c-ad70-83e9fdce2511",
   "metadata": {},
   "source": [
    "### Create dataset"
   ]
  },
  {
   "cell_type": "code",
   "execution_count": 1,
   "id": "57ca5ed0-f0fe-49aa-8f3e-a76f349c9835",
   "metadata": {},
   "outputs": [],
   "source": [
    "from functools import reduce\n",
    "import numpy as np\n",
    "import pandas as pd\n",
    "import datetime as dt\n",
    "from cyclops.processors.impute import np_ffill_bfill, np_fill_null_num\n",
    "\n",
    "from cyclops.processors.aggregate import (\n",
    "    Aggregator,\n",
    "    tabular_as_aggregated,\n",
    "    timestamp_ffill_agg,\n",
    ")\n",
    "from cyclops.processors.column_names import (\n",
    "    ADMIT_TIMESTAMP,\n",
    "    DISCHARGE_TIMESTAMP,\n",
    "    ENCOUNTER_ID,\n",
    "    EVENT_NAME,\n",
    "    EVENT_TIMESTAMP,\n",
    "    EVENT_VALUE,\n",
    "    RESTRICT_TIMESTAMP,\n",
    "    TIMESTEP,\n",
    ")\n",
    "from cyclops.processors.column_names import ENCOUNTER_ID\n",
    "from cyclops.processors.constants import FEATURES, NUMERIC, ORDINAL, STANDARD\n",
    "from cyclops.processors.feature.feature import TabularFeatures\n",
    "from cyclops.processors.constants import ALL, FEATURES, MEAN, NUMERIC, ORDINAL, STANDARD\n",
    "from cyclops.processors.feature.feature import TemporalFeatures\n",
    "from cyclops.processors.feature.vectorize import (\n",
    "    Vectorized,\n",
    "    intersect_vectorized,\n",
    "    split_vectorized,\n",
    "    vec_index_exp,\n",
    ")\n",
    "from cyclops.utils.file import (\n",
    "    join,\n",
    "    load_dataframe,\n",
    "    load_pickle,\n",
    "    save_dataframe,\n",
    "    save_pickle,\n",
    "    yield_dataframes,\n",
    "    yield_pickled_files,\n",
    ")\n",
    "from drift_detection.gemini.utils import get_use_case_params, impute, get_source_target\n",
    "from drift_detection.gemini.constants import DIAGNOSIS_DICT, HOSPITALS, COMORBIDITIES"
   ]
  },
  {
   "cell_type": "code",
   "execution_count": 2,
   "id": "b54f7a09-003d-4ce8-ba5e-def4f94a2f8b",
   "metadata": {},
   "outputs": [
    {
     "data": {
      "text/plain": [
       "{'Certain infectious and parasitic diseases': ('A00', 'B99'),\n",
       " 'Neoplasms': ('C00', 'D49'),\n",
       " 'Diseases of the blood and blood-forming organs and certain disorders involving the immune mechanism': ('D50',\n",
       "  'D89'),\n",
       " 'Endocrine, nutritional and metabolic diseases': ('E00', 'E89'),\n",
       " 'Mental, Behavioral and Neurodevelopmental disorders': ('F01', 'F99'),\n",
       " 'Diseases of the nervous system': ('G00', 'G99'),\n",
       " 'Diseases of the eye and adnexa': ('H00', 'H59'),\n",
       " 'Diseases of the ear and mastoid process': ('H60', 'H95'),\n",
       " 'Diseases of the circulatory system': ('I00', 'I99'),\n",
       " 'Diseases of the respiratory system': ('J00', 'J99'),\n",
       " 'Diseases of the digestive system': ('K00', 'K95'),\n",
       " 'Diseases of the skin and subcutaneous tissue': ('L00', 'L99'),\n",
       " 'Diseases of the musculoskeletal system and connective tissue': ('M00',\n",
       "  'M99'),\n",
       " 'Diseases of the genitourinary system': ('N00', 'N99'),\n",
       " 'Pregnancy, childbirth and the puerperium': ('O00', 'O99'),\n",
       " 'Certain conditions originating in the perinatal period': ('P00', 'P96'),\n",
       " 'Congenital malformations, deformations and chromosomal abnormalities': ('Q00',\n",
       "  'Q99'),\n",
       " 'Symptoms, signs and abnormal clinical and laboratory findings, not elsewhere classified': ('R00',\n",
       "  'R99'),\n",
       " 'Injury, poisoning and certain other consequences of external causes': ('S00',\n",
       "  'T88'),\n",
       " 'External causes of morbidity': ('V00', 'Y99'),\n",
       " 'COVID19': ('U07', 'U08'),\n",
       " 'Factors influencing health status and contact with health services': ('Z00',\n",
       "  'Z99')}"
      ]
     },
     "execution_count": 2,
     "metadata": {},
     "output_type": "execute_result"
    }
   ],
   "source": [
    "DIAGNOSIS_DICT"
   ]
  },
  {
   "cell_type": "markdown",
   "id": "56af3be4-8263-4c13-a1cd-3d43106358a3",
   "metadata": {},
   "source": [
    "## Load cohort data"
   ]
  },
  {
   "cell_type": "code",
   "execution_count": 3,
   "id": "b4a37f37-5241-469b-8566-d2dfa9cb7b1b",
   "metadata": {},
   "outputs": [
    {
     "name": "stdin",
     "output_type": "stream",
     "text": [
      "Select data split:  weekend\n",
      "Select diagnosis trajectory to filter on:  all\n",
      "Select hospital to filter on:  all\n"
     ]
    }
   ],
   "source": [
    "DATASET = \"gemini\"\n",
    "USE_CASE = \"mortality\"\n",
    "ID = SPLIT = input(\"Select data split: \")\n",
    "DIAGNOSIS_TRAJECTORY = input(\"Select diagnosis trajectory to filter on: \") \n",
    "HOSPITAL = input(\"Select hospital to filter on: \") \n",
    "\n",
    "splice_map = {\n",
    "    \"hospital_id\": HOSPITALS\n",
    "}\n",
    "\n",
    "if DIAGNOSIS_TRAJECTORY != \"all\":\n",
    "    diagnosis_trajectory = '_'.join(DIAGNOSIS_DICT[DIAGNOSIS_TRAJECTORY])\n",
    "    ID = ID +\"_\"+ diagnosis_trajectory\n",
    "    splice_map[\"diagnosis_trajectory\"] = [diagnosis_trajectory]\n",
    "    \n",
    "if HOSPITAL != \"all\":\n",
    "    ID = HOSPITAL + \"_\" + ID \n",
    "    splice_map[\"hospital_id\"] = [HOSPITAL]\n",
    "    \n",
    "use_case_params = get_use_case_params(DATASET, USE_CASE)"
   ]
  },
  {
   "cell_type": "code",
   "execution_count": null,
   "id": "69e9dd8a-f254-4b14-b1ff-f9579d7a07be",
   "metadata": {},
   "outputs": [],
   "source": [
    "# Read in total data\n",
    "tab_vectorized = load_pickle(use_case_params.TAB_VECTORIZED_FILE)\n",
    "temp_vectorized = load_pickle(use_case_params.TEMP_VECTORIZED_FILE)\n",
    "comb_vectorized = load_pickle(use_case_params.COMB_VECTORIZED_FILE)\n",
    "\n",
    "# Read in tabular features\n",
    "tab_features = load_pickle(use_case_params.TAB_FEATURES_FILE)\n",
    "tab_features.data"
   ]
  },
  {
   "cell_type": "code",
   "execution_count": 5,
   "id": "7b62b7cd-f37d-4cbc-96c9-44cf96db6715",
   "metadata": {},
   "outputs": [],
   "source": [
    "# Normalize only numeric features (e.g., not binary indicators)\n",
    "# Note: Normalization is not occuring here, we are only doing the setup\n",
    "numeric_features = tab_features.features_by_type(NUMERIC)\n",
    "normalizer_map = {feat: STANDARD for feat in numeric_features}\n",
    "\n",
    "tab_vectorized.add_normalizer(\n",
    "    FEATURES,\n",
    "    normalizer_map=normalizer_map,\n",
    ")\n",
    "temp_vectorized.add_normalizer(\n",
    "    EVENT_NAME,\n",
    "    normalization_method=STANDARD,\n",
    ")\n",
    "\n",
    "comb_vectorized.add_normalizer(\n",
    "    EVENT_NAME,\n",
    "    normalization_method=STANDARD,\n",
    ")"
   ]
  },
  {
   "cell_type": "markdown",
   "id": "68dd2018-8155-484f-8329-dd62b167a662",
   "metadata": {},
   "source": [
    "## Add custom variables"
   ]
  },
  {
   "cell_type": "code",
   "execution_count": 6,
   "id": "bac8e9bf-ea65-464d-bd5a-60438dfedb85",
   "metadata": {},
   "outputs": [],
   "source": [
    "#create admit month/day column\n",
    "tab_features.data['admit_month'] = tab_features.data['admit_timestamp'].dt.month\n",
    "tab_features.data['admit_day'] = tab_features.data['admit_timestamp'].dt.weekday\n",
    "#create night shift indicator column\n",
    "tab_features.data['night_shift'] = np.where(((tab_features.data['admit_timestamp'].dt.hour > 19.5) | (tab_features.data['admit_timestamp'].dt.hour < 7.5)),1,0)\n",
    "tab_features.data['from_nursing_home_mapped'] = tab_features.data['from_nursing_home_mapped'].astype(int)\n",
    "tab_features.data['from_acute_care_institution_mapped'] = tab_features.data['from_acute_care_institution_mapped'].astype(int)"
   ]
  },
  {
   "cell_type": "markdown",
   "id": "99a0ee3d-de48-4828-966d-75d96ded6d2d",
   "metadata": {},
   "source": [
    "## Split data into source and target"
   ]
  },
  {
   "cell_type": "code",
   "execution_count": 7,
   "id": "293e6385-4bd4-4d28-8196-3c4f94e30f6c",
   "metadata": {},
   "outputs": [],
   "source": [
    "# get source and target\n",
    "tab_x_source, tab_x_target = get_source_target(tab_features, tab_vectorized, SPLIT, splice_map, train_frac=0.8, axis=\"encounter_id\")"
   ]
  },
  {
   "cell_type": "markdown",
   "id": "3dcfda6c-0493-4cc9-9b17-395c2a8d1095",
   "metadata": {},
   "source": [
    "## Get balanced source and target split"
   ]
  },
  {
   "cell_type": "code",
   "execution_count": 11,
   "id": "33218818-4a27-4465-915a-a2669b54cefe",
   "metadata": {},
   "outputs": [
    {
     "data": {
      "text/plain": [
       "<cyclops.processors.feature.feature.TabularFeatures at 0x7fe2ad230910>"
      ]
     },
     "execution_count": 11,
     "metadata": {},
     "output_type": "execute_result"
    }
   ],
   "source": [
    "#g = tab_features.groupby('class')\n",
    "#g.apply(lambda x: x.sample(g.size().min()).reset_index(drop=True))"
   ]
  },
  {
   "cell_type": "markdown",
   "id": "a3514d3f-e4da-44f7-a065-f09b53423808",
   "metadata": {},
   "source": [
    "## Split data source into train and val"
   ]
  },
  {
   "cell_type": "code",
   "execution_count": 8,
   "id": "f0135bc4-3687-4a49-ac53-c211788f732e",
   "metadata": {},
   "outputs": [],
   "source": [
    "# intersect tabular and temporal vectors of source data\n",
    "tab_x_source, temp_x_source, comb_x_source = intersect_vectorized(\n",
    "    [tab_x_source, temp_vectorized, comb_vectorized], axes=ENCOUNTER_ID\n",
    ")"
   ]
  },
  {
   "cell_type": "code",
   "execution_count": null,
   "id": "c07b9f20-9e19-4d92-b17a-fcd865a368b9",
   "metadata": {},
   "outputs": [],
   "source": [
    "# split source data into training and validation \n",
    "tab_x_source_splits, temp_x_source_splits, comb_x_source_splits = split_vectorized(\n",
    "    [tab_x_source, temp_x_source, comb_x_source],\n",
    "    [0.8, 0.2],\n",
    "    axes=ENCOUNTER_ID,\n",
    ")"
   ]
  },
  {
   "cell_type": "code",
   "execution_count": null,
   "id": "f9d17a30-4208-47ba-9c67-574e8164b4be",
   "metadata": {},
   "outputs": [],
   "source": [
    "# intersect tabular and temporal vectors of target data\n",
    "tab_test, temp_test, comb_test = intersect_vectorized(\n",
    "    [tab_x_target, temp_vectorized, comb_vectorized], axes=ENCOUNTER_ID\n",
    ")\n",
    "tab_test.shape, temp_test.shape, comb_test.shape"
   ]
  },
  {
   "cell_type": "markdown",
   "id": "08140be9-dd61-4920-844a-847dcf9b6f70",
   "metadata": {},
   "source": [
    "##  Dataset splits"
   ]
  },
  {
   "cell_type": "code",
   "execution_count": 12,
   "id": "7131076b-dc55-49a0-86d8-b91161607cea",
   "metadata": {},
   "outputs": [],
   "source": [
    "tab_train_val_splits, temp_train_val_splits, comb_train_val_splits = split_vectorized(\n",
    "    [tab_x_source, temp_x_source, comb_x_source],\n",
    "    [0.8, 0.2],\n",
    "    axes=ENCOUNTER_ID,\n",
    ")\n",
    "tab_train, tab_val = tab_train_val_splits\n",
    "temp_train, temp_val = temp_train_val_splits\n",
    "comb_train, comb_val = comb_train_val_splits"
   ]
  },
  {
   "cell_type": "code",
   "execution_count": 13,
   "id": "3f3c6c8c-4004-4505-b24c-95a5f5053578",
   "metadata": {},
   "outputs": [
    {
     "data": {
      "text/plain": [
       "((42279, 52), (10570, 52), (85338, 52))"
      ]
     },
     "execution_count": 13,
     "metadata": {},
     "output_type": "execute_result"
    }
   ],
   "source": [
    "tab_train.shape, tab_val.shape, tab_test.shape"
   ]
  },
  {
   "cell_type": "code",
   "execution_count": 14,
   "id": "9061f8f9-39ab-41ad-90b2-316b135cd77a",
   "metadata": {},
   "outputs": [
    {
     "data": {
      "text/plain": [
       "((1, 42279, 68, 6), (1, 10570, 68, 6), (1, 85338, 68, 6))"
      ]
     },
     "execution_count": 14,
     "metadata": {},
     "output_type": "execute_result"
    }
   ],
   "source": [
    "temp_train.shape, temp_val.shape, temp_test.shape"
   ]
  },
  {
   "cell_type": "code",
   "execution_count": 15,
   "id": "22e657a9-ea89-4bbd-87df-396d84b5d3e7",
   "metadata": {},
   "outputs": [
    {
     "data": {
      "text/plain": [
       "((1, 42279, 92, 6), (1, 10570, 92, 6), (1, 85338, 92, 6))"
      ]
     },
     "execution_count": 15,
     "metadata": {},
     "output_type": "execute_result"
    }
   ],
   "source": [
    "comb_train.shape, comb_val.shape, comb_test.shape"
   ]
  },
  {
   "cell_type": "markdown",
   "id": "e1c325ca-72ee-40a4-8a6e-b5df04da02cb",
   "metadata": {},
   "source": [
    "## Split features/targets"
   ]
  },
  {
   "cell_type": "code",
   "execution_count": 16,
   "id": "d08a17bd-0dbf-4c65-b32f-d1ba0f18763f",
   "metadata": {},
   "outputs": [
    {
     "data": {
      "text/plain": [
       "((42279, 51), (42279, 1))"
      ]
     },
     "execution_count": 16,
     "metadata": {},
     "output_type": "execute_result"
    }
   ],
   "source": [
    "tab_train_X, tab_train_y = tab_train.split_out(FEATURES, use_case_params.TAB_TARGETS)\n",
    "tab_train_X.shape, tab_train_y.shape"
   ]
  },
  {
   "cell_type": "code",
   "execution_count": 17,
   "id": "f50d2aee-bf12-40a7-8e29-0aef2214d8bc",
   "metadata": {},
   "outputs": [
    {
     "data": {
      "text/plain": [
       "((10570, 51), (10570, 1))"
      ]
     },
     "execution_count": 17,
     "metadata": {},
     "output_type": "execute_result"
    }
   ],
   "source": [
    "tab_val_X, tab_val_y = tab_val.split_out(FEATURES, use_case_params.TAB_TARGETS)\n",
    "tab_val_X.shape, tab_val_y.shape"
   ]
  },
  {
   "cell_type": "code",
   "execution_count": 18,
   "id": "13c2e0f0-863d-40cc-ab6c-69135cc922dd",
   "metadata": {},
   "outputs": [
    {
     "data": {
      "text/plain": [
       "((85338, 51), (85338, 1))"
      ]
     },
     "execution_count": 18,
     "metadata": {},
     "output_type": "execute_result"
    }
   ],
   "source": [
    "tab_test_X, tab_test_y = tab_test.split_out(FEATURES, use_case_params.TAB_TARGETS)\n",
    "tab_test_X.shape, tab_test_y.shape"
   ]
  },
  {
   "cell_type": "code",
   "execution_count": 19,
   "id": "778b248c-256d-4e27-a3f7-e79384adc24d",
   "metadata": {},
   "outputs": [
    {
     "data": {
      "text/plain": [
       "((1, 42279, 67, 6), (1, 42279, 1, 6))"
      ]
     },
     "execution_count": 19,
     "metadata": {},
     "output_type": "execute_result"
    }
   ],
   "source": [
    "temp_train_X, temp_train_y = temp_train.split_out(\n",
    "    EVENT_NAME, use_case_params.TEMP_TARGETS\n",
    ")\n",
    "temp_train_X.shape, temp_train_y.shape"
   ]
  },
  {
   "cell_type": "code",
   "execution_count": 20,
   "id": "e5561abe-f0eb-4969-855e-bc2088475ca1",
   "metadata": {},
   "outputs": [
    {
     "data": {
      "text/plain": [
       "((1, 10570, 67, 6), (1, 10570, 1, 6))"
      ]
     },
     "execution_count": 20,
     "metadata": {},
     "output_type": "execute_result"
    }
   ],
   "source": [
    "temp_val_X, temp_val_y = temp_val.split_out(EVENT_NAME, use_case_params.TEMP_TARGETS)\n",
    "temp_val_X.shape, temp_val_y.shape"
   ]
  },
  {
   "cell_type": "code",
   "execution_count": 21,
   "id": "d46f5a01-4ee3-4aea-89f5-e4121ed3b0f0",
   "metadata": {},
   "outputs": [
    {
     "data": {
      "text/plain": [
       "((1, 85338, 67, 6), (1, 85338, 1, 6))"
      ]
     },
     "execution_count": 21,
     "metadata": {},
     "output_type": "execute_result"
    }
   ],
   "source": [
    "temp_test_X, temp_test_y = temp_test.split_out(EVENT_NAME, use_case_params.TEMP_TARGETS)\n",
    "temp_test_X.shape, temp_test_y.shape"
   ]
  },
  {
   "cell_type": "code",
   "execution_count": 22,
   "id": "3e446ba2-6533-4683-ab4f-2184476c0edb",
   "metadata": {},
   "outputs": [
    {
     "data": {
      "text/plain": [
       "((1, 42279, 91, 6), (1, 42279, 1, 6))"
      ]
     },
     "execution_count": 22,
     "metadata": {},
     "output_type": "execute_result"
    }
   ],
   "source": [
    "comb_train_X, comb_train_y = comb_train.split_out(\n",
    "    EVENT_NAME, use_case_params.TEMP_TARGETS\n",
    ")\n",
    "comb_train_X.shape, comb_train_y.shape"
   ]
  },
  {
   "cell_type": "code",
   "execution_count": 23,
   "id": "7e2b4ab3-837a-46bf-98a4-ac13d85b3565",
   "metadata": {},
   "outputs": [
    {
     "data": {
      "text/plain": [
       "((1, 10570, 91, 6), (1, 10570, 1, 6))"
      ]
     },
     "execution_count": 23,
     "metadata": {},
     "output_type": "execute_result"
    }
   ],
   "source": [
    "comb_val_X, comb_val_y = comb_val.split_out(EVENT_NAME, use_case_params.TEMP_TARGETS)\n",
    "comb_val_X.shape, comb_val_y.shape"
   ]
  },
  {
   "cell_type": "code",
   "execution_count": 24,
   "id": "390a9681-0637-41c6-b5c8-413b1c19c040",
   "metadata": {},
   "outputs": [
    {
     "data": {
      "text/plain": [
       "((1, 85338, 91, 6), (1, 85338, 1, 6))"
      ]
     },
     "execution_count": 24,
     "metadata": {},
     "output_type": "execute_result"
    }
   ],
   "source": [
    "comb_test_X, comb_test_y = comb_test.split_out(EVENT_NAME, use_case_params.TEMP_TARGETS)\n",
    "comb_test_X.shape, comb_test_y.shape"
   ]
  },
  {
   "cell_type": "code",
   "execution_count": 25,
   "id": "a72bff7e-4adc-4170-a172-2b5aa35e141f",
   "metadata": {},
   "outputs": [
    {
     "name": "stderr",
     "output_type": "stream",
     "text": [
      "/mnt/nfs/home/subasriv/cyclops/drift_detection/gemini/utils.py:198: RuntimeWarning: Mean of empty slice\n",
      "  mean = np.nanmean(data_slice)\n"
     ]
    }
   ],
   "source": [
    "temp_train_X = impute(temp_train_X)\n",
    "temp_val_X = impute(temp_val_X)\n",
    "temp_test_X = impute(temp_test_X)\n",
    "\n",
    "comb_train_X = impute(comb_train_X)\n",
    "comb_val_X = impute(comb_val_X)\n",
    "comb_test_X = impute(comb_test_X)"
   ]
  },
  {
   "cell_type": "code",
   "execution_count": 26,
   "id": "77760599-c839-4adb-a0a7-96022ee19199",
   "metadata": {},
   "outputs": [
    {
     "name": "stderr",
     "output_type": "stream",
     "text": [
      "2023-01-23 15:38:36,552 \u001b[1;37mINFO\u001b[0m cyclops.utils.file - Pickling data to /mnt/nfs/project/delirium/drift_exp/OCT-18-2022/gemini/mortality/./data/4-final/aligned_tab_train_X_day_not_normalized.pkl\n",
      "2023-01-23 15:38:37,350 \u001b[1;37mINFO\u001b[0m cyclops.utils.file - Pickling data to /mnt/nfs/project/delirium/drift_exp/OCT-18-2022/gemini/mortality/./data/4-final/aligned_tab_train_y_day_not_normalized.pkl\n",
      "2023-01-23 15:38:37,607 \u001b[1;37mINFO\u001b[0m cyclops.utils.file - Pickling data to /mnt/nfs/project/delirium/drift_exp/OCT-18-2022/gemini/mortality/./data/4-final/aligned_tab_val_X_day_not_normalized.pkl\n",
      "2023-01-23 15:38:37,921 \u001b[1;37mINFO\u001b[0m cyclops.utils.file - Pickling data to /mnt/nfs/project/delirium/drift_exp/OCT-18-2022/gemini/mortality/./data/4-final/aligned_tab_val_y_day_not_normalized.pkl\n",
      "2023-01-23 15:38:37,957 \u001b[1;37mINFO\u001b[0m cyclops.utils.file - Pickling data to /mnt/nfs/project/delirium/drift_exp/OCT-18-2022/gemini/mortality/./data/4-final/aligned_tab_test_X_day_not_normalized.pkl\n",
      "2023-01-23 15:38:39,018 \u001b[1;37mINFO\u001b[0m cyclops.utils.file - Pickling data to /mnt/nfs/project/delirium/drift_exp/OCT-18-2022/gemini/mortality/./data/4-final/aligned_tab_test_y_day_not_normalized.pkl\n",
      "2023-01-23 15:38:39,683 \u001b[1;37mINFO\u001b[0m cyclops.utils.file - Pickling data to /mnt/nfs/project/delirium/drift_exp/OCT-18-2022/gemini/mortality/./data/4-final/aligned_temp_train_X_day_not_normalized.pkl\n",
      "2023-01-23 15:38:43,865 \u001b[1;37mINFO\u001b[0m cyclops.utils.file - Pickling data to /mnt/nfs/project/delirium/drift_exp/OCT-18-2022/gemini/mortality/./data/4-final/aligned_temp_train_y_day_not_normalized.pkl\n",
      "2023-01-23 15:38:44,250 \u001b[1;37mINFO\u001b[0m cyclops.utils.file - Pickling data to /mnt/nfs/project/delirium/drift_exp/OCT-18-2022/gemini/mortality/./data/4-final/aligned_temp_val_X_day_not_normalized.pkl\n",
      "2023-01-23 15:38:44,692 \u001b[1;37mINFO\u001b[0m cyclops.utils.file - Pickling data to /mnt/nfs/project/delirium/drift_exp/OCT-18-2022/gemini/mortality/./data/4-final/aligned_temp_val_y_day_not_normalized.pkl\n",
      "2023-01-23 15:38:44,860 \u001b[1;37mINFO\u001b[0m cyclops.utils.file - Pickling data to /mnt/nfs/project/delirium/drift_exp/OCT-18-2022/gemini/mortality/./data/4-final/aligned_temp_test_X_day_not_normalized.pkl\n",
      "2023-01-23 15:38:49,928 \u001b[1;37mINFO\u001b[0m cyclops.utils.file - Pickling data to /mnt/nfs/project/delirium/drift_exp/OCT-18-2022/gemini/mortality/./data/4-final/aligned_temp_test_y_day_not_normalized.pkl\n",
      "2023-01-23 15:38:50,613 \u001b[1;37mINFO\u001b[0m cyclops.utils.file - Pickling data to /mnt/nfs/project/delirium/drift_exp/OCT-18-2022/gemini/mortality/./data/4-final/aligned_comb_train_X_day_not_normalized.pkl\n",
      "2023-01-23 15:38:58,454 \u001b[1;37mINFO\u001b[0m cyclops.utils.file - Pickling data to /mnt/nfs/project/delirium/drift_exp/OCT-18-2022/gemini/mortality/./data/4-final/aligned_comb_train_y_day_not_normalized.pkl\n",
      "2023-01-23 15:38:58,911 \u001b[1;37mINFO\u001b[0m cyclops.utils.file - Pickling data to /mnt/nfs/project/delirium/drift_exp/OCT-18-2022/gemini/mortality/./data/4-final/aligned_comb_val_X_day_not_normalized.pkl\n",
      "2023-01-23 15:38:59,321 \u001b[1;37mINFO\u001b[0m cyclops.utils.file - Pickling data to /mnt/nfs/project/delirium/drift_exp/OCT-18-2022/gemini/mortality/./data/4-final/aligned_comb_val_y_day_not_normalized.pkl\n",
      "2023-01-23 15:38:59,388 \u001b[1;37mINFO\u001b[0m cyclops.utils.file - Pickling data to /mnt/nfs/project/delirium/drift_exp/OCT-18-2022/gemini/mortality/./data/4-final/aligned_comb_test_X_day_not_normalized.pkl\n",
      "2023-01-23 15:39:13,134 \u001b[1;37mINFO\u001b[0m cyclops.utils.file - Pickling data to /mnt/nfs/project/delirium/drift_exp/OCT-18-2022/gemini/mortality/./data/4-final/aligned_comb_test_y_day_not_normalized.pkl\n"
     ]
    }
   ],
   "source": [
    "# Store data (serialize)\n",
    "vectorized = [\n",
    "    (tab_train_X, \"tab_train_X_\"+ID),\n",
    "    (tab_train_y, \"tab_train_y_\"+ID),\n",
    "    (tab_val_X, \"tab_val_X_\"+ID),\n",
    "    (tab_val_y, \"tab_val_y_\"+ID),\n",
    "    (tab_test_X, \"tab_test_X_\"+ID),\n",
    "    (tab_test_y, \"tab_test_y_\"+ID),\n",
    "    (temp_train_X, \"temp_train_X_\"+ID),\n",
    "    (temp_train_y, \"temp_train_y_\"+ID),\n",
    "    (temp_val_X, \"temp_val_X_\"+ID),\n",
    "    (temp_val_y, \"temp_val_y_\"+ID),\n",
    "    (temp_test_X, \"temp_test_X_\"+ID),\n",
    "    (temp_test_y, \"temp_test_y_\"+ID),\n",
    "    (comb_train_X, \"comb_train_X_\"+ID),\n",
    "    (comb_train_y, \"comb_train_y_\"+ID),\n",
    "    (comb_val_X, \"comb_val_X_\"+ID),\n",
    "    (comb_val_y, \"comb_val_y_\"+ID),\n",
    "    (comb_test_X, \"comb_test_X_\"+ID),\n",
    "    (comb_test_y, \"comb_test_y_\"+ID),\n",
    "]\n",
    "for vec, name in vectorized:\n",
    "    save_pickle(vec, use_case_params.TAB_VEC_COMB + name + \"_not_normalized.pkl\")"
   ]
  },
  {
   "cell_type": "markdown",
   "id": "7f99295a-df79-4f23-ab0c-1cc71ccc0915",
   "metadata": {},
   "source": [
    "## Normalize separately"
   ]
  },
  {
   "cell_type": "code",
   "execution_count": 27,
   "id": "1bce7656-8d81-4c10-b47d-3a978af9dd04",
   "metadata": {},
   "outputs": [],
   "source": [
    "splits = (\n",
    "    tab_train_X,\n",
    "    tab_val_X,\n",
    "    tab_test_X,\n",
    "    temp_train_X,\n",
    "    temp_val_X,\n",
    "    temp_test_X,\n",
    "    comb_train_X,\n",
    "    comb_val_X,\n",
    "    comb_test_X,\n",
    ")\n",
    "\n",
    "for split in splits:\n",
    "    split.fit_normalizer()\n",
    "    split.normalize()\n",
    "\n",
    "(\n",
    "    tab_train_X,\n",
    "    tab_val_X,\n",
    "    tab_test_X,\n",
    "    temp_train_X,\n",
    "    temp_val_X,\n",
    "    temp_test_X,\n",
    "    comb_train_X,\n",
    "    comb_val_X,\n",
    "    comb_test_X,\n",
    ") = splits"
   ]
  },
  {
   "cell_type": "code",
   "execution_count": 28,
   "id": "79d5514f-604c-4aa3-b33c-d3db6d9c6704",
   "metadata": {},
   "outputs": [
    {
     "name": "stderr",
     "output_type": "stream",
     "text": [
      "2023-01-23 15:39:20,965 \u001b[1;37mINFO\u001b[0m cyclops.utils.file - Pickling data to /mnt/nfs/project/delirium/drift_exp/OCT-18-2022/gemini/mortality/./data/4-final/aligned_tab_train_X_day.pkl\n",
      "2023-01-23 15:39:22,013 \u001b[1;37mINFO\u001b[0m cyclops.utils.file - Pickling data to /mnt/nfs/project/delirium/drift_exp/OCT-18-2022/gemini/mortality/./data/4-final/aligned_tab_train_y_day.pkl\n",
      "2023-01-23 15:39:22,846 \u001b[1;37mINFO\u001b[0m cyclops.utils.file - Pickling data to /mnt/nfs/project/delirium/drift_exp/OCT-18-2022/gemini/mortality/./data/4-final/aligned_tab_val_X_day.pkl\n",
      "2023-01-23 15:39:24,061 \u001b[1;37mINFO\u001b[0m cyclops.utils.file - Pickling data to /mnt/nfs/project/delirium/drift_exp/OCT-18-2022/gemini/mortality/./data/4-final/aligned_tab_val_y_day.pkl\n",
      "2023-01-23 15:39:24,510 \u001b[1;37mINFO\u001b[0m cyclops.utils.file - Pickling data to /mnt/nfs/project/delirium/drift_exp/OCT-18-2022/gemini/mortality/./data/4-final/aligned_tab_test_X_day.pkl\n",
      "2023-01-23 15:39:26,457 \u001b[1;37mINFO\u001b[0m cyclops.utils.file - Pickling data to /mnt/nfs/project/delirium/drift_exp/OCT-18-2022/gemini/mortality/./data/4-final/aligned_tab_test_y_day.pkl\n",
      "2023-01-23 15:39:27,499 \u001b[1;37mINFO\u001b[0m cyclops.utils.file - Pickling data to /mnt/nfs/project/delirium/drift_exp/OCT-18-2022/gemini/mortality/./data/4-final/aligned_temp_train_X_day.pkl\n",
      "2023-01-23 15:39:31,528 \u001b[1;37mINFO\u001b[0m cyclops.utils.file - Pickling data to /mnt/nfs/project/delirium/drift_exp/OCT-18-2022/gemini/mortality/./data/4-final/aligned_temp_train_y_day.pkl\n",
      "2023-01-23 15:39:32,546 \u001b[1;37mINFO\u001b[0m cyclops.utils.file - Pickling data to /mnt/nfs/project/delirium/drift_exp/OCT-18-2022/gemini/mortality/./data/4-final/aligned_temp_val_X_day.pkl\n",
      "2023-01-23 15:39:33,867 \u001b[1;37mINFO\u001b[0m cyclops.utils.file - Pickling data to /mnt/nfs/project/delirium/drift_exp/OCT-18-2022/gemini/mortality/./data/4-final/aligned_temp_val_y_day.pkl\n",
      "2023-01-23 15:39:34,167 \u001b[1;37mINFO\u001b[0m cyclops.utils.file - Pickling data to /mnt/nfs/project/delirium/drift_exp/OCT-18-2022/gemini/mortality/./data/4-final/aligned_temp_test_X_day.pkl\n",
      "2023-01-23 15:39:41,211 \u001b[1;37mINFO\u001b[0m cyclops.utils.file - Pickling data to /mnt/nfs/project/delirium/drift_exp/OCT-18-2022/gemini/mortality/./data/4-final/aligned_temp_test_y_day.pkl\n",
      "2023-01-23 15:39:42,011 \u001b[1;37mINFO\u001b[0m cyclops.utils.file - Pickling data to /mnt/nfs/project/delirium/drift_exp/OCT-18-2022/gemini/mortality/./data/4-final/aligned_comb_train_X_day.pkl\n",
      "2023-01-23 15:39:46,705 \u001b[1;37mINFO\u001b[0m cyclops.utils.file - Pickling data to /mnt/nfs/project/delirium/drift_exp/OCT-18-2022/gemini/mortality/./data/4-final/aligned_comb_train_y_day.pkl\n",
      "2023-01-23 15:39:47,099 \u001b[1;37mINFO\u001b[0m cyclops.utils.file - Pickling data to /mnt/nfs/project/delirium/drift_exp/OCT-18-2022/gemini/mortality/./data/4-final/aligned_comb_val_X_day.pkl\n",
      "2023-01-23 15:39:48,713 \u001b[1;37mINFO\u001b[0m cyclops.utils.file - Pickling data to /mnt/nfs/project/delirium/drift_exp/OCT-18-2022/gemini/mortality/./data/4-final/aligned_comb_val_y_day.pkl\n",
      "2023-01-23 15:39:48,912 \u001b[1;37mINFO\u001b[0m cyclops.utils.file - Pickling data to /mnt/nfs/project/delirium/drift_exp/OCT-18-2022/gemini/mortality/./data/4-final/aligned_comb_test_X_day.pkl\n",
      "2023-01-23 15:39:59,500 \u001b[1;37mINFO\u001b[0m cyclops.utils.file - Pickling data to /mnt/nfs/project/delirium/drift_exp/OCT-18-2022/gemini/mortality/./data/4-final/aligned_comb_test_y_day.pkl\n"
     ]
    }
   ],
   "source": [
    "# Store data (serialize)\n",
    "vectorized = [\n",
    "    (tab_train_X, \"tab_train_X_\"+ID),\n",
    "    (tab_train_y, \"tab_train_y_\"+ID),\n",
    "    (tab_val_X, \"tab_val_X_\"+ID),\n",
    "    (tab_val_y, \"tab_val_y_\"+ID),\n",
    "    (tab_test_X, \"tab_test_X_\"+ID),\n",
    "    (tab_test_y, \"tab_test_y_\"+ID),\n",
    "    (temp_train_X, \"temp_train_X_\"+ID),\n",
    "    (temp_train_y, \"temp_train_y_\"+ID),\n",
    "    (temp_val_X, \"temp_val_X_\"+ID),\n",
    "    (temp_val_y, \"temp_val_y_\"+ID),\n",
    "    (temp_test_X, \"temp_test_X_\"+ID),\n",
    "    (temp_test_y, \"temp_test_y_\"+ID),\n",
    "    (comb_train_X, \"comb_train_X_\"+ID),\n",
    "    (comb_train_y, \"comb_train_y_\"+ID),\n",
    "    (comb_val_X, \"comb_val_X_\"+ID),\n",
    "    (comb_val_y, \"comb_val_y_\"+ID),\n",
    "    (comb_test_X, \"comb_test_X_\"+ID),\n",
    "    (comb_test_y, \"comb_test_y_\"+ID),\n",
    "]\n",
    "for vec, name in vectorized:\n",
    "    save_pickle(vec, use_case_params.TAB_VEC_COMB + name + \".pkl\")"
   ]
  },
  {
   "cell_type": "markdown",
   "id": "0326f261-decd-401b-a7d6-80ad1cdfffc6",
   "metadata": {},
   "source": [
    "## Normalize using training data"
   ]
  },
  {
   "cell_type": "code",
   "execution_count": null,
   "id": "2d7671ed-cdda-4386-be38-92979906a048",
   "metadata": {},
   "outputs": [],
   "source": [
    "comb_train_X.fit_normalizer()\n",
    "normalizer = comb_train_X.normalizer\n",
    "save_pickle(normalizer, \"normalizer.pkl\")"
   ]
  },
  {
   "cell_type": "code",
   "execution_count": null,
   "id": "1c4e4422-1ae1-4bc0-8a4e-fcd40a2a251c",
   "metadata": {},
   "outputs": [],
   "source": [
    "splits = (\n",
    "    comb_train_X,\n",
    "    comb_val_X,\n",
    "    comb_test_X,\n",
    ")\n",
    "\n",
    "for split in splits:\n",
    "    split.normalizer = normalizer\n",
    "    split.normalize()\n",
    "\n",
    "(\n",
    "    comb_train_X,\n",
    "    comb_val_X,\n",
    "    comb_test_X,\n",
    ") = splits"
   ]
  },
  {
   "cell_type": "code",
   "execution_count": null,
   "id": "3616198a-3d96-4357-9d59-fc61182236e9",
   "metadata": {},
   "outputs": [],
   "source": [
    "# Store data (serialize)\n",
    "vectorized = [\n",
    "    (comb_train_X, \"comb_train_X_\"+ID),\n",
    "    (comb_train_y, \"comb_train_y_\"+ID),\n",
    "    (comb_val_X, \"comb_val_X_\"+ID),\n",
    "    (comb_val_y, \"comb_val_y_\"+ID),\n",
    "    (comb_test_X, \"comb_test_X_\"+ID),\n",
    "    (comb_test_y, \"comb_test_y_\"+ID),\n",
    "]\n",
    "for vec, name in vectorized:\n",
    "    save_pickle(vec, use_case_params.TAB_VEC_COMB + name + \".pkl\")"
   ]
  }
 ],
 "metadata": {
  "kernelspec": {
   "display_name": "cyclops-KKtuQLwg-py3.9",
   "language": "python",
   "name": "cyclops-kktuqlwg-py3.9"
  },
  "language_info": {
   "codemirror_mode": {
    "name": "ipython",
    "version": 3
   },
   "file_extension": ".py",
   "mimetype": "text/x-python",
   "name": "python",
   "nbconvert_exporter": "python",
   "pygments_lexer": "ipython3",
   "version": "3.9.7"
  }
 },
 "nbformat": 4,
 "nbformat_minor": 5
}
